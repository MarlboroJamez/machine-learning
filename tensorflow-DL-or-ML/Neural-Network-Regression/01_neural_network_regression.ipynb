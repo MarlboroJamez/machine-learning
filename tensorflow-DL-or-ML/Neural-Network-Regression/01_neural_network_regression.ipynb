{
  "nbformat": 4,
  "nbformat_minor": 0,
  "metadata": {
    "colab": {
      "name": "01_neural_network_regression.ipynb",
      "provenance": [],
      "collapsed_sections": []
    },
    "kernelspec": {
      "name": "python3",
      "display_name": "Python 3"
    },
    "language_info": {
      "name": "python"
    }
  },
  "cells": [
    {
      "cell_type": "markdown",
      "source": [
        "# Introduction to Regression with Neural Networks in TensorFlow\n",
        "\n",
        "There are many definitions for a regression problem but in our case, we're going to simplify it: predicting a numerical variable based on some other combination of variables, even shorter... predicting a number."
      ],
      "metadata": {
        "id": "QYgQzNLgxVkU"
      }
    },
    {
      "cell_type": "code",
      "source": [
        "# Import TensorFlow\n",
        "import tensorflow as tf\n",
        "print(tf.__version__)"
      ],
      "metadata": {
        "colab": {
          "base_uri": "https://localhost:8080/"
        },
        "id": "UUkDuwwNxqMK",
        "outputId": "91aa1d83-68be-49c0-f9fb-8fd3a5b23abd"
      },
      "execution_count": 1,
      "outputs": [
        {
          "output_type": "stream",
          "name": "stdout",
          "text": [
            "2.7.0\n"
          ]
        }
      ]
    },
    {
      "cell_type": "markdown",
      "source": [
        "### Creating data to view or fit"
      ],
      "metadata": {
        "id": "qt6mKRwix_2r"
      }
    },
    {
      "cell_type": "code",
      "source": [
        "import numpy as np\n",
        "import matplotlib.pyplot as plt\n",
        "\n",
        "# Create features (usually uppercase X)\n",
        "X = np.array([-7.0, -4.0, -1.0, 2.0, 5.0, 8.0, 11.0, 14.0])\n",
        "\n",
        "# Create labels (usually lowercase y)\n",
        "y = np.array([3.0, 6.0, 9.0, 12.0, 15.0, 18.0, 21.0, 24.0])\n",
        "\n",
        "# Visaulise it\n",
        "plt.scatter(X,y);"
      ],
      "metadata": {
        "colab": {
          "base_uri": "https://localhost:8080/",
          "height": 269
        },
        "id": "XjyyZP3fyCXj",
        "outputId": "c1e37b7c-b157-4e95-c254-16a932385e32"
      },
      "execution_count": 2,
      "outputs": [
        {
          "output_type": "display_data",
          "data": {
            "image/png": "[encoded data removed]",
            "text/plain": [
              "<Figure size 432x288 with 1 Axes>"
            ]
          },
          "metadata": {
            "needs_background": "light"
          }
        }
      ]
    },
    {
      "cell_type": "code",
      "source": [
        "y == X + 10"
      ],
      "metadata": {
        "colab": {
          "base_uri": "https://localhost:8080/"
        },
        "id": "LCjS8Qv5y5wC",
        "outputId": "ccbec006-7237-49e9-f412-9c697927453d"
      },
      "execution_count": 3,
      "outputs": [
        {
          "output_type": "execute_result",
          "data": {
            "text/plain": [
              "array([ True,  True,  True,  True,  True,  True,  True,  True])"
            ]
          },
          "metadata": {},
          "execution_count": 3
        }
      ]
    },
    {
      "cell_type": "markdown",
      "source": [
        "# Input and Output shapes (dependent & independent)"
      ],
      "metadata": {
        "id": "fO9KSQZXzZDK"
      }
    },
    {
      "cell_type": "code",
      "source": [
        "# Create demo tensor for our housing price prediction problem\n",
        "house_info = tf.constant([\"bedroom\", \"bathroom\", \"garage\"])\n",
        "house_price = tf.constant([939700]\n",
        "                          )\n",
        "house_info, house_price"
      ],
      "metadata": {
        "colab": {
          "base_uri": "https://localhost:8080/"
        },
        "id": "EyDIxXB9zHFD",
        "outputId": "0e7c148a-0b6a-4b5d-a2c7-a919e91c6342"
      },
      "execution_count": 4,
      "outputs": [
        {
          "output_type": "execute_result",
          "data": {
            "text/plain": [
              "(<tf.Tensor: shape=(3,), dtype=string, numpy=array([b'bedroom', b'bathroom', b'garage'], dtype=object)>,\n",
              " <tf.Tensor: shape=(1,), dtype=int32, numpy=array([939700], dtype=int32)>)"
            ]
          },
          "metadata": {},
          "execution_count": 4
        }
      ]
    },
    {
      "cell_type": "code",
      "source": [
        "input_shape = X[0].shape\n",
        "output_shape = y[0].shape\n",
        "\n",
        "input_shape, output_shape"
      ],
      "metadata": {
        "colab": {
          "base_uri": "https://localhost:8080/"
        },
        "id": "f8C4-wcRzufI",
        "outputId": "32354480-a0b4-4ef9-cb16-886a7aa8b1f3"
      },
      "execution_count": 5,
      "outputs": [
        {
          "output_type": "execute_result",
          "data": {
            "text/plain": [
              "((), ())"
            ]
          },
          "metadata": {},
          "execution_count": 5
        }
      ]
    },
    {
      "cell_type": "code",
      "source": [
        "# Take note that this would be seen as a scalar due to 0-dimensions\n",
        "X[0].ndim"
      ],
      "metadata": {
        "colab": {
          "base_uri": "https://localhost:8080/"
        },
        "id": "Iosxuzg90enS",
        "outputId": "2863533c-8616-4e44-8215-94673fbbd924"
      },
      "execution_count": 6,
      "outputs": [
        {
          "output_type": "execute_result",
          "data": {
            "text/plain": [
              "0"
            ]
          },
          "metadata": {},
          "execution_count": 6
        }
      ]
    },
    {
      "cell_type": "code",
      "source": [
        "# Turn our numpy arrays into tensors\n",
        "X = tf.cast(tf.constant(X), dtype=tf.float32)\n",
        "y = tf.cast(tf.constant(y), dtype=tf.float32)\n",
        "\n",
        "X,y"
      ],
      "metadata": {
        "colab": {
          "base_uri": "https://localhost:8080/"
        },
        "id": "pK_EGUIJ0-jj",
        "outputId": "0df7c73e-1d68-446a-c7bb-853a685ba804"
      },
      "execution_count": 7,
      "outputs": [
        {
          "output_type": "execute_result",
          "data": {
            "text/plain": [
              "(<tf.Tensor: shape=(8,), dtype=float32, numpy=array([-7., -4., -1.,  2.,  5.,  8., 11., 14.], dtype=float32)>,\n",
              " <tf.Tensor: shape=(8,), dtype=float32, numpy=array([ 3.,  6.,  9., 12., 15., 18., 21., 24.], dtype=float32)>)"
            ]
          },
          "metadata": {},
          "execution_count": 7
        }
      ]
    },
    {
      "cell_type": "code",
      "source": [
        "input_shape = X[0].shape\n",
        "output_shape = y[0].shape\n",
        "\n",
        "input_shape, output_shape"
      ],
      "metadata": {
        "colab": {
          "base_uri": "https://localhost:8080/"
        },
        "id": "C8Ff86qe1INb",
        "outputId": "36056d0a-c7d8-43e5-c867-08669f18ebcc"
      },
      "execution_count": 8,
      "outputs": [
        {
          "output_type": "execute_result",
          "data": {
            "text/plain": [
              "(TensorShape([]), TensorShape([]))"
            ]
          },
          "metadata": {},
          "execution_count": 8
        }
      ]
    },
    {
      "cell_type": "code",
      "source": [
        "plt.scatter(X, y)"
      ],
      "metadata": {
        "colab": {
          "base_uri": "https://localhost:8080/",
          "height": 286
        },
        "id": "cMHbY1Pt1cOC",
        "outputId": "d3fe038d-fbf9-452c-a715-268dbb1a295e"
      },
      "execution_count": 9,
      "outputs": [
        {
          "output_type": "execute_result",
          "data": {
            "text/plain": [
              "<matplotlib.collections.PathCollection at 0x7f4ca8c6ba50>"
            ]
          },
          "metadata": {},
          "execution_count": 9
        },
        {
          "output_type": "display_data",
          "data": {
            "image/png": "[encoded data removed]",
            "text/plain": [
              "<Figure size 432x288 with 1 Axes>"
            ]
          },
          "metadata": {
            "needs_background": "light"
          }
        }
      ]
    },
    {
      "cell_type": "markdown",
      "source": [
        "## Steps in modelling with TensorFlow\n",
        "\n",
        "1. ***Creating a model*** - define the input and output layers as well as the hidden layers of a deep learning model.\n",
        "2. ***Compiling a model*** - define the loss function (in other words, the function which tells our model how wrong it is) and the optimizer (tells our model how to improve the patterns its learning) and evaluation metrics (what we can use to interpret the performence of our model)\n",
        "3. ***Fitting a model*** - letting the model trying to find patterns between X and y (features & labels)\n",
        "\n",
        "### Key terms\n",
        "* ***sequencial API*** => groups a linear stack of layers into a tf.keras.Model, also provides training and inference (conclusion reached) features on this model\n",
        "* ***tf.keras.losses.mae*** => Computes the mean absolute error between labels and predictions (how average are our predictions)\n",
        "* ***mae*** => is short for mean (Avg) absolute (Positive value) error\n",
        "* ***SGD*** => is short for stochastic gradient descent => It is an iterative method for optimizing an objective function with suitable smoothness properties\n"
      ],
      "metadata": {
        "id": "VHqQfdM91fdL"
      }
    },
    {
      "cell_type": "code",
      "source": [
        "# Setting a random seed for reproducibility\n",
        "tf.random.set_seed(42)\n",
        "\n",
        "# 1. Create a model using the \n",
        "model = tf.keras.Sequential([\n",
        "  tf.keras.layers.Dense(1)\n",
        "])\n",
        "\n",
        "# 2. Compile the model\n",
        "model.compile(loss=tf.keras.losses.mae, \n",
        "              optimizer=tf.keras.optimizers.SGD(),\n",
        "              metrics=[\"mae\"])\n",
        "\n",
        "# 3. Fit the model\n",
        "# model.fit(X, y, epochs=5) # this will break with TensorFlow 2.7.0+\n",
        "model.fit(tf.expand_dims(X, axis=-1), y, epochs=5)"
      ],
      "metadata": {
        "colab": {
          "base_uri": "https://localhost:8080/"
        },
        "id": "76UsZ-9g1leO",
        "outputId": "ec95d5e1-7464-49cc-8a9e-e96be75cbf32"
      },
      "execution_count": 10,
      "outputs": [
        {
          "output_type": "stream",
          "name": "stdout",
          "text": [
            "Epoch 1/5\n",
            "1/1 [==============================] - 1s 547ms/step - loss: 11.5048 - mae: 11.5048\n",
            "Epoch 2/5\n",
            "1/1 [==============================] - 0s 4ms/step - loss: 11.3723 - mae: 11.3723\n",
            "Epoch 3/5\n",
            "1/1 [==============================] - 0s 3ms/step - loss: 11.2398 - mae: 11.2398\n",
            "Epoch 4/5\n",
            "1/1 [==============================] - 0s 5ms/step - loss: 11.1073 - mae: 11.1073\n",
            "Epoch 5/5\n",
            "1/1 [==============================] - 0s 4ms/step - loss: 10.9748 - mae: 10.9748\n"
          ]
        },
        {
          "output_type": "execute_result",
          "data": {
            "text/plain": [
              "<keras.callbacks.History at 0x7f4ca45b7a50>"
            ]
          },
          "metadata": {},
          "execution_count": 10
        }
      ]
    },
    {
      "cell_type": "code",
      "source": [
        "# Check out X and y\n",
        "X, y"
      ],
      "metadata": {
        "colab": {
          "base_uri": "https://localhost:8080/"
        },
        "id": "qolykQ40H4E6",
        "outputId": "81282bd4-9c5b-4df0-8ccd-07c5cc545bb0"
      },
      "execution_count": 11,
      "outputs": [
        {
          "output_type": "execute_result",
          "data": {
            "text/plain": [
              "(<tf.Tensor: shape=(8,), dtype=float32, numpy=array([-7., -4., -1.,  2.,  5.,  8., 11., 14.], dtype=float32)>,\n",
              " <tf.Tensor: shape=(8,), dtype=float32, numpy=array([ 3.,  6.,  9., 12., 15., 18., 21., 24.], dtype=float32)>)"
            ]
          },
          "metadata": {},
          "execution_count": 11
        }
      ]
    },
    {
      "cell_type": "code",
      "source": [
        "# Try and make a prediction using our model\n",
        "y_pred = model.predict([17.0])\n",
        "y_pred"
      ],
      "metadata": {
        "colab": {
          "base_uri": "https://localhost:8080/"
        },
        "id": "3HNEaktSH9JS",
        "outputId": "b986be3f-9407-47aa-a011-32a85654b5a7"
      },
      "execution_count": 12,
      "outputs": [
        {
          "output_type": "execute_result",
          "data": {
            "text/plain": [
              "array([[12.716021]], dtype=float32)"
            ]
          },
          "metadata": {},
          "execution_count": 12
        }
      ]
    },
    {
      "cell_type": "code",
      "source": [
        "# Looking at training output, we can see that we are 11 points off on average\n",
        "y_pred + 11 "
      ],
      "metadata": {
        "colab": {
          "base_uri": "https://localhost:8080/"
        },
        "id": "a5TaJBHWIap5",
        "outputId": "c30f69c8-43be-4903-f67a-353d00d98cd5"
      },
      "execution_count": 13,
      "outputs": [
        {
          "output_type": "execute_result",
          "data": {
            "text/plain": [
              "array([[23.71602]], dtype=float32)"
            ]
          },
          "metadata": {},
          "execution_count": 13
        }
      ]
    },
    {
      "cell_type": "markdown",
      "source": [
        "## Improving our model for accuracy\n",
        "\n",
        "To improve our model, we alter almost every part of the 3 steps we went through before.\n",
        "\n",
        "1. ***Creating a model*** - here you might want to add more layers, increase the number of hidden units (also called neurons) within each layer, change the activation functions of each layer.\n",
        "2. ***Compiling a model*** - you might want to choose optimization function or perhaps change the **learning rate** of the optimization function.\n",
        "3. ***Fitting a model*** - perhaps you could fit a model for more **epochs** (leave it training for longer) or on more data (give the model more examples to learn from).\n",
        "\n",
        ">**THE LEARNING RATE IS POTENTIALLY THE MOST IMPORTANT HYPERPARAMETER YOU CAN CHANGE ON ALL OF YOUR NEURAL NETWORKS**\n",
        "\n",
        "![image_2022-01-26_225046.png](data:image/png;base64,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)\n",
        "\n",
        "There are many different ways to potentially improve a neural network. Some of the most common include: increasing the number of layers (making the network deeper), increasing the number of hidden units (making the network wider) and changing the learning rate. Because these values are all human-changeable, they're referred to as hyperparameters) and the practice of trying to find the best hyperparameters is referred to as hyperparameter tuning."
      ],
      "metadata": {
        "id": "2NwvdK-gIvX3"
      }
    },
    {
      "cell_type": "code",
      "source": [
        "# Rebuilding our model to improve accuracy by increasing the cycles (epochs => reference to step 3)\n",
        "tf.random.set_seed(42)\n",
        "\n",
        "# 1. Create a model using the \n",
        "model = tf.keras.Sequential([\n",
        "  tf.keras.layers.Dense(1)\n",
        "])\n",
        "\n",
        "# 2. Compile the model\n",
        "model.compile(loss=tf.keras.losses.mae, \n",
        "              optimizer=tf.keras.optimizers.SGD(),\n",
        "              metrics=[\"mae\"])\n",
        "\n",
        "# 3. Fit the model\n",
        "# model.fit(X, y, epochs=5) # this will break with TensorFlow 2.7.0+\n",
        "model.fit(tf.expand_dims(X, axis=-1), y, epochs=100)"
      ],
      "metadata": {
        "colab": {
          "base_uri": "https://localhost:8080/"
        },
        "id": "gT2pjATyIyaq",
        "outputId": "3b1cde2e-502e-4e1f-99e5-ab143ca282c6"
      },
      "execution_count": 14,
      "outputs": [
        {
          "output_type": "stream",
          "name": "stdout",
          "text": [
            "Epoch 1/100\n",
            "1/1 [==============================] - 0s 223ms/step - loss: 11.5048 - mae: 11.5048\n",
            "Epoch 2/100\n",
            "1/1 [==============================] - 0s 5ms/step - loss: 11.3723 - mae: 11.3723\n",
            "Epoch 3/100\n",
            "1/1 [==============================] - 0s 5ms/step - loss: 11.2398 - mae: 11.2398\n",
            "Epoch 4/100\n",
            "1/1 [==============================] - 0s 4ms/step - loss: 11.1073 - mae: 11.1073\n",
            "Epoch 5/100\n",
            "1/1 [==============================] - 0s 7ms/step - loss: 10.9748 - mae: 10.9748\n",
            "Epoch 6/100\n",
            "1/1 [==============================] - 0s 4ms/step - loss: 10.8423 - mae: 10.8423\n",
            "Epoch 7/100\n",
            "1/1 [==============================] - 0s 4ms/step - loss: 10.7098 - mae: 10.7098\n",
            "Epoch 8/100\n",
            "1/1 [==============================] - 0s 6ms/step - loss: 10.5773 - mae: 10.5773\n",
            "Epoch 9/100\n",
            "1/1 [==============================] - 0s 3ms/step - loss: 10.4448 - mae: 10.4448\n",
            "Epoch 10/100\n",
            "1/1 [==============================] - 0s 3ms/step - loss: 10.3123 - mae: 10.3123\n",
            "Epoch 11/100\n",
            "1/1 [==============================] - 0s 6ms/step - loss: 10.1798 - mae: 10.1798\n",
            "Epoch 12/100\n",
            "1/1 [==============================] - 0s 3ms/step - loss: 10.0473 - mae: 10.0473\n",
            "Epoch 13/100\n",
            "1/1 [==============================] - 0s 3ms/step - loss: 9.9148 - mae: 9.9148\n",
            "Epoch 14/100\n",
            "1/1 [==============================] - 0s 9ms/step - loss: 9.7823 - mae: 9.7823\n",
            "Epoch 15/100\n",
            "1/1 [==============================] - 0s 3ms/step - loss: 9.6498 - mae: 9.6498\n",
            "Epoch 16/100\n",
            "1/1 [==============================] - 0s 3ms/step - loss: 9.5173 - mae: 9.5173\n",
            "Epoch 17/100\n",
            "1/1 [==============================] - 0s 4ms/step - loss: 9.3848 - mae: 9.3848\n",
            "Epoch 18/100\n",
            "1/1 [==============================] - 0s 3ms/step - loss: 9.2523 - mae: 9.2523\n",
            "Epoch 19/100\n",
            "1/1 [==============================] - 0s 5ms/step - loss: 9.1198 - mae: 9.1198\n",
            "Epoch 20/100\n",
            "1/1 [==============================] - 0s 3ms/step - loss: 8.9873 - mae: 8.9873\n",
            "Epoch 21/100\n",
            "1/1 [==============================] - 0s 5ms/step - loss: 8.8548 - mae: 8.8548\n",
            "Epoch 22/100\n",
            "1/1 [==============================] - 0s 7ms/step - loss: 8.7223 - mae: 8.7223\n",
            "Epoch 23/100\n",
            "1/1 [==============================] - 0s 4ms/step - loss: 8.5898 - mae: 8.5898\n",
            "Epoch 24/100\n",
            "1/1 [==============================] - 0s 6ms/step - loss: 8.4573 - mae: 8.4573\n",
            "Epoch 25/100\n",
            "1/1 [==============================] - 0s 3ms/step - loss: 8.3248 - mae: 8.3248\n",
            "Epoch 26/100\n",
            "1/1 [==============================] - 0s 3ms/step - loss: 8.1923 - mae: 8.1923\n",
            "Epoch 27/100\n",
            "1/1 [==============================] - 0s 8ms/step - loss: 8.0598 - mae: 8.0598\n",
            "Epoch 28/100\n",
            "1/1 [==============================] - 0s 3ms/step - loss: 7.9273 - mae: 7.9273\n",
            "Epoch 29/100\n",
            "1/1 [==============================] - 0s 3ms/step - loss: 7.7948 - mae: 7.7948\n",
            "Epoch 30/100\n",
            "1/1 [==============================] - 0s 4ms/step - loss: 7.6623 - mae: 7.6623\n",
            "Epoch 31/100\n",
            "1/1 [==============================] - 0s 5ms/step - loss: 7.5298 - mae: 7.5298\n",
            "Epoch 32/100\n",
            "1/1 [==============================] - 0s 5ms/step - loss: 7.3973 - mae: 7.3973\n",
            "Epoch 33/100\n",
            "1/1 [==============================] - 0s 5ms/step - loss: 7.2648 - mae: 7.2648\n",
            "Epoch 34/100\n",
            "1/1 [==============================] - 0s 9ms/step - loss: 7.2525 - mae: 7.2525\n",
            "Epoch 35/100\n",
            "1/1 [==============================] - 0s 5ms/step - loss: 7.2469 - mae: 7.2469\n",
            "Epoch 36/100\n",
            "1/1 [==============================] - 0s 5ms/step - loss: 7.2413 - mae: 7.2413\n",
            "Epoch 37/100\n",
            "1/1 [==============================] - 0s 5ms/step - loss: 7.2356 - mae: 7.2356\n",
            "Epoch 38/100\n",
            "1/1 [==============================] - 0s 5ms/step - loss: 7.2300 - mae: 7.2300\n",
            "Epoch 39/100\n",
            "1/1 [==============================] - 0s 4ms/step - loss: 7.2244 - mae: 7.2244\n",
            "Epoch 40/100\n",
            "1/1 [==============================] - 0s 6ms/step - loss: 7.2188 - mae: 7.2188\n",
            "Epoch 41/100\n",
            "1/1 [==============================] - 0s 3ms/step - loss: 7.2131 - mae: 7.2131\n",
            "Epoch 42/100\n",
            "1/1 [==============================] - 0s 4ms/step - loss: 7.2075 - mae: 7.2075\n",
            "Epoch 43/100\n",
            "1/1 [==============================] - 0s 5ms/step - loss: 7.2019 - mae: 7.2019\n",
            "Epoch 44/100\n",
            "1/1 [==============================] - 0s 5ms/step - loss: 7.1963 - mae: 7.1963\n",
            "Epoch 45/100\n",
            "1/1 [==============================] - 0s 5ms/step - loss: 7.1906 - mae: 7.1906\n",
            "Epoch 46/100\n",
            "1/1 [==============================] - 0s 3ms/step - loss: 7.1850 - mae: 7.1850\n",
            "Epoch 47/100\n",
            "1/1 [==============================] - 0s 5ms/step - loss: 7.1794 - mae: 7.1794\n",
            "Epoch 48/100\n",
            "1/1 [==============================] - 0s 5ms/step - loss: 7.1738 - mae: 7.1738\n",
            "Epoch 49/100\n",
            "1/1 [==============================] - 0s 5ms/step - loss: 7.1681 - mae: 7.1681\n",
            "Epoch 50/100\n",
            "1/1 [==============================] - 0s 4ms/step - loss: 7.1625 - mae: 7.1625\n",
            "Epoch 51/100\n",
            "1/1 [==============================] - 0s 2ms/step - loss: 7.1569 - mae: 7.1569\n",
            "Epoch 52/100\n",
            "1/1 [==============================] - 0s 4ms/step - loss: 7.1512 - mae: 7.1512\n",
            "Epoch 53/100\n",
            "1/1 [==============================] - 0s 4ms/step - loss: 7.1456 - mae: 7.1456\n",
            "Epoch 54/100\n",
            "1/1 [==============================] - 0s 5ms/step - loss: 7.1400 - mae: 7.1400\n",
            "Epoch 55/100\n",
            "1/1 [==============================] - 0s 3ms/step - loss: 7.1344 - mae: 7.1344\n",
            "Epoch 56/100\n",
            "1/1 [==============================] - 0s 5ms/step - loss: 7.1287 - mae: 7.1287\n",
            "Epoch 57/100\n",
            "1/1 [==============================] - 0s 5ms/step - loss: 7.1231 - mae: 7.1231\n",
            "Epoch 58/100\n",
            "1/1 [==============================] - 0s 5ms/step - loss: 7.1175 - mae: 7.1175\n",
            "Epoch 59/100\n",
            "1/1 [==============================] - 0s 4ms/step - loss: 7.1119 - mae: 7.1119\n",
            "Epoch 60/100\n",
            "1/1 [==============================] - 0s 5ms/step - loss: 7.1063 - mae: 7.1063\n",
            "Epoch 61/100\n",
            "1/1 [==============================] - 0s 5ms/step - loss: 7.1006 - mae: 7.1006\n",
            "Epoch 62/100\n",
            "1/1 [==============================] - 0s 3ms/step - loss: 7.0950 - mae: 7.0950\n",
            "Epoch 63/100\n",
            "1/1 [==============================] - 0s 5ms/step - loss: 7.0894 - mae: 7.0894\n",
            "Epoch 64/100\n",
            "1/1 [==============================] - 0s 5ms/step - loss: 7.0838 - mae: 7.0838\n",
            "Epoch 65/100\n",
            "1/1 [==============================] - 0s 6ms/step - loss: 7.0781 - mae: 7.0781\n",
            "Epoch 66/100\n",
            "1/1 [==============================] - 0s 5ms/step - loss: 7.0725 - mae: 7.0725\n",
            "Epoch 67/100\n",
            "1/1 [==============================] - 0s 3ms/step - loss: 7.0669 - mae: 7.0669\n",
            "Epoch 68/100\n",
            "1/1 [==============================] - 0s 5ms/step - loss: 7.0613 - mae: 7.0613\n",
            "Epoch 69/100\n",
            "1/1 [==============================] - 0s 5ms/step - loss: 7.0556 - mae: 7.0556\n",
            "Epoch 70/100\n",
            "1/1 [==============================] - 0s 6ms/step - loss: 7.0500 - mae: 7.0500\n",
            "Epoch 71/100\n",
            "1/1 [==============================] - 0s 3ms/step - loss: 7.0444 - mae: 7.0444\n",
            "Epoch 72/100\n",
            "1/1 [==============================] - 0s 5ms/step - loss: 7.0388 - mae: 7.0388\n",
            "Epoch 73/100\n",
            "1/1 [==============================] - 0s 3ms/step - loss: 7.0331 - mae: 7.0331\n",
            "Epoch 74/100\n",
            "1/1 [==============================] - 0s 5ms/step - loss: 7.0275 - mae: 7.0275\n",
            "Epoch 75/100\n",
            "1/1 [==============================] - 0s 3ms/step - loss: 7.0219 - mae: 7.0219\n",
            "Epoch 76/100\n",
            "1/1 [==============================] - 0s 5ms/step - loss: 7.0163 - mae: 7.0163\n",
            "Epoch 77/100\n",
            "1/1 [==============================] - 0s 3ms/step - loss: 7.0106 - mae: 7.0106\n",
            "Epoch 78/100\n",
            "1/1 [==============================] - 0s 3ms/step - loss: 7.0050 - mae: 7.0050\n",
            "Epoch 79/100\n",
            "1/1 [==============================] - 0s 5ms/step - loss: 6.9994 - mae: 6.9994\n",
            "Epoch 80/100\n",
            "1/1 [==============================] - 0s 3ms/step - loss: 6.9938 - mae: 6.9938\n",
            "Epoch 81/100\n",
            "1/1 [==============================] - 0s 5ms/step - loss: 6.9881 - mae: 6.9881\n",
            "Epoch 82/100\n",
            "1/1 [==============================] - 0s 3ms/step - loss: 6.9825 - mae: 6.9825\n",
            "Epoch 83/100\n",
            "1/1 [==============================] - 0s 6ms/step - loss: 6.9769 - mae: 6.9769\n",
            "Epoch 84/100\n",
            "1/1 [==============================] - 0s 3ms/step - loss: 6.9713 - mae: 6.9713\n",
            "Epoch 85/100\n",
            "1/1 [==============================] - 0s 3ms/step - loss: 6.9656 - mae: 6.9656\n",
            "Epoch 86/100\n",
            "1/1 [==============================] - 0s 3ms/step - loss: 6.9600 - mae: 6.9600\n",
            "Epoch 87/100\n",
            "1/1 [==============================] - 0s 8ms/step - loss: 6.9544 - mae: 6.9544\n",
            "Epoch 88/100\n",
            "1/1 [==============================] - 0s 3ms/step - loss: 6.9488 - mae: 6.9488\n",
            "Epoch 89/100\n",
            "1/1 [==============================] - 0s 7ms/step - loss: 6.9431 - mae: 6.9431\n",
            "Epoch 90/100\n",
            "1/1 [==============================] - 0s 18ms/step - loss: 6.9375 - mae: 6.9375\n",
            "Epoch 91/100\n",
            "1/1 [==============================] - 0s 5ms/step - loss: 6.9319 - mae: 6.9319\n",
            "Epoch 92/100\n",
            "1/1 [==============================] - 0s 9ms/step - loss: 6.9263 - mae: 6.9263\n",
            "Epoch 93/100\n",
            "1/1 [==============================] - 0s 6ms/step - loss: 6.9206 - mae: 6.9206\n",
            "Epoch 94/100\n",
            "1/1 [==============================] - 0s 4ms/step - loss: 6.9150 - mae: 6.9150\n",
            "Epoch 95/100\n",
            "1/1 [==============================] - 0s 3ms/step - loss: 6.9094 - mae: 6.9094\n",
            "Epoch 96/100\n",
            "1/1 [==============================] - 0s 13ms/step - loss: 6.9038 - mae: 6.9038\n",
            "Epoch 97/100\n",
            "1/1 [==============================] - 0s 4ms/step - loss: 6.8981 - mae: 6.8981\n",
            "Epoch 98/100\n",
            "1/1 [==============================] - 0s 8ms/step - loss: 6.8925 - mae: 6.8925\n",
            "Epoch 99/100\n",
            "1/1 [==============================] - 0s 7ms/step - loss: 6.8869 - mae: 6.8869\n",
            "Epoch 100/100\n",
            "1/1 [==============================] - 0s 13ms/step - loss: 6.8813 - mae: 6.8813\n"
          ]
        },
        {
          "output_type": "execute_result",
          "data": {
            "text/plain": [
              "<keras.callbacks.History at 0x7f4ca2d4c690>"
            ]
          },
          "metadata": {},
          "execution_count": 14
        }
      ]
    },
    {
      "cell_type": "code",
      "source": [
        "# Remind ourselves of the data\n",
        "X, y"
      ],
      "metadata": {
        "colab": {
          "base_uri": "https://localhost:8080/"
        },
        "id": "QMYyv1rAORRT",
        "outputId": "c7ef5f89-3b7d-4a62-c061-d40391e4aaaa"
      },
      "execution_count": 15,
      "outputs": [
        {
          "output_type": "execute_result",
          "data": {
            "text/plain": [
              "(<tf.Tensor: shape=(8,), dtype=float32, numpy=array([-7., -4., -1.,  2.,  5.,  8., 11., 14.], dtype=float32)>,\n",
              " <tf.Tensor: shape=(8,), dtype=float32, numpy=array([ 3.,  6.,  9., 12., 15., 18., 21., 24.], dtype=float32)>)"
            ]
          },
          "metadata": {},
          "execution_count": 15
        }
      ]
    },
    {
      "cell_type": "code",
      "source": [
        "# Checking if our model prediction has improved\n",
        "model.predict([17.0]) # Closer to hitting 27!"
      ],
      "metadata": {
        "colab": {
          "base_uri": "https://localhost:8080/"
        },
        "id": "6nRUr5-KOXJ5",
        "outputId": "66d140c3-76a7-4f7c-c8d0-103d2d117549"
      },
      "execution_count": 16,
      "outputs": [
        {
          "output_type": "execute_result",
          "data": {
            "text/plain": [
              "array([[30.158512]], dtype=float32)"
            ]
          },
          "metadata": {},
          "execution_count": 16
        }
      ]
    },
    {
      "cell_type": "code",
      "source": [
        "# Improving the model => Important: Make small changes rather large changes to the model\n",
        "tf.random.set_seed(42)\n",
        "\n",
        "# Create the model\n",
        "model = tf.keras.Sequential([\n",
        "  tf.keras.layers.Dense(50, activation=None),\n",
        "  tf.keras.layers.Dense(1)\n",
        "])\n",
        "\n",
        "# Create the compiler\n",
        "model.compile(loss='mae',\n",
        "              optimizer=tf.keras.optimizers.Adam(lr=0.01),\n",
        "              metrics=['mae'])\n",
        "\n",
        "# Fit the model (expand dimension due to TensorFlow 2.7.0 +)\n",
        "model.fit(tf.expand_dims(X, axis=-1), y, epochs=100)"
      ],
      "metadata": {
        "colab": {
          "base_uri": "https://localhost:8080/"
        },
        "id": "ZrOmN6m2Ov3B",
        "outputId": "9632491f-62be-4aaf-a447-8c5a01842bf3"
      },
      "execution_count": 17,
      "outputs": [
        {
          "output_type": "stream",
          "name": "stderr",
          "text": [
            "/usr/local/lib/python3.7/dist-packages/keras/optimizer_v2/adam.py:105: UserWarning: The `lr` argument is deprecated, use `learning_rate` instead.\n",
            "  super(Adam, self).__init__(name, **kwargs)\n"
          ]
        },
        {
          "output_type": "stream",
          "name": "stdout",
          "text": [
            "Epoch 1/100\n",
            "1/1 [==============================] - 0s 314ms/step - loss: 13.1820 - mae: 13.1820\n",
            "Epoch 2/100\n",
            "1/1 [==============================] - 0s 5ms/step - loss: 12.5071 - mae: 12.5071\n",
            "Epoch 3/100\n",
            "1/1 [==============================] - 0s 4ms/step - loss: 11.8279 - mae: 11.8279\n",
            "Epoch 4/100\n",
            "1/1 [==============================] - 0s 5ms/step - loss: 11.1425 - mae: 11.1425\n",
            "Epoch 5/100\n",
            "1/1 [==============================] - 0s 7ms/step - loss: 10.4485 - mae: 10.4485\n",
            "Epoch 6/100\n",
            "1/1 [==============================] - 0s 13ms/step - loss: 9.7427 - mae: 9.7427\n",
            "Epoch 7/100\n",
            "1/1 [==============================] - 0s 6ms/step - loss: 9.0218 - mae: 9.0218\n",
            "Epoch 8/100\n",
            "1/1 [==============================] - 0s 5ms/step - loss: 8.2826 - mae: 8.2826\n",
            "Epoch 9/100\n",
            "1/1 [==============================] - 0s 8ms/step - loss: 7.5221 - mae: 7.5221\n",
            "Epoch 10/100\n",
            "1/1 [==============================] - 0s 6ms/step - loss: 6.7841 - mae: 6.7841\n",
            "Epoch 11/100\n",
            "1/1 [==============================] - 0s 5ms/step - loss: 6.7505 - mae: 6.7505\n",
            "Epoch 12/100\n",
            "1/1 [==============================] - 0s 5ms/step - loss: 7.0302 - mae: 7.0302\n",
            "Epoch 13/100\n",
            "1/1 [==============================] - 0s 4ms/step - loss: 7.1931 - mae: 7.1931\n",
            "Epoch 14/100\n",
            "1/1 [==============================] - 0s 6ms/step - loss: 7.2735 - mae: 7.2735\n",
            "Epoch 15/100\n",
            "1/1 [==============================] - 0s 5ms/step - loss: 7.2165 - mae: 7.2165\n",
            "Epoch 16/100\n",
            "1/1 [==============================] - 0s 6ms/step - loss: 7.0282 - mae: 7.0282\n",
            "Epoch 17/100\n",
            "1/1 [==============================] - 0s 4ms/step - loss: 6.8275 - mae: 6.8275\n",
            "Epoch 18/100\n",
            "1/1 [==============================] - 0s 4ms/step - loss: 6.5956 - mae: 6.5956\n",
            "Epoch 19/100\n",
            "1/1 [==============================] - 0s 7ms/step - loss: 6.3389 - mae: 6.3389\n",
            "Epoch 20/100\n",
            "1/1 [==============================] - 0s 5ms/step - loss: 6.0742 - mae: 6.0742\n",
            "Epoch 21/100\n",
            "1/1 [==============================] - 0s 7ms/step - loss: 6.0195 - mae: 6.0195\n",
            "Epoch 22/100\n",
            "1/1 [==============================] - 0s 4ms/step - loss: 5.9610 - mae: 5.9610\n",
            "Epoch 23/100\n",
            "1/1 [==============================] - 0s 5ms/step - loss: 6.0150 - mae: 6.0150\n",
            "Epoch 24/100\n",
            "1/1 [==============================] - 0s 3ms/step - loss: 6.0147 - mae: 6.0147\n",
            "Epoch 25/100\n",
            "1/1 [==============================] - 0s 6ms/step - loss: 5.9085 - mae: 5.9085\n",
            "Epoch 26/100\n",
            "1/1 [==============================] - 0s 4ms/step - loss: 5.7090 - mae: 5.7090\n",
            "Epoch 27/100\n",
            "1/1 [==============================] - 0s 4ms/step - loss: 5.5382 - mae: 5.5382\n",
            "Epoch 28/100\n",
            "1/1 [==============================] - 0s 4ms/step - loss: 5.4295 - mae: 5.4295\n",
            "Epoch 29/100\n",
            "1/1 [==============================] - 0s 5ms/step - loss: 5.3177 - mae: 5.3177\n",
            "Epoch 30/100\n",
            "1/1 [==============================] - 0s 4ms/step - loss: 5.3173 - mae: 5.3173\n",
            "Epoch 31/100\n",
            "1/1 [==============================] - 0s 4ms/step - loss: 5.2878 - mae: 5.2878\n",
            "Epoch 32/100\n",
            "1/1 [==============================] - 0s 6ms/step - loss: 5.2103 - mae: 5.2103\n",
            "Epoch 33/100\n",
            "1/1 [==============================] - 0s 4ms/step - loss: 5.0890 - mae: 5.0890\n",
            "Epoch 34/100\n",
            "1/1 [==============================] - 0s 4ms/step - loss: 4.9280 - mae: 4.9280\n",
            "Epoch 35/100\n",
            "1/1 [==============================] - 0s 4ms/step - loss: 4.7312 - mae: 4.7312\n",
            "Epoch 36/100\n",
            "1/1 [==============================] - 0s 4ms/step - loss: 4.6041 - mae: 4.6041\n",
            "Epoch 37/100\n",
            "1/1 [==============================] - 0s 6ms/step - loss: 4.5056 - mae: 4.5056\n",
            "Epoch 38/100\n",
            "1/1 [==============================] - 0s 4ms/step - loss: 4.4017 - mae: 4.4017\n",
            "Epoch 39/100\n",
            "1/1 [==============================] - 0s 4ms/step - loss: 4.2958 - mae: 4.2958\n",
            "Epoch 40/100\n",
            "1/1 [==============================] - 0s 4ms/step - loss: 4.1313 - mae: 4.1313\n",
            "Epoch 41/100\n",
            "1/1 [==============================] - 0s 8ms/step - loss: 3.9818 - mae: 3.9818\n",
            "Epoch 42/100\n",
            "1/1 [==============================] - 0s 5ms/step - loss: 3.8253 - mae: 3.8253\n",
            "Epoch 43/100\n",
            "1/1 [==============================] - 0s 5ms/step - loss: 3.6671 - mae: 3.6671\n",
            "Epoch 44/100\n",
            "1/1 [==============================] - 0s 4ms/step - loss: 3.5365 - mae: 3.5365\n",
            "Epoch 45/100\n",
            "1/1 [==============================] - 0s 4ms/step - loss: 3.3534 - mae: 3.3534\n",
            "Epoch 46/100\n",
            "1/1 [==============================] - 0s 4ms/step - loss: 3.1903 - mae: 3.1903\n",
            "Epoch 47/100\n",
            "1/1 [==============================] - 0s 5ms/step - loss: 3.0254 - mae: 3.0254\n",
            "Epoch 48/100\n",
            "1/1 [==============================] - 0s 5ms/step - loss: 2.8499 - mae: 2.8499\n",
            "Epoch 49/100\n",
            "1/1 [==============================] - 0s 5ms/step - loss: 2.6844 - mae: 2.6844\n",
            "Epoch 50/100\n",
            "1/1 [==============================] - 0s 4ms/step - loss: 2.4541 - mae: 2.4541\n",
            "Epoch 51/100\n",
            "1/1 [==============================] - 0s 5ms/step - loss: 2.2346 - mae: 2.2346\n",
            "Epoch 52/100\n",
            "1/1 [==============================] - 0s 5ms/step - loss: 2.0468 - mae: 2.0468\n",
            "Epoch 53/100\n",
            "1/1 [==============================] - 0s 6ms/step - loss: 1.8348 - mae: 1.8348\n",
            "Epoch 54/100\n",
            "1/1 [==============================] - 0s 6ms/step - loss: 1.5549 - mae: 1.5549\n",
            "Epoch 55/100\n",
            "1/1 [==============================] - 0s 7ms/step - loss: 1.3570 - mae: 1.3570\n",
            "Epoch 56/100\n",
            "1/1 [==============================] - 0s 4ms/step - loss: 1.1130 - mae: 1.1130\n",
            "Epoch 57/100\n",
            "1/1 [==============================] - 0s 4ms/step - loss: 0.8263 - mae: 0.8263\n",
            "Epoch 58/100\n",
            "1/1 [==============================] - 0s 5ms/step - loss: 0.6080 - mae: 0.6080\n",
            "Epoch 59/100\n",
            "1/1 [==============================] - 0s 4ms/step - loss: 0.2654 - mae: 0.2654\n",
            "Epoch 60/100\n",
            "1/1 [==============================] - 0s 5ms/step - loss: 0.1994 - mae: 0.1994\n",
            "Epoch 61/100\n",
            "1/1 [==============================] - 0s 5ms/step - loss: 0.3319 - mae: 0.3319\n",
            "Epoch 62/100\n",
            "1/1 [==============================] - 0s 6ms/step - loss: 0.5022 - mae: 0.5022\n",
            "Epoch 63/100\n",
            "1/1 [==============================] - 0s 9ms/step - loss: 0.6316 - mae: 0.6316\n",
            "Epoch 64/100\n",
            "1/1 [==============================] - 0s 6ms/step - loss: 0.7575 - mae: 0.7575\n",
            "Epoch 65/100\n",
            "1/1 [==============================] - 0s 8ms/step - loss: 0.6993 - mae: 0.6993\n",
            "Epoch 66/100\n",
            "1/1 [==============================] - 0s 6ms/step - loss: 0.8384 - mae: 0.8384\n",
            "Epoch 67/100\n",
            "1/1 [==============================] - 0s 14ms/step - loss: 0.8231 - mae: 0.8231\n",
            "Epoch 68/100\n",
            "1/1 [==============================] - 0s 4ms/step - loss: 0.6088 - mae: 0.6088\n",
            "Epoch 69/100\n",
            "1/1 [==============================] - 0s 5ms/step - loss: 0.6624 - mae: 0.6624\n",
            "Epoch 70/100\n",
            "1/1 [==============================] - 0s 6ms/step - loss: 0.6882 - mae: 0.6882\n",
            "Epoch 71/100\n",
            "1/1 [==============================] - 0s 5ms/step - loss: 0.4096 - mae: 0.4096\n",
            "Epoch 72/100\n",
            "1/1 [==============================] - 0s 11ms/step - loss: 0.2376 - mae: 0.2376\n",
            "Epoch 73/100\n",
            "1/1 [==============================] - 0s 4ms/step - loss: 0.4573 - mae: 0.4573\n",
            "Epoch 74/100\n",
            "1/1 [==============================] - 0s 3ms/step - loss: 0.3699 - mae: 0.3699\n",
            "Epoch 75/100\n",
            "1/1 [==============================] - 0s 6ms/step - loss: 0.3439 - mae: 0.3439\n",
            "Epoch 76/100\n",
            "1/1 [==============================] - 0s 4ms/step - loss: 0.5023 - mae: 0.5023\n",
            "Epoch 77/100\n",
            "1/1 [==============================] - 0s 6ms/step - loss: 0.4859 - mae: 0.4859\n",
            "Epoch 78/100\n",
            "1/1 [==============================] - 0s 4ms/step - loss: 0.3219 - mae: 0.3219\n",
            "Epoch 79/100\n",
            "1/1 [==============================] - 0s 6ms/step - loss: 0.3975 - mae: 0.3975\n",
            "Epoch 80/100\n",
            "1/1 [==============================] - 0s 6ms/step - loss: 0.3645 - mae: 0.3645\n",
            "Epoch 81/100\n",
            "1/1 [==============================] - 0s 4ms/step - loss: 0.1428 - mae: 0.1428\n",
            "Epoch 82/100\n",
            "1/1 [==============================] - 0s 5ms/step - loss: 0.0749 - mae: 0.0749\n",
            "Epoch 83/100\n",
            "1/1 [==============================] - 0s 4ms/step - loss: 0.1437 - mae: 0.1437\n",
            "Epoch 84/100\n",
            "1/1 [==============================] - 0s 7ms/step - loss: 0.1804 - mae: 0.1804\n",
            "Epoch 85/100\n",
            "1/1 [==============================] - 0s 4ms/step - loss: 0.3013 - mae: 0.3013\n",
            "Epoch 86/100\n",
            "1/1 [==============================] - 0s 6ms/step - loss: 0.2711 - mae: 0.2711\n",
            "Epoch 87/100\n",
            "1/1 [==============================] - 0s 3ms/step - loss: 0.2547 - mae: 0.2547\n",
            "Epoch 88/100\n",
            "1/1 [==============================] - 0s 5ms/step - loss: 0.2350 - mae: 0.2350\n",
            "Epoch 89/100\n",
            "1/1 [==============================] - 0s 7ms/step - loss: 0.0871 - mae: 0.0871\n",
            "Epoch 90/100\n",
            "1/1 [==============================] - 0s 4ms/step - loss: 0.0687 - mae: 0.0687\n",
            "Epoch 91/100\n",
            "1/1 [==============================] - 0s 6ms/step - loss: 0.2191 - mae: 0.2191\n",
            "Epoch 92/100\n",
            "1/1 [==============================] - 0s 6ms/step - loss: 0.2195 - mae: 0.2195\n",
            "Epoch 93/100\n",
            "1/1 [==============================] - 0s 6ms/step - loss: 0.2530 - mae: 0.2530\n",
            "Epoch 94/100\n",
            "1/1 [==============================] - 0s 4ms/step - loss: 0.2993 - mae: 0.2993\n",
            "Epoch 95/100\n",
            "1/1 [==============================] - 0s 7ms/step - loss: 0.1965 - mae: 0.1965\n",
            "Epoch 96/100\n",
            "1/1 [==============================] - 0s 4ms/step - loss: 0.2204 - mae: 0.2204\n",
            "Epoch 97/100\n",
            "1/1 [==============================] - 0s 7ms/step - loss: 0.1981 - mae: 0.1981\n",
            "Epoch 98/100\n",
            "1/1 [==============================] - 0s 3ms/step - loss: 0.1086 - mae: 0.1086\n",
            "Epoch 99/100\n",
            "1/1 [==============================] - 0s 7ms/step - loss: 0.1370 - mae: 0.1370\n",
            "Epoch 100/100\n",
            "1/1 [==============================] - 0s 3ms/step - loss: 0.1814 - mae: 0.1814\n"
          ]
        },
        {
          "output_type": "execute_result",
          "data": {
            "text/plain": [
              "<keras.callbacks.History at 0x7f4ca3bdac90>"
            ]
          },
          "metadata": {},
          "execution_count": 17
        }
      ]
    },
    {
      "cell_type": "code",
      "source": [
        "# Remind ourselves by the data\n",
        "X, y"
      ],
      "metadata": {
        "colab": {
          "base_uri": "https://localhost:8080/"
        },
        "id": "dOrV9WgrRbEJ",
        "outputId": "573fde6f-9df4-4c45-eeea-ec363222e497"
      },
      "execution_count": 18,
      "outputs": [
        {
          "output_type": "execute_result",
          "data": {
            "text/plain": [
              "(<tf.Tensor: shape=(8,), dtype=float32, numpy=array([-7., -4., -1.,  2.,  5.,  8., 11., 14.], dtype=float32)>,\n",
              " <tf.Tensor: shape=(8,), dtype=float32, numpy=array([ 3.,  6.,  9., 12., 15., 18., 21., 24.], dtype=float32)>)"
            ]
          },
          "metadata": {},
          "execution_count": 18
        }
      ]
    },
    {
      "cell_type": "code",
      "source": [
        "# Let's try a predcition => Previous prediction was 31.4\n",
        "\n",
        "#Changes\n",
        "# Decrease the hidden Units, changed activation function to None\n",
        "# Changed Optimization function to Adam() and increased our learning rate to 0.01\n",
        "\n",
        "# Take NOTE:\n",
        "# Our model is over fitting, due to learning the training data to well (learning the patterns betweens X & y far to well)\n",
        "# when it sees a new X it's just relating back to what it knows already, and the MAE produced during training isn't really\n",
        "# a valid reprenstation on what it's actually doing.\n",
        "\n",
        "\n",
        "model.predict([17.0])"
      ],
      "metadata": {
        "colab": {
          "base_uri": "https://localhost:8080/"
        },
        "id": "kLFtX9J7Tcwp",
        "outputId": "e047c2dd-9a71-4bea-fd29-24e6f7a967e7"
      },
      "execution_count": 19,
      "outputs": [
        {
          "output_type": "execute_result",
          "data": {
            "text/plain": [
              "array([[27.216782]], dtype=float32)"
            ]
          },
          "metadata": {},
          "execution_count": 19
        }
      ]
    },
    {
      "cell_type": "markdown",
      "source": [
        "## Evaluating a models performence\n",
        "A typical workflow going through when building neural networks is:\n",
        ">Build a model -> evaluate it -> build (tweak) a model -> evaulate it -> build (tweak) a model -> evaluate it...\n",
        "\n",
        "The tweaking comes from maybe not building a model from scratch but adjusting an existing one.\n",
        "\n",
        "*When it comes to evaluation... there are 3 words you should memorize:*\n",
        "\n",
        "> \"Visualize, visualize, visualize\"\n",
        "\n",
        "It's a good idea to visualize:\n",
        "* **The data** - what data are we working with? what does it look like?\n",
        "* **The model itself** - what does our model look like?\n",
        "* **The training of the model** - how does a model perform while it learns?\n",
        "* **The predictions of the model** - how do the predictions of a model line up against the ground truth (the original labels)?"
      ],
      "metadata": {
        "id": "7QEbEJyyXB-R"
      }
    },
    {
      "cell_type": "code",
      "source": [
        "# Making a bigger data set\n",
        "X = tf.range(-100, 100, 4)\n",
        "X"
      ],
      "metadata": {
        "colab": {
          "base_uri": "https://localhost:8080/"
        },
        "id": "2KFNRRV2XGn5",
        "outputId": "bb7c1401-e02e-4299-c450-dd58ffabb71f"
      },
      "execution_count": 20,
      "outputs": [
        {
          "output_type": "execute_result",
          "data": {
            "text/plain": [
              "<tf.Tensor: shape=(50,), dtype=int32, numpy=\n",
              "array([-100,  -96,  -92,  -88,  -84,  -80,  -76,  -72,  -68,  -64,  -60,\n",
              "        -56,  -52,  -48,  -44,  -40,  -36,  -32,  -28,  -24,  -20,  -16,\n",
              "        -12,   -8,   -4,    0,    4,    8,   12,   16,   20,   24,   28,\n",
              "         32,   36,   40,   44,   48,   52,   56,   60,   64,   68,   72,\n",
              "         76,   80,   84,   88,   92,   96], dtype=int32)>"
            ]
          },
          "metadata": {},
          "execution_count": 20
        }
      ]
    },
    {
      "cell_type": "code",
      "source": [
        "# Make labels for the data set \n",
        "\n",
        "# formula of our pattern to learn \n",
        "y = X + 10\n",
        "y"
      ],
      "metadata": {
        "colab": {
          "base_uri": "https://localhost:8080/"
        },
        "id": "zlpDc60cejjs",
        "outputId": "9eb613af-921f-47c2-db5a-65f81f35e992"
      },
      "execution_count": 21,
      "outputs": [
        {
          "output_type": "execute_result",
          "data": {
            "text/plain": [
              "<tf.Tensor: shape=(50,), dtype=int32, numpy=\n",
              "array([-90, -86, -82, -78, -74, -70, -66, -62, -58, -54, -50, -46, -42,\n",
              "       -38, -34, -30, -26, -22, -18, -14, -10,  -6,  -2,   2,   6,  10,\n",
              "        14,  18,  22,  26,  30,  34,  38,  42,  46,  50,  54,  58,  62,\n",
              "        66,  70,  74,  78,  82,  86,  90,  94,  98, 102, 106], dtype=int32)>"
            ]
          },
          "metadata": {},
          "execution_count": 21
        }
      ]
    },
    {
      "cell_type": "code",
      "source": [
        "# Visualize the data\n",
        "import matplotlib.pyplot as plt\n",
        "plt.scatter(X, y)"
      ],
      "metadata": {
        "colab": {
          "base_uri": "https://localhost:8080/",
          "height": 282
        },
        "id": "gA2RapR_evK6",
        "outputId": "7414c7d2-8cb6-4c02-b7cf-a3a46e3b7164"
      },
      "execution_count": 22,
      "outputs": [
        {
          "output_type": "execute_result",
          "data": {
            "text/plain": [
              "<matplotlib.collections.PathCollection at 0x7f4ca4487a10>"
            ]
          },
          "metadata": {},
          "execution_count": 22
        },
        {
          "output_type": "display_data",
          "data": {
            "image/png": "[encoded data removed]",
            "text/plain": [
              "<Figure size 432x288 with 1 Axes>"
            ]
          },
          "metadata": {
            "needs_background": "light"
          }
        }
      ]
    },
    {
      "cell_type": "markdown",
      "source": [
        "### The 3 sets...\n",
        "\n",
        "* **Training set** - the model learns from this data, which is typically 70-80% of the total data you have avialable\n",
        "* **Validation set** - the model gets tuned on this data, which is typically 10-15% of the data available\n",
        "* **Test set** - the model gets evaluated on this data to test what it has learned, this set is typically 10-15% of the total data available\n",
        "\n",
        "![image_2022-01-27_003142.png](data:image/png;base64,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)"
      ],
      "metadata": {
        "id": "tdcgtFl-fPky"
      }
    },
    {
      "cell_type": "code",
      "source": [
        "# Check the length of how many samples we have\n",
        "len(X)"
      ],
      "metadata": {
        "colab": {
          "base_uri": "https://localhost:8080/"
        },
        "id": "1qMmAYnwhCtD",
        "outputId": "68c8091b-eaa6-4439-e938-e3224019937c"
      },
      "execution_count": 23,
      "outputs": [
        {
          "output_type": "execute_result",
          "data": {
            "text/plain": [
              "50"
            ]
          },
          "metadata": {},
          "execution_count": 23
        }
      ]
    },
    {
      "cell_type": "code",
      "source": [
        "# Split the data into train and test sets\n",
        "X_train = X[:40] # First 40 are training samples (80% of the data)\n",
        "y_train = y[:40]\n",
        "\n",
        "X_test = X[40:] # last 10 are testing samples (20% of data)\n",
        "y_test = y[40:]\n",
        "\n",
        "len(X_train), len(X_test), len(y_train), len(y_test)"
      ],
      "metadata": {
        "colab": {
          "base_uri": "https://localhost:8080/"
        },
        "id": "R-IONxDvhVjT",
        "outputId": "96c203d8-dd43-44cf-c3bd-ea2b180e11cf"
      },
      "execution_count": 24,
      "outputs": [
        {
          "output_type": "execute_result",
          "data": {
            "text/plain": [
              "(40, 10, 40, 10)"
            ]
          },
          "metadata": {},
          "execution_count": 24
        }
      ]
    },
    {
      "cell_type": "markdown",
      "source": [
        "### Visualizing the data\n",
        "\n",
        "Now we've got our data in training and test sets, let's visualize it again."
      ],
      "metadata": {
        "id": "kuperunaiUER"
      }
    },
    {
      "cell_type": "code",
      "source": [
        "# Plotting two samples of data\n",
        "\n",
        "# setting the size of the diagram\n",
        "plt.figure(figsize=(10,7))\n",
        "\n",
        "# Plot training data in blue\n",
        "plt.scatter(X_train, y_train, c=\"b\", label=\"Training data\")\n",
        "\n",
        "# Plot test data in green\n",
        "plt.scatter(X_test, y_test, c=\"g\", label=\"Testing data\")\n",
        "\n",
        "# Show a legend\n",
        "plt.legend()"
      ],
      "metadata": {
        "colab": {
          "base_uri": "https://localhost:8080/",
          "height": 445
        },
        "id": "MLvV12_Fib41",
        "outputId": "830d3678-f1f9-499e-ecef-d8272f625c72"
      },
      "execution_count": 25,
      "outputs": [
        {
          "output_type": "execute_result",
          "data": {
            "text/plain": [
              "<matplotlib.legend.Legend at 0x7f4ca2d5cd10>"
            ]
          },
          "metadata": {},
          "execution_count": 25
        },
        {
          "output_type": "display_data",
          "data": {
            "image/png": "[encoded data removed]",
            "text/plain": [
              "<Figure size 720x504 with 1 Axes>"
            ]
          },
          "metadata": {
            "needs_background": "light"
          }
        }
      ]
    },
    {
      "cell_type": "code",
      "source": [
        "# Let's check how we can build a Neural Network for our data\n",
        "\n",
        "# Set seed\n",
        "tf.random.set_seed(42)\n",
        "\n",
        "# Create the model\n",
        "model = tf.keras.Sequential([\n",
        "    tf.keras.layers.Dense(1)\n",
        "])\n",
        "\n",
        "# Compile the model\n",
        "model.compile(loss='mae',\n",
        "              optimizer=tf.keras.optimizers.SGD(),\n",
        "              metrics=['mae'])\n",
        "\n",
        "# Fit the model (TensorFlow 2.0+ is needed with one dimension atleast)\n",
        "# model.fit(tf.expand_dims(X_train, axis=-1), y_train, epochs=100)"
      ],
      "metadata": {
        "id": "uFRllQsDHGwV"
      },
      "execution_count": 26,
      "outputs": []
    },
    {
      "cell_type": "markdown",
      "source": [
        "# Visualizing the model"
      ],
      "metadata": {
        "id": "qIJPu_k_Id5O"
      }
    },
    {
      "cell_type": "code",
      "source": [
        "model.summary() # Meant to error :)"
      ],
      "metadata": {
        "colab": {
          "base_uri": "https://localhost:8080/",
          "height": 287
        },
        "id": "1SQqq5LwIgkY",
        "outputId": "f22325d4-ab43-4d95-ec2e-5b64fd80509b"
      },
      "execution_count": 27,
      "outputs": [
        {
          "output_type": "error",
          "ename": "ValueError",
          "evalue": "ignored",
          "traceback": [
            "\u001b[0;31m---------------------------------------------------------------------------\u001b[0m",
            "\u001b[0;31mValueError\u001b[0m                                Traceback (most recent call last)",
            "\u001b[0;32m<ipython-input-27-ba116be28600>\u001b[0m in \u001b[0;36m<module>\u001b[0;34m()\u001b[0m\n\u001b[0;32m----> 1\u001b[0;31m \u001b[0mmodel\u001b[0m\u001b[0;34m.\u001b[0m\u001b[0msummary\u001b[0m\u001b[0;34m(\u001b[0m\u001b[0;34m)\u001b[0m \u001b[0;31m# Meant to error :)\u001b[0m\u001b[0;34m\u001b[0m\u001b[0;34m\u001b[0m\u001b[0m\n\u001b[0m",
            "\u001b[0;32m/usr/local/lib/python3.7/dist-packages/keras/engine/training.py\u001b[0m in \u001b[0;36msummary\u001b[0;34m(self, line_length, positions, print_fn, expand_nested)\u001b[0m\n\u001b[1;32m   2578\u001b[0m     \u001b[0;32mif\u001b[0m \u001b[0;32mnot\u001b[0m \u001b[0mself\u001b[0m\u001b[0;34m.\u001b[0m\u001b[0mbuilt\u001b[0m\u001b[0;34m:\u001b[0m\u001b[0;34m\u001b[0m\u001b[0;34m\u001b[0m\u001b[0m\n\u001b[1;32m   2579\u001b[0m       raise ValueError(\n\u001b[0;32m-> 2580\u001b[0;31m           \u001b[0;34m'This model has not yet been built. '\u001b[0m\u001b[0;34m\u001b[0m\u001b[0;34m\u001b[0m\u001b[0m\n\u001b[0m\u001b[1;32m   2581\u001b[0m           \u001b[0;34m'Build the model first by calling `build()` or by calling '\u001b[0m\u001b[0;34m\u001b[0m\u001b[0;34m\u001b[0m\u001b[0m\n\u001b[1;32m   2582\u001b[0m           'the model on a batch of data.')\n",
            "\u001b[0;31mValueError\u001b[0m: This model has not yet been built. Build the model first by calling `build()` or by calling the model on a batch of data."
          ]
        }
      ]
    },
    {
      "cell_type": "code",
      "source": [
        "X[0], y[0]"
      ],
      "metadata": {
        "colab": {
          "base_uri": "https://localhost:8080/"
        },
        "id": "_RzLRnGAJiO9",
        "outputId": "ecfbef26-5383-45c1-e49f-71348918b75c"
      },
      "execution_count": 28,
      "outputs": [
        {
          "output_type": "execute_result",
          "data": {
            "text/plain": [
              "(<tf.Tensor: shape=(), dtype=int32, numpy=-100>,\n",
              " <tf.Tensor: shape=(), dtype=int32, numpy=-90>)"
            ]
          },
          "metadata": {},
          "execution_count": 28
        }
      ]
    },
    {
      "cell_type": "code",
      "source": [
        "# Let-s create a model which builds automatically by defining the input_shape argument in the first layer\n",
        "\n",
        "# Set seed\n",
        "tf.random.set_seed(42)\n",
        "\n",
        "# Create the model\n",
        "model = tf.keras.Sequential([\n",
        "    tf.keras.layers.Dense(20, input_shape=[1], name=\"input_layer\"),\n",
        "    tf.keras.layers.Dense(1, name=\"output_layer\")\n",
        "], name=\"Model_1\")\n",
        "\n",
        "# Compile the model\n",
        "model.compile(loss='mae',\n",
        "              optimizer=tf.keras.optimizers.SGD(),\n",
        "              metrics=['mae'])\n",
        "\n",
        "# Fit the model (TensorFlow 2.0+ is needed with one dimension atleast)\n",
        "# model.fit(tf.expand_dims(X_train, axis=-1), y_train, epochs=100)"
      ],
      "metadata": {
        "id": "vEt9B8WNIjDa"
      },
      "execution_count": 29,
      "outputs": []
    },
    {
      "cell_type": "code",
      "source": [
        "model.summary()"
      ],
      "metadata": {
        "colab": {
          "base_uri": "https://localhost:8080/"
        },
        "id": "gbMXv24iJ7H1",
        "outputId": "312d97a6-4988-4c1c-e82e-ac7b0883ad4f"
      },
      "execution_count": 30,
      "outputs": [
        {
          "output_type": "stream",
          "name": "stdout",
          "text": [
            "Model: \"Model_1\"\n",
            "_________________________________________________________________\n",
            " Layer (type)                Output Shape              Param #   \n",
            "=================================================================\n",
            " input_layer (Dense)         (None, 20)                40        \n",
            "                                                                 \n",
            " output_layer (Dense)        (None, 1)                 21        \n",
            "                                                                 \n",
            "=================================================================\n",
            "Total params: 61\n",
            "Trainable params: 61\n",
            "Non-trainable params: 0\n",
            "_________________________________________________________________\n"
          ]
        }
      ]
    },
    {
      "cell_type": "markdown",
      "source": [
        "Calling summary() on our model shows us the layers it contains, the output shape and the number of parameters.\n",
        "\n",
        "* **Total params** - total number of parameters in the model.\n",
        "* **Trainable parameters** - these are the parameters (patterns) the model can update as it trains.\n",
        "* **Non-trainable parameters** - these parameters aren't updated during training (this is typical when you bring in the already learned patterns from other models during transfer learning).\n",
        "\n",
        "> 📖**Resource:** For a more in-depth overview of the trainable parameters within a layer, check out [MIT's introduction to deep learning video.](https://youtu.be/njKP3FqW3Sk)\n",
        "\n",
        "> 🧰 **Exercise:** Try playing around with the number of hidden units in the Dense layer (e.g. Dense(2), Dense(3)). How does this change the Total/Trainable params? Investigate what's causing the change."
      ],
      "metadata": {
        "id": "7Os2GJBOKYOl"
      }
    },
    {
      "cell_type": "code",
      "source": [
        "# Let's fit our model to training data\n",
        "model.fit(tf.expand_dims(X_train, axis=-1), y_train, epochs=100, verbose=0) # Verbose 0 meaning there will be no output CTRL + SHIFT"
      ],
      "metadata": {
        "colab": {
          "base_uri": "https://localhost:8080/"
        },
        "id": "9x9wZcKPK9tF",
        "outputId": "83e40650-3d0a-45a2-a60e-a684023f21f3"
      },
      "execution_count": 31,
      "outputs": [
        {
          "output_type": "execute_result",
          "data": {
            "text/plain": [
              "<keras.callbacks.History at 0x7f4ca4316f90>"
            ]
          },
          "metadata": {},
          "execution_count": 31
        }
      ]
    },
    {
      "cell_type": "code",
      "source": [
        "# Get a summary of our model\n",
        "model.summary()"
      ],
      "metadata": {
        "colab": {
          "base_uri": "https://localhost:8080/"
        },
        "id": "Hz1fwo05PHsd",
        "outputId": "804fd74d-f814-4e75-c6e2-147bb15aaaf9"
      },
      "execution_count": 32,
      "outputs": [
        {
          "output_type": "stream",
          "name": "stdout",
          "text": [
            "Model: \"Model_1\"\n",
            "_________________________________________________________________\n",
            " Layer (type)                Output Shape              Param #   \n",
            "=================================================================\n",
            " input_layer (Dense)         (None, 20)                40        \n",
            "                                                                 \n",
            " output_layer (Dense)        (None, 1)                 21        \n",
            "                                                                 \n",
            "=================================================================\n",
            "Total params: 61\n",
            "Trainable params: 61\n",
            "Non-trainable params: 0\n",
            "_________________________________________________________________\n"
          ]
        }
      ]
    },
    {
      "cell_type": "code",
      "source": [
        "# Another way on visualizing our model\n",
        "from tensorflow.keras.utils import plot_model\n",
        "plot_model(model=model, show_shapes=True)"
      ],
      "metadata": {
        "colab": {
          "base_uri": "https://localhost:8080/",
          "height": 312
        },
        "id": "DfHIzUjyP2QF",
        "outputId": "2bf09a18-804e-4d26-f43c-0c511b80ae62"
      },
      "execution_count": 33,
      "outputs": [
        {
          "output_type": "execute_result",
          "data": {
            "image/png": "[encoded data removed]",
            "text/plain": [
              "<IPython.core.display.Image object>"
            ]
          },
          "metadata": {},
          "execution_count": 33
        }
      ]
    },
    {
      "cell_type": "markdown",
      "source": [
        "### Visualizing our models predictions\n",
        "\n",
        "To visualize predictions, it's a good ideas to plot them against the ground truth labels (y_test).\n",
        "\n",
        "* Ground Truth Data: refers to the actual nature of the problem that is the target of a machine learning model, reflected by the relevant data sets associated with the use case in question. (To simplify it, use case towards data sets that are being tested against and for this section we are doing tests agaist our y_labels with our X_data, so y_labels would be seen as the ground truth) \n",
        "\n",
        "Often you'll see this in the form of `y_test` or `y_true` versus `y_pred` (ground truth versus your model's predictions)."
      ],
      "metadata": {
        "id": "sSfM4GT3R4Sf"
      }
    },
    {
      "cell_type": "code",
      "source": [
        "# Make some predictions\n",
        "y_pred = model.predict(X_test)\n",
        "y_pred"
      ],
      "metadata": {
        "colab": {
          "base_uri": "https://localhost:8080/"
        },
        "id": "cNVo4BPFR7DC",
        "outputId": "0ed4bbc2-41bb-4aaf-a2ac-92305ff7a6bb"
      },
      "execution_count": 34,
      "outputs": [
        {
          "output_type": "execute_result",
          "data": {
            "text/plain": [
              "array([[ 70.35298 ],\n",
              "       [ 74.92796 ],\n",
              "       [ 79.50294 ],\n",
              "       [ 84.07793 ],\n",
              "       [ 88.652885],\n",
              "       [ 93.22786 ],\n",
              "       [ 97.802826],\n",
              "       [102.377815],\n",
              "       [106.9528  ],\n",
              "       [111.52776 ]], dtype=float32)"
            ]
          },
          "metadata": {},
          "execution_count": 34
        }
      ]
    },
    {
      "cell_type": "code",
      "source": [
        "y_test"
      ],
      "metadata": {
        "colab": {
          "base_uri": "https://localhost:8080/"
        },
        "id": "pWv3ZTPtSsvV",
        "outputId": "f969674b-dc44-4cab-e456-9a6a714c0458"
      },
      "execution_count": 35,
      "outputs": [
        {
          "output_type": "execute_result",
          "data": {
            "text/plain": [
              "<tf.Tensor: shape=(10,), dtype=int32, numpy=array([ 70,  74,  78,  82,  86,  90,  94,  98, 102, 106], dtype=int32)>"
            ]
          },
          "metadata": {},
          "execution_count": 35
        }
      ]
    },
    {
      "cell_type": "markdown",
      "source": [
        "🔑 Note: If you feel like you're going to reuse some kind of functionality in the future, it's a good idea to put it into a function."
      ],
      "metadata": {
        "id": "JF2ahHPATA7m"
      }
    },
    {
      "cell_type": "code",
      "source": [
        "# Let's create a plotting function\n",
        "def plot_predictions(train_data=X_train, \n",
        "                     train_labels=y_train,\n",
        "                     test_data=X_test,\n",
        "                     test_labels=y_test,\n",
        "                     predictions=y_pred):\n",
        "  \"\"\"\n",
        "  Plots training data, test data and compares predictions to ground truth labels\n",
        "  \"\"\"\n",
        "  # Setting diagram size\n",
        "  plt.figure(figsize=(10,7))\n",
        "\n",
        "  # Plot training data in blue\n",
        "  plt.scatter(train_data, train_labels, c=\"b\", label=\"Training data\")\n",
        "\n",
        "  # Plot test data in green\n",
        "  plt.scatter(test_data, test_labels, c=\"g\", label=\"Testing data\")\n",
        "\n",
        "  # Plot models prediction in red\n",
        "  plt.scatter(test_data, predictions, c=\"r\", label=\"Predictions\")\n",
        "\n",
        "  plt.legend()\n"
      ],
      "metadata": {
        "id": "2eqwwBX7S5H9"
      },
      "execution_count": 36,
      "outputs": []
    },
    {
      "cell_type": "code",
      "source": [
        "plot_predictions(train_data=X_train,train_labels=y_train,test_data=X_test,test_labels=y_test,predictions=y_pred)"
      ],
      "metadata": {
        "colab": {
          "base_uri": "https://localhost:8080/",
          "height": 428
        },
        "id": "NkX9sUh1Uqa0",
        "outputId": "de449171-59b8-41ad-f2ee-bad2bb9b9d26"
      },
      "execution_count": 37,
      "outputs": [
        {
          "output_type": "display_data",
          "data": {
            "image/png": "[encoded data removed]",
            "text/plain": [
              "<Figure size 720x504 with 1 Axes>"
            ]
          },
          "metadata": {
            "needs_background": "light"
          }
        }
      ]
    },
    {
      "cell_type": "markdown",
      "source": [
        "### Evaluating our model's predictions with regression evaluation metrics\n",
        "\n",
        "Depending on the problem you're working on, there will be different evaluation metrics to evaluate your model's perfomance.\n",
        "\n",
        "Since we're working on a regression, two of the main metrics are:\n",
        "* **Mean absolute error (MAE)** - the mean difference between each of the predictions.\n",
        "* **Mean squared error (MSE)** - the squared mean difference between of the predictions, \"square the average errors\" (use if larger errors are more detrimental than smaller errors)."
      ],
      "metadata": {
        "id": "miiJJwNPVymt"
      }
    },
    {
      "cell_type": "code",
      "source": [
        "# Evaluate the model on test set\n",
        "model.evaluate(X_test, y_test)"
      ],
      "metadata": {
        "colab": {
          "base_uri": "https://localhost:8080/"
        },
        "id": "eUQSoessV4lB",
        "outputId": "78d39842-342c-4f21-e59a-89cd8693537d"
      },
      "execution_count": 38,
      "outputs": [
        {
          "output_type": "stream",
          "name": "stdout",
          "text": [
            "1/1 [==============================] - 0s 109ms/step - loss: 2.9404 - mae: 2.9404\n"
          ]
        },
        {
          "output_type": "execute_result",
          "data": {
            "text/plain": [
              "[2.9403769969940186, 2.9403769969940186]"
            ]
          },
          "metadata": {},
          "execution_count": 38
        }
      ]
    },
    {
      "cell_type": "code",
      "source": [
        "# Calculate the mean absolute error\n",
        "#tf.keras.losses.MAE()\n",
        "mae = tf.metrics.mean_absolute_error(y_true=y_test, y_pred=tf.constant(y_pred))\n",
        "mae"
      ],
      "metadata": {
        "colab": {
          "base_uri": "https://localhost:8080/"
        },
        "id": "QdSg3QmSYQ0O",
        "outputId": "5a436da8-c059-4d37-aa2d-3ccd145a3fa2"
      },
      "execution_count": 39,
      "outputs": [
        {
          "output_type": "execute_result",
          "data": {
            "text/plain": [
              "<tf.Tensor: shape=(10,), dtype=float32, numpy=\n",
              "array([17.717615, 14.243222, 11.798825, 10.384415, 10.      , 10.645572,\n",
              "       12.321131, 15.102252, 18.952797, 23.527763], dtype=float32)>"
            ]
          },
          "metadata": {},
          "execution_count": 39
        }
      ]
    },
    {
      "cell_type": "code",
      "source": [
        "tf.constant(y_pred)"
      ],
      "metadata": {
        "colab": {
          "base_uri": "https://localhost:8080/"
        },
        "id": "bAnvmb2_YF3t",
        "outputId": "e8376bd2-44f6-421e-a88a-50728f56ea50"
      },
      "execution_count": 40,
      "outputs": [
        {
          "output_type": "execute_result",
          "data": {
            "text/plain": [
              "<tf.Tensor: shape=(10, 1), dtype=float32, numpy=\n",
              "array([[ 70.35298 ],\n",
              "       [ 74.92796 ],\n",
              "       [ 79.50294 ],\n",
              "       [ 84.07793 ],\n",
              "       [ 88.652885],\n",
              "       [ 93.22786 ],\n",
              "       [ 97.802826],\n",
              "       [102.377815],\n",
              "       [106.9528  ],\n",
              "       [111.52776 ]], dtype=float32)>"
            ]
          },
          "metadata": {},
          "execution_count": 40
        }
      ]
    },
    {
      "cell_type": "code",
      "source": [
        "y_test"
      ],
      "metadata": {
        "colab": {
          "base_uri": "https://localhost:8080/"
        },
        "id": "s_pH15JWYIGV",
        "outputId": "fea561d4-1fc1-4a5e-a5f3-77753ce61a53"
      },
      "execution_count": 41,
      "outputs": [
        {
          "output_type": "execute_result",
          "data": {
            "text/plain": [
              "<tf.Tensor: shape=(10,), dtype=int32, numpy=array([ 70,  74,  78,  82,  86,  90,  94,  98, 102, 106], dtype=int32)>"
            ]
          },
          "metadata": {},
          "execution_count": 41
        }
      ]
    },
    {
      "cell_type": "code",
      "source": [
        "tf.squeeze(y_pred)"
      ],
      "metadata": {
        "colab": {
          "base_uri": "https://localhost:8080/"
        },
        "id": "HxrU9omdZ3ld",
        "outputId": "b9553ce3-4db8-45a8-c241-a95f6e310f28"
      },
      "execution_count": 42,
      "outputs": [
        {
          "output_type": "execute_result",
          "data": {
            "text/plain": [
              "<tf.Tensor: shape=(10,), dtype=float32, numpy=\n",
              "array([ 70.35298 ,  74.92796 ,  79.50294 ,  84.07793 ,  88.652885,\n",
              "        93.22786 ,  97.802826, 102.377815, 106.9528  , 111.52776 ],\n",
              "      dtype=float32)>"
            ]
          },
          "metadata": {},
          "execution_count": 42
        }
      ]
    },
    {
      "cell_type": "code",
      "source": [
        "# Calculate the mean absolute error\n",
        "tf.metrics.mean_absolute_error(y_true=y_test, y_pred=tf.squeeze(y_pred))"
      ],
      "metadata": {
        "colab": {
          "base_uri": "https://localhost:8080/"
        },
        "id": "Dc-TqL3naBel",
        "outputId": "8b051ba3-7622-47cd-ffb8-9b8a58d3b815"
      },
      "execution_count": 43,
      "outputs": [
        {
          "output_type": "execute_result",
          "data": {
            "text/plain": [
              "<tf.Tensor: shape=(), dtype=float32, numpy=2.9403756>"
            ]
          },
          "metadata": {},
          "execution_count": 43
        }
      ]
    },
    {
      "cell_type": "code",
      "source": [
        "# Calculate the mean squared error\n",
        "mse = tf.metrics.mean_squared_error(y_true=y_test, y_pred=tf.squeeze(y_pred))\n",
        "mse"
      ],
      "metadata": {
        "colab": {
          "base_uri": "https://localhost:8080/"
        },
        "id": "a6GSqufLaWX3",
        "outputId": "cddc45b0-eb52-4e16-c13b-b96175d9a65b"
      },
      "execution_count": 44,
      "outputs": [
        {
          "output_type": "execute_result",
          "data": {
            "text/plain": [
              "<tf.Tensor: shape=(), dtype=float32, numpy=11.373231>"
            ]
          },
          "metadata": {},
          "execution_count": 44
        }
      ]
    },
    {
      "cell_type": "code",
      "source": [
        "# Let's create helper functions to reuse MAE & MSE\n",
        "def mae(y_true, y_pred):\n",
        "  return tf.metrics.mean_absolute_error(y_true=y_true, y_pred=tf.squeeze(y_pred))\n",
        "\n",
        "\n",
        "def mse(y_true, y_pred):\n",
        "  return tf.metrics.mean_squared_error(y_true=y_true, y_pred=tf.squeeze(y_pred))\n",
        "\n"
      ],
      "metadata": {
        "id": "cbps3eWLnY_k"
      },
      "execution_count": 45,
      "outputs": []
    },
    {
      "cell_type": "markdown",
      "source": [
        "### Running experiments to improve our model\n",
        "\n",
        "```\n",
        "Build a model -> fit it -> evaluate it -> tweak it -> and so on\n",
        "```\n",
        "\n",
        "Again, there are many different ways you can do this, but 3 of the main ones are:\n",
        "1. **Get more data** - get more examples for your model to train on (more opportunities to learn patterns).\n",
        "2. **Make your model larger (use a more complex model)** - this might come in the form of more layers or more hidden units in each layer.\n",
        "3. **Train for longer** - give your model more of a chance to find the patterns in the data.\n",
        "\n",
        "Since we created our dataset, we could easily make more data but this isn't always the case when you're working with real-world datasets.\n",
        "\n",
        "To do so, we'll build 3 models and compare their results:\n",
        "1. ```model_1``` - same as original model, 1 layer, trained for 100 epochs.\n",
        "2. ```model_2``` - 2 layers, trained for 100 epochs.\n",
        "3. ```model_3``` - 2 layers, trained for 500 epochs."
      ],
      "metadata": {
        "id": "f4xl2foWoE70"
      }
    },
    {
      "cell_type": "code",
      "source": [
        "# Build model_1\n",
        "\n",
        "# Set random seed\n",
        "tf.random.set_seed(42)\n",
        "\n",
        "# Create the model\n",
        "model_1 = tf.keras.Sequential([\n",
        "  tf.keras.layers.Dense(1)\n",
        "])\n",
        "\n",
        "# Compile the model\n",
        "model_1.compile(loss='mae',\n",
        "              optimizer=tf.keras.optimizers.SGD(),\n",
        "              metrics=['mae'])\n",
        "\n",
        "# Fit the model\n",
        "model_1.fit(tf.expand_dims(X_train, axis=-1), y_train, epochs=100, verbose=0)"
      ],
      "metadata": {
        "colab": {
          "base_uri": "https://localhost:8080/"
        },
        "id": "9-ht4u-JoW9Z",
        "outputId": "59697943-c047-44b4-8633-84356107923e"
      },
      "execution_count": 46,
      "outputs": [
        {
          "output_type": "execute_result",
          "data": {
            "text/plain": [
              "<keras.callbacks.History at 0x7f4d21443410>"
            ]
          },
          "metadata": {},
          "execution_count": 46
        }
      ]
    },
    {
      "cell_type": "code",
      "source": [
        "# Make and plot predictions for model_1\n",
        "\n",
        "# The test data, because remember our model has never seen the test data, but trained on the \"train_data 80%\"\n",
        "y_pred_1 = model.predict(X_test)\n",
        "\n",
        "plot_predictions(predictions=y_pred_1)"
      ],
      "metadata": {
        "colab": {
          "base_uri": "https://localhost:8080/",
          "height": 428
        },
        "id": "KzugXc8nrPSt",
        "outputId": "0715c9e2-6a7a-473b-9c54-4b2c38f004aa"
      },
      "execution_count": 47,
      "outputs": [
        {
          "output_type": "display_data",
          "data": {
            "image/png": "[encoded data removed]",
            "text/plain": [
              "<Figure size 720x504 with 1 Axes>"
            ]
          },
          "metadata": {
            "needs_background": "light"
          }
        }
      ]
    },
    {
      "cell_type": "code",
      "source": [
        "# Calculate model_1 evaluation metrics\n",
        "\n",
        "mae_1 = mae(y_test, y_pred_1)\n",
        "mse_1 = mse(y_test, y_pred_1)\n",
        "\n",
        "print('MAE: ', mae_1.numpy(), '\\n')\n",
        "print('MSE: ', mse_1.numpy())"
      ],
      "metadata": {
        "colab": {
          "base_uri": "https://localhost:8080/"
        },
        "id": "a5V3A4GdsRyr",
        "outputId": "0690d1cd-94f8-4cec-8dc1-82118214f63e"
      },
      "execution_count": 48,
      "outputs": [
        {
          "output_type": "stream",
          "name": "stdout",
          "text": [
            "MAE:  2.9403756 \n",
            "\n",
            "MSE:  11.373231\n"
          ]
        }
      ]
    },
    {
      "cell_type": "code",
      "source": [
        "# Build model_2\n",
        "\n",
        "# set seed\n",
        "tf.random.set_seed(42)\n",
        "\n",
        "# build model\n",
        "model_2 = tf.keras.Sequential([\n",
        "    tf.keras.layers.Dense(10),\n",
        "    tf.keras.layers.Dense(1)\n",
        "])\n",
        "\n",
        "# Compile the model\n",
        "model_2.compile(loss='mae',\n",
        "                optimizer=tf.keras.optimizers.SGD(),\n",
        "                metrics=['mse'])\n",
        "\n",
        "# Fit the model\n",
        "model_2.fit(tf.expand_dims(X_train, axis=-1), y_train, epochs=100, verbose=0)"
      ],
      "metadata": {
        "colab": {
          "base_uri": "https://localhost:8080/"
        },
        "id": "8zdEUoKJt5Os",
        "outputId": "fecefa3b-982c-4914-e32f-80dd38e14d26"
      },
      "execution_count": 49,
      "outputs": [
        {
          "output_type": "execute_result",
          "data": {
            "text/plain": [
              "<keras.callbacks.History at 0x7f4ca8ce8fd0>"
            ]
          },
          "metadata": {},
          "execution_count": 49
        }
      ]
    },
    {
      "cell_type": "code",
      "source": [
        "# Plot the predictions of model_2\n",
        "\n",
        "y_pred_2 = model_2.predict(X_test)\n",
        "\n",
        "plot_predictions(predictions=y_pred_2)"
      ],
      "metadata": {
        "colab": {
          "base_uri": "https://localhost:8080/",
          "height": 428
        },
        "id": "jDD1f9nruoSL",
        "outputId": "cca83828-a32b-454d-dc2f-034109ed6f13"
      },
      "execution_count": 52,
      "outputs": [
        {
          "output_type": "display_data",
          "data": {
            "image/png": "[encoded data removed]",
            "text/plain": [
              "<Figure size 720x504 with 1 Axes>"
            ]
          },
          "metadata": {
            "needs_background": "light"
          }
        }
      ]
    },
    {
      "cell_type": "code",
      "source": [
        "# Check Model 2 Evaluation Metrics\n",
        "mse_2 = mse(y_test, y_pred_2)\n",
        "mae_2 = mae(y_test, y_pred_2)\n",
        "\n",
        "\n",
        "print('MAE: ', mae_2.numpy(), '\\n')\n",
        "print('MSE: ', mse_2.numpy())"
      ],
      "metadata": {
        "colab": {
          "base_uri": "https://localhost:8080/"
        },
        "id": "Dqgn-Em4vJg0",
        "outputId": "1aa70410-5d63-40e0-f377-8f06b2b7514f"
      },
      "execution_count": 51,
      "outputs": [
        {
          "output_type": "stream",
          "name": "stdout",
          "text": [
            "MAE:  3.1969407 \n",
            "\n",
            "MSE:  13.070143\n"
          ]
        }
      ]
    },
    {
      "cell_type": "code",
      "source": [
        "# Build Model_3\n",
        "\n",
        "# set seed\n",
        "tf.random.set_seed(42)\n",
        "\n",
        "# Build model\n",
        "model_3 = tf.keras.Sequential([\n",
        "  tf.keras.layers.Dense(20),\n",
        "  tf.keras.layers.Dense(1)\n",
        "])\n",
        "\n",
        "# Compile model\n",
        "model_3.compile(loss='mae',\n",
        "                optimizer=tf.keras.optimizers.SGD(),\n",
        "                metrics=['mae'])\n",
        "\n",
        "# Fit the model\n",
        "model_3.fit(tf.expand_dims(X_train, axis=-1), y_train, epochs=500, verbose=0)"
      ],
      "metadata": {
        "colab": {
          "base_uri": "https://localhost:8080/"
        },
        "id": "fB79GKRPxYEk",
        "outputId": "75469002-b52a-41b0-84da-c4f6862f3124"
      },
      "execution_count": 53,
      "outputs": [
        {
          "output_type": "execute_result",
          "data": {
            "text/plain": [
              "<keras.callbacks.History at 0x7f4d2138cb90>"
            ]
          },
          "metadata": {},
          "execution_count": 53
        }
      ]
    },
    {
      "cell_type": "code",
      "source": [
        "# Plot the predictions\n",
        "y_pred_3 = model.predict(X_test)\n",
        "\n",
        "plot_predictions(predictions=y_pred_3)"
      ],
      "metadata": {
        "colab": {
          "base_uri": "https://localhost:8080/",
          "height": 428
        },
        "id": "IsggeL0xyN9W",
        "outputId": "d31d12cc-013f-4419-e02c-18a6a8a49856"
      },
      "execution_count": 54,
      "outputs": [
        {
          "output_type": "display_data",
          "data": {
            "image/png": "[encoded data removed]",
            "text/plain": [
              "<Figure size 720x504 with 1 Axes>"
            ]
          },
          "metadata": {
            "needs_background": "light"
          }
        }
      ]
    },
    {
      "cell_type": "code",
      "source": [
        "# Evaulate predictions\n",
        "mae_3 = mae(y_test, y_pred_3)\n",
        "mse_3 = mse(y_test, y_pred_3)\n",
        "\n",
        "\n",
        "print('MAE: ', mae_3.numpy(), '\\n')\n",
        "print('MSE: ', mse_3.numpy())"
      ],
      "metadata": {
        "colab": {
          "base_uri": "https://localhost:8080/"
        },
        "id": "5BeU5ntUyzzr",
        "outputId": "c9ca6b76-ccf2-45ad-b576-88e64884d944"
      },
      "execution_count": 55,
      "outputs": [
        {
          "output_type": "stream",
          "name": "stdout",
          "text": [
            "MAE:  2.9403756 \n",
            "\n",
            "MSE:  11.373231\n"
          ]
        }
      ]
    },
    {
      "cell_type": "markdown",
      "source": [
        "🔑 **Note**: You want to start with small experiments (small models) and make sure they work and then increase their scale when necessary."
      ],
      "metadata": {
        "id": "Nocveohw6wW8"
      }
    },
    {
      "cell_type": "markdown",
      "source": [
        "### Comparing the results of our experiments"
      ],
      "metadata": {
        "id": "nQKRu4ix0n3m"
      }
    },
    {
      "cell_type": "code",
      "source": [
        "# Let's compare our model results using a pandas DataFrame (just a table)\n",
        "import pandas as pd\n",
        "\n",
        "model_results = [['model_1', mae_1.numpy(), mse_1.numpy()],\n",
        "                 ['model_2', mae_2.numpy(), mse_2.numpy()],\n",
        "                 ['model_3', mae_3.numpy(), mse_3.numpy()]]\n",
        "\n",
        "all_results = pd.DataFrame(model_results, columns=[\"MODEL\", \"MAE\", \"MSE\"])\n",
        "\n",
        "all_results"
      ],
      "metadata": {
        "colab": {
          "base_uri": "https://localhost:8080/",
          "height": 143
        },
        "id": "0Le4FNZz0qwF",
        "outputId": "1398cbe9-ecdb-4c2e-a31f-47974f010345"
      },
      "execution_count": 56,
      "outputs": [
        {
          "output_type": "execute_result",
          "data": {
            "text/html": [
              "\n",
              "  <div id=\"df-31d4d6d4-796b-47e7-b1b4-f509124c6d6d\">\n",
              "    <div class=\"colab-df-container\">\n",
              "      <div>\n",
              "<style scoped>\n",
              "    .dataframe tbody tr th:only-of-type {\n",
              "        vertical-align: middle;\n",
              "    }\n",
              "\n",
              "    .dataframe tbody tr th {\n",
              "        vertical-align: top;\n",
              "    }\n",
              "\n",
              "    .dataframe thead th {\n",
              "        text-align: right;\n",
              "    }\n",
              "</style>\n",
              "<table border=\"1\" class=\"dataframe\">\n",
              "  <thead>\n",
              "    <tr style=\"text-align: right;\">\n",
              "      <th></th>\n",
              "      <th>MODEL</th>\n",
              "      <th>MAE</th>\n",
              "      <th>MSE</th>\n",
              "    </tr>\n",
              "  </thead>\n",
              "  <tbody>\n",
              "    <tr>\n",
              "      <th>0</th>\n",
              "      <td>model_1</td>\n",
              "      <td>2.940376</td>\n",
              "      <td>11.373231</td>\n",
              "    </tr>\n",
              "    <tr>\n",
              "      <th>1</th>\n",
              "      <td>model_2</td>\n",
              "      <td>3.196941</td>\n",
              "      <td>13.070143</td>\n",
              "    </tr>\n",
              "    <tr>\n",
              "      <th>2</th>\n",
              "      <td>model_3</td>\n",
              "      <td>2.940376</td>\n",
              "      <td>11.373231</td>\n",
              "    </tr>\n",
              "  </tbody>\n",
              "</table>\n",
              "</div>\n",
              "      <button class=\"colab-df-convert\" onclick=\"convertToInteractive('df-31d4d6d4-796b-47e7-b1b4-f509124c6d6d')\"\n",
              "              title=\"Convert this dataframe to an interactive table.\"\n",
              "              style=\"display:none;\">\n",
              "        \n",
              "  <svg xmlns=\"http://www.w3.org/2000/svg\" height=\"24px\"viewBox=\"0 0 24 24\"\n",
              "       width=\"24px\">\n",
              "    <path d=\"M0 0h24v24H0V0z\" fill=\"none\"/>\n",
              "    <path d=\"M18.56 5.44l.94 2.06.94-2.06 2.06-.94-2.06-.94-.94-2.06-.94 2.06-2.06.94zm-11 1L8.5 8.5l.94-2.06 2.06-.94-2.06-.94L8.5 2.5l-.94 2.06-2.06.94zm10 10l.94 2.06.94-2.06 2.06-.94-2.06-.94-.94-2.06-.94 2.06-2.06.94z\"/><path d=\"M17.41 7.96l-1.37-1.37c-.4-.4-.92-.59-1.43-.59-.52 0-1.04.2-1.43.59L10.3 9.45l-7.72 7.72c-.78.78-.78 2.05 0 2.83L4 21.41c.39.39.9.59 1.41.59.51 0 1.02-.2 1.41-.59l7.78-7.78 2.81-2.81c.8-.78.8-2.07 0-2.86zM5.41 20L4 18.59l7.72-7.72 1.47 1.35L5.41 20z\"/>\n",
              "  </svg>\n",
              "      </button>\n",
              "      \n",
              "  <style>\n",
              "    .colab-df-container {\n",
              "      display:flex;\n",
              "      flex-wrap:wrap;\n",
              "      gap: 12px;\n",
              "    }\n",
              "\n",
              "    .colab-df-convert {\n",
              "      background-color: #E8F0FE;\n",
              "      border: none;\n",
              "      border-radius: 50%;\n",
              "      cursor: pointer;\n",
              "      display: none;\n",
              "      fill: #1967D2;\n",
              "      height: 32px;\n",
              "      padding: 0 0 0 0;\n",
              "      width: 32px;\n",
              "    }\n",
              "\n",
              "    .colab-df-convert:hover {\n",
              "      background-color: #E2EBFA;\n",
              "      box-shadow: 0px 1px 2px rgba(60, 64, 67, 0.3), 0px 1px 3px 1px rgba(60, 64, 67, 0.15);\n",
              "      fill: #174EA6;\n",
              "    }\n",
              "\n",
              "    [theme=dark] .colab-df-convert {\n",
              "      background-color: #3B4455;\n",
              "      fill: #D2E3FC;\n",
              "    }\n",
              "\n",
              "    [theme=dark] .colab-df-convert:hover {\n",
              "      background-color: #434B5C;\n",
              "      box-shadow: 0px 1px 3px 1px rgba(0, 0, 0, 0.15);\n",
              "      filter: drop-shadow(0px 1px 2px rgba(0, 0, 0, 0.3));\n",
              "      fill: #FFFFFF;\n",
              "    }\n",
              "  </style>\n",
              "\n",
              "      <script>\n",
              "        const buttonEl =\n",
              "          document.querySelector('#df-31d4d6d4-796b-47e7-b1b4-f509124c6d6d button.colab-df-convert');\n",
              "        buttonEl.style.display =\n",
              "          google.colab.kernel.accessAllowed ? 'block' : 'none';\n",
              "\n",
              "        async function convertToInteractive(key) {\n",
              "          const element = document.querySelector('#df-31d4d6d4-796b-47e7-b1b4-f509124c6d6d');\n",
              "          const dataTable =\n",
              "            await google.colab.kernel.invokeFunction('convertToInteractive',\n",
              "                                                     [key], {});\n",
              "          if (!dataTable) return;\n",
              "\n",
              "          const docLinkHtml = 'Like what you see? Visit the ' +\n",
              "            '<a target=\"_blank\" href=https://colab.research.google.com/notebooks/data_table.ipynb>data table notebook</a>'\n",
              "            + ' to learn more about interactive tables.';\n",
              "          element.innerHTML = '';\n",
              "          dataTable['output_type'] = 'display_data';\n",
              "          await google.colab.output.renderOutput(dataTable, element);\n",
              "          const docLink = document.createElement('div');\n",
              "          docLink.innerHTML = docLinkHtml;\n",
              "          element.appendChild(docLink);\n",
              "        }\n",
              "      </script>\n",
              "    </div>\n",
              "  </div>\n",
              "  "
            ],
            "text/plain": [
              "     MODEL       MAE        MSE\n",
              "0  model_1  2.940376  11.373231\n",
              "1  model_2  3.196941  13.070143\n",
              "2  model_3  2.940376  11.373231"
            ]
          },
          "metadata": {},
          "execution_count": 56
        }
      ]
    },
    {
      "cell_type": "markdown",
      "source": [
        "Looks like model_1 & model_2 had performed the best"
      ],
      "metadata": {
        "id": "r9A3tPfs8Olq"
      }
    },
    {
      "cell_type": "code",
      "source": [
        "model_2.summary()"
      ],
      "metadata": {
        "colab": {
          "base_uri": "https://localhost:8080/"
        },
        "id": "ewtV-Uq678Kk",
        "outputId": "19ddb95d-ef4d-4d9e-b780-065538f8c9b8"
      },
      "execution_count": 57,
      "outputs": [
        {
          "output_type": "stream",
          "name": "stdout",
          "text": [
            "Model: \"sequential_5\"\n",
            "_________________________________________________________________\n",
            " Layer (type)                Output Shape              Param #   \n",
            "=================================================================\n",
            " dense_6 (Dense)             (None, 10)                20        \n",
            "                                                                 \n",
            " dense_7 (Dense)             (None, 1)                 11        \n",
            "                                                                 \n",
            "=================================================================\n",
            "Total params: 31\n",
            "Trainable params: 31\n",
            "Non-trainable params: 0\n",
            "_________________________________________________________________\n"
          ]
        }
      ]
    },
    {
      "cell_type": "markdown",
      "source": [
        "🔑 **Note**: One of our main goals should be to minimize the time between experiments. The more experiments you do, the more things you'll figure out which don't work in turn, get closer to figuring out what does work. Remember the machine learning practinior's motto: \"experiment, experiment, experiment\"."
      ],
      "metadata": {
        "id": "7wmkVzSe8XWr"
      }
    },
    {
      "cell_type": "markdown",
      "source": [
        "### Tracking your experiments\n",
        "\n",
        "One really good habit in machine learning modelling is to track the results of your experiments.\n",
        "\n",
        "And when doing so, it can be tidious if you're running lots of experiments.\n",
        "\n",
        "Luckily there are tools that help us with this!\n",
        "\n",
        "📖 Resource: As you build more models, you'll want to look into using:\n",
        "\n",
        "* TensorBoard - a component of the TensorFlow library to help track modelling experiments (we'll try this later)\n",
        "* Weights & Biases - a tool for tracking all kinds of machine learning experiments (plugs straight into TensorBoard)."
      ],
      "metadata": {
        "id": "5N7rIwB29EgT"
      }
    },
    {
      "cell_type": "markdown",
      "source": [
        "## Saving our Models\n",
        "\n",
        "You can save a TensorFlow/Keras model using ```model.save()```.\n",
        "\n",
        "\n",
        "There are two ways to save a model in TensorFlow:\n",
        "1. The [SavedModel format](https://www.tensorflow.org/tutorials/keras/save_and_load#savedmodel_format) (default).\n",
        "2. The [HDF5 format](https://www.tensorflow.org/tutorials/keras/save_and_load#hdf5_format)\n",
        "\n",
        "\n",
        "The main difference between the two is the SavedModel is automatically able to save custom objects (such as special layers) without additional modifications when loading the model back in.\n",
        "\n",
        "Which one should you use?\n",
        "\n",
        "It depends on your situation but the SavedModel format will suffice most of the time.\n",
        "\n",
        "Both methods use the same method call."
      ],
      "metadata": {
        "id": "7h4xvyWi-Yhk"
      }
    },
    {
      "cell_type": "code",
      "source": [
        "# Save model using the SavedModelFormat\n",
        "model_2.save(\"neural_network_regression\")"
      ],
      "metadata": {
        "colab": {
          "base_uri": "https://localhost:8080/"
        },
        "id": "QivpX5av80CD",
        "outputId": "bc4de764-6cfc-44d4-8160-69385aa96f12"
      },
      "execution_count": 58,
      "outputs": [
        {
          "output_type": "stream",
          "name": "stdout",
          "text": [
            "INFO:tensorflow:Assets written to: neural_network_regression/assets\n"
          ]
        }
      ]
    },
    {
      "cell_type": "code",
      "source": [
        "# Save model using the HDF5 Format\n",
        "model_2.save(\"neural_network_regression_HDF5.h5\")"
      ],
      "metadata": {
        "id": "3F1fIX7zAsPY"
      },
      "execution_count": 59,
      "outputs": []
    },
    {
      "cell_type": "markdown",
      "source": [
        "## Loading Saved Models"
      ],
      "metadata": {
        "id": "INdB5AtQCMC5"
      }
    },
    {
      "cell_type": "code",
      "source": [
        "# Loading model (SavedModelFormat)\n",
        "loaded_SavedModel_format = tf.keras.models.load_model(\"neural_network_regression\")\n",
        "loaded_SavedModel_format.summary()"
      ],
      "metadata": {
        "colab": {
          "base_uri": "https://localhost:8080/"
        },
        "id": "yzqIi6oxBelm",
        "outputId": "332e50d4-839a-4ed6-9d87-65855937c757"
      },
      "execution_count": 60,
      "outputs": [
        {
          "output_type": "stream",
          "name": "stdout",
          "text": [
            "Model: \"sequential_5\"\n",
            "_________________________________________________________________\n",
            " Layer (type)                Output Shape              Param #   \n",
            "=================================================================\n",
            " dense_6 (Dense)             (None, 10)                20        \n",
            "                                                                 \n",
            " dense_7 (Dense)             (None, 1)                 11        \n",
            "                                                                 \n",
            "=================================================================\n",
            "Total params: 31\n",
            "Trainable params: 31\n",
            "Non-trainable params: 0\n",
            "_________________________________________________________________\n"
          ]
        }
      ]
    },
    {
      "cell_type": "code",
      "source": [
        "# Compare Model 2 predictions with SavedModelFormat model predictions\n",
        "model_2_preds = model_2.predict(X_test)\n",
        "loaded_SavedModel_format_preds = loaded_SavedModel_format.predict(X_test)\n",
        "\n",
        "model_2_preds == loaded_SavedModel_format_preds"
      ],
      "metadata": {
        "colab": {
          "base_uri": "https://localhost:8080/"
        },
        "id": "5M_7UYpLB5YT",
        "outputId": "12996fc1-e6fa-42d2-dacc-4859f467f2b3"
      },
      "execution_count": 62,
      "outputs": [
        {
          "output_type": "execute_result",
          "data": {
            "text/plain": [
              "array([[ True],\n",
              "       [ True],\n",
              "       [ True],\n",
              "       [ True],\n",
              "       [ True],\n",
              "       [ True],\n",
              "       [ True],\n",
              "       [ True],\n",
              "       [ True],\n",
              "       [ True]])"
            ]
          },
          "metadata": {},
          "execution_count": 62
        }
      ]
    },
    {
      "cell_type": "code",
      "source": [
        "mae(y_true=y_test, y_pred=model_2_preds) == mae(y_true=y_test, y_pred=loaded_SavedModel_format_preds)"
      ],
      "metadata": {
        "colab": {
          "base_uri": "https://localhost:8080/"
        },
        "id": "pyLjq5FhDKOi",
        "outputId": "2711f2b5-da0f-4027-c2b9-ddf8cded822e"
      },
      "execution_count": 63,
      "outputs": [
        {
          "output_type": "execute_result",
          "data": {
            "text/plain": [
              "<tf.Tensor: shape=(), dtype=bool, numpy=True>"
            ]
          },
          "metadata": {},
          "execution_count": 63
        }
      ]
    },
    {
      "cell_type": "code",
      "source": [
        "# Loading model (HDF5) format\n",
        "loaded_h5_model = tf.keras.models.load_model(\"neural_network_regression_HDF5.h5\")\n",
        "loaded_h5_model.summary()"
      ],
      "metadata": {
        "colab": {
          "base_uri": "https://localhost:8080/"
        },
        "id": "vrjMbJLpDoxe",
        "outputId": "c8340087-9c9f-469f-af2d-21d6f00c3c85"
      },
      "execution_count": 64,
      "outputs": [
        {
          "output_type": "stream",
          "name": "stdout",
          "text": [
            "Model: \"sequential_5\"\n",
            "_________________________________________________________________\n",
            " Layer (type)                Output Shape              Param #   \n",
            "=================================================================\n",
            " dense_6 (Dense)             (None, 10)                20        \n",
            "                                                                 \n",
            " dense_7 (Dense)             (None, 1)                 11        \n",
            "                                                                 \n",
            "=================================================================\n",
            "Total params: 31\n",
            "Trainable params: 31\n",
            "Non-trainable params: 0\n",
            "_________________________________________________________________\n"
          ]
        }
      ]
    },
    {
      "cell_type": "code",
      "source": [
        "# Compare Model 2 predictions with HDF5 model predictions\n",
        "model_2_preds = model_2.predict(X_test)\n",
        "loaded_h5_model_preds = loaded_h5_model.predict(X_test)\n",
        "\n",
        "model_2_preds == loaded_h5_model_preds"
      ],
      "metadata": {
        "colab": {
          "base_uri": "https://localhost:8080/"
        },
        "id": "67zaJAp8EXVr",
        "outputId": "110b5cce-2779-4a69-970e-24104eed3228"
      },
      "execution_count": 65,
      "outputs": [
        {
          "output_type": "execute_result",
          "data": {
            "text/plain": [
              "array([[ True],\n",
              "       [ True],\n",
              "       [ True],\n",
              "       [ True],\n",
              "       [ True],\n",
              "       [ True],\n",
              "       [ True],\n",
              "       [ True],\n",
              "       [ True],\n",
              "       [ True]])"
            ]
          },
          "metadata": {},
          "execution_count": 65
        }
      ]
    },
    {
      "cell_type": "code",
      "source": [
        "mae(y_true=y_test, y_pred=model_2_preds) == mae(y_true=y_test, y_pred=loaded_h5_model_preds)"
      ],
      "metadata": {
        "colab": {
          "base_uri": "https://localhost:8080/"
        },
        "id": "_sbEB5-OExe5",
        "outputId": "b16cfc24-0e87-4326-d292-aec160fb92c9"
      },
      "execution_count": 66,
      "outputs": [
        {
          "output_type": "execute_result",
          "data": {
            "text/plain": [
              "<tf.Tensor: shape=(), dtype=bool, numpy=True>"
            ]
          },
          "metadata": {},
          "execution_count": 66
        }
      ]
    },
    {
      "cell_type": "markdown",
      "source": [
        "## Download a model (or any other file) from Google Colab?\n",
        "\n",
        "Say you wanted to get your model from Google Colab to your local machine, you can do one of the following things:\n",
        "\n",
        "* Right click on the file in the files pane and click 'download'.\n",
        "* Use the code below.\n",
        "\n",
        "```\n",
        "from google.colab import files\n",
        "files.download(\"neural_network_regression_HDF5.h5\")\n",
        "\n",
        "```"
      ],
      "metadata": {
        "id": "H8DE6hSsFlHL"
      }
    },
    {
      "cell_type": "code",
      "source": [
        "from google.colab import files\n",
        "files.download(\"neural_network_regression\")"
      ],
      "metadata": {
        "id": "T7BVyKawFjSt"
      },
      "execution_count": null,
      "outputs": []
    },
    {
      "cell_type": "markdown",
      "source": [
        "## A Larger example\n",
        "\n",
        "We're going to try predict the cost of medical insurance for individuals based on a number of different parameters such as, ```age```, ```sex```, ```bmi``, ```children```, ```smoking_status``` and ```residential_region```.\n",
        "\n",
        "To do, we'll leverage the pubically available [Medical Cost Dataset](https://www.kaggle.com/mirichoi0218/insurance) available from Kaggle and [hosted on Github](https://github.com/stedy/Machine-Learning-with-R-datasets/blob/master/insurance.csv)\n",
        "\n",
        "🔑 **Note**: When learning machine learning paradigms (a pattern or model), you'll often go through a series of foundational techniques and then practice them by working with open-source datasets and examples. Just as we're doing now, learn foundations, put them to work with different problems. Every time you work on something new, it's a good idea to search for something like \"problem X example with Python/TensorFlow\" where you substitute X for your problem."
      ],
      "metadata": {
        "id": "c9EZpsTJ_QYR"
      }
    },
    {
      "cell_type": "code",
      "source": [
        "# Import the required libraries\n",
        "import tensorflow as tf\n",
        "import pandas as pd\n",
        "import matplotlib.pyplot as plt\n",
        "from sklearn.model_selection import train_test_split"
      ],
      "metadata": {
        "id": "WNcqWYkJ_vFM"
      },
      "execution_count": 91,
      "outputs": []
    },
    {
      "cell_type": "code",
      "source": [
        "# Read in the insurance dataset\n",
        "insurance = pd.read_csv(\"https://raw.githubusercontent.com/MarlboroJamez/machine-learning/main/tensorflow-DL-or-ML/datasets/insurance.csv\")\n",
        "insurance"
      ],
      "metadata": {
        "colab": {
          "base_uri": "https://localhost:8080/",
          "height": 655
        },
        "id": "ffLKVoFwe9V9",
        "outputId": "5c2f44ca-2d48-4cba-9983-58f0e5ed867a"
      },
      "execution_count": 85,
      "outputs": [
        {
          "output_type": "execute_result",
          "data": {
            "text/html": [
              "\n",
              "  <div id=\"df-30fb662c-6886-4471-b630-b2e73825604d\">\n",
              "    <div class=\"colab-df-container\">\n",
              "      <div>\n",
              "<style scoped>\n",
              "    .dataframe tbody tr th:only-of-type {\n",
              "        vertical-align: middle;\n",
              "    }\n",
              "\n",
              "    .dataframe tbody tr th {\n",
              "        vertical-align: top;\n",
              "    }\n",
              "\n",
              "    .dataframe thead th {\n",
              "        text-align: right;\n",
              "    }\n",
              "</style>\n",
              "<table border=\"1\" class=\"dataframe\">\n",
              "  <thead>\n",
              "    <tr style=\"text-align: right;\">\n",
              "      <th></th>\n",
              "      <th>age</th>\n",
              "      <th>sex</th>\n",
              "      <th>bmi</th>\n",
              "      <th>children</th>\n",
              "      <th>smoker</th>\n",
              "      <th>region</th>\n",
              "      <th>charges</th>\n",
              "    </tr>\n",
              "  </thead>\n",
              "  <tbody>\n",
              "    <tr>\n",
              "      <th>0</th>\n",
              "      <td>19</td>\n",
              "      <td>female</td>\n",
              "      <td>27.900</td>\n",
              "      <td>0</td>\n",
              "      <td>yes</td>\n",
              "      <td>southwest</td>\n",
              "      <td>16884.92400</td>\n",
              "    </tr>\n",
              "    <tr>\n",
              "      <th>1</th>\n",
              "      <td>18</td>\n",
              "      <td>male</td>\n",
              "      <td>33.770</td>\n",
              "      <td>1</td>\n",
              "      <td>no</td>\n",
              "      <td>southeast</td>\n",
              "      <td>1725.55230</td>\n",
              "    </tr>\n",
              "    <tr>\n",
              "      <th>2</th>\n",
              "      <td>28</td>\n",
              "      <td>male</td>\n",
              "      <td>33.000</td>\n",
              "      <td>3</td>\n",
              "      <td>no</td>\n",
              "      <td>southeast</td>\n",
              "      <td>4449.46200</td>\n",
              "    </tr>\n",
              "    <tr>\n",
              "      <th>3</th>\n",
              "      <td>33</td>\n",
              "      <td>male</td>\n",
              "      <td>22.705</td>\n",
              "      <td>0</td>\n",
              "      <td>no</td>\n",
              "      <td>northwest</td>\n",
              "      <td>21984.47061</td>\n",
              "    </tr>\n",
              "    <tr>\n",
              "      <th>4</th>\n",
              "      <td>32</td>\n",
              "      <td>male</td>\n",
              "      <td>28.880</td>\n",
              "      <td>0</td>\n",
              "      <td>no</td>\n",
              "      <td>northwest</td>\n",
              "      <td>3866.85520</td>\n",
              "    </tr>\n",
              "    <tr>\n",
              "      <th>...</th>\n",
              "      <td>...</td>\n",
              "      <td>...</td>\n",
              "      <td>...</td>\n",
              "      <td>...</td>\n",
              "      <td>...</td>\n",
              "      <td>...</td>\n",
              "      <td>...</td>\n",
              "    </tr>\n",
              "    <tr>\n",
              "      <th>1333</th>\n",
              "      <td>50</td>\n",
              "      <td>male</td>\n",
              "      <td>30.970</td>\n",
              "      <td>3</td>\n",
              "      <td>no</td>\n",
              "      <td>northwest</td>\n",
              "      <td>10600.54830</td>\n",
              "    </tr>\n",
              "    <tr>\n",
              "      <th>1334</th>\n",
              "      <td>18</td>\n",
              "      <td>female</td>\n",
              "      <td>31.920</td>\n",
              "      <td>0</td>\n",
              "      <td>no</td>\n",
              "      <td>northeast</td>\n",
              "      <td>2205.98080</td>\n",
              "    </tr>\n",
              "    <tr>\n",
              "      <th>1335</th>\n",
              "      <td>18</td>\n",
              "      <td>female</td>\n",
              "      <td>36.850</td>\n",
              "      <td>0</td>\n",
              "      <td>no</td>\n",
              "      <td>southeast</td>\n",
              "      <td>1629.83350</td>\n",
              "    </tr>\n",
              "    <tr>\n",
              "      <th>1336</th>\n",
              "      <td>21</td>\n",
              "      <td>female</td>\n",
              "      <td>25.800</td>\n",
              "      <td>0</td>\n",
              "      <td>no</td>\n",
              "      <td>southwest</td>\n",
              "      <td>2007.94500</td>\n",
              "    </tr>\n",
              "    <tr>\n",
              "      <th>1337</th>\n",
              "      <td>61</td>\n",
              "      <td>female</td>\n",
              "      <td>29.070</td>\n",
              "      <td>0</td>\n",
              "      <td>yes</td>\n",
              "      <td>northwest</td>\n",
              "      <td>29141.36030</td>\n",
              "    </tr>\n",
              "  </tbody>\n",
              "</table>\n",
              "<p>1338 rows × 7 columns</p>\n",
              "</div>\n",
              "      <button class=\"colab-df-convert\" onclick=\"convertToInteractive('df-30fb662c-6886-4471-b630-b2e73825604d')\"\n",
              "              title=\"Convert this dataframe to an interactive table.\"\n",
              "              style=\"display:none;\">\n",
              "        \n",
              "  <svg xmlns=\"http://www.w3.org/2000/svg\" height=\"24px\"viewBox=\"0 0 24 24\"\n",
              "       width=\"24px\">\n",
              "    <path d=\"M0 0h24v24H0V0z\" fill=\"none\"/>\n",
              "    <path d=\"M18.56 5.44l.94 2.06.94-2.06 2.06-.94-2.06-.94-.94-2.06-.94 2.06-2.06.94zm-11 1L8.5 8.5l.94-2.06 2.06-.94-2.06-.94L8.5 2.5l-.94 2.06-2.06.94zm10 10l.94 2.06.94-2.06 2.06-.94-2.06-.94-.94-2.06-.94 2.06-2.06.94z\"/><path d=\"M17.41 7.96l-1.37-1.37c-.4-.4-.92-.59-1.43-.59-.52 0-1.04.2-1.43.59L10.3 9.45l-7.72 7.72c-.78.78-.78 2.05 0 2.83L4 21.41c.39.39.9.59 1.41.59.51 0 1.02-.2 1.41-.59l7.78-7.78 2.81-2.81c.8-.78.8-2.07 0-2.86zM5.41 20L4 18.59l7.72-7.72 1.47 1.35L5.41 20z\"/>\n",
              "  </svg>\n",
              "      </button>\n",
              "      \n",
              "  <style>\n",
              "    .colab-df-container {\n",
              "      display:flex;\n",
              "      flex-wrap:wrap;\n",
              "      gap: 12px;\n",
              "    }\n",
              "\n",
              "    .colab-df-convert {\n",
              "      background-color: #E8F0FE;\n",
              "      border: none;\n",
              "      border-radius: 50%;\n",
              "      cursor: pointer;\n",
              "      display: none;\n",
              "      fill: #1967D2;\n",
              "      height: 32px;\n",
              "      padding: 0 0 0 0;\n",
              "      width: 32px;\n",
              "    }\n",
              "\n",
              "    .colab-df-convert:hover {\n",
              "      background-color: #E2EBFA;\n",
              "      box-shadow: 0px 1px 2px rgba(60, 64, 67, 0.3), 0px 1px 3px 1px rgba(60, 64, 67, 0.15);\n",
              "      fill: #174EA6;\n",
              "    }\n",
              "\n",
              "    [theme=dark] .colab-df-convert {\n",
              "      background-color: #3B4455;\n",
              "      fill: #D2E3FC;\n",
              "    }\n",
              "\n",
              "    [theme=dark] .colab-df-convert:hover {\n",
              "      background-color: #434B5C;\n",
              "      box-shadow: 0px 1px 3px 1px rgba(0, 0, 0, 0.15);\n",
              "      filter: drop-shadow(0px 1px 2px rgba(0, 0, 0, 0.3));\n",
              "      fill: #FFFFFF;\n",
              "    }\n",
              "  </style>\n",
              "\n",
              "      <script>\n",
              "        const buttonEl =\n",
              "          document.querySelector('#df-30fb662c-6886-4471-b630-b2e73825604d button.colab-df-convert');\n",
              "        buttonEl.style.display =\n",
              "          google.colab.kernel.accessAllowed ? 'block' : 'none';\n",
              "\n",
              "        async function convertToInteractive(key) {\n",
              "          const element = document.querySelector('#df-30fb662c-6886-4471-b630-b2e73825604d');\n",
              "          const dataTable =\n",
              "            await google.colab.kernel.invokeFunction('convertToInteractive',\n",
              "                                                     [key], {});\n",
              "          if (!dataTable) return;\n",
              "\n",
              "          const docLinkHtml = 'Like what you see? Visit the ' +\n",
              "            '<a target=\"_blank\" href=https://colab.research.google.com/notebooks/data_table.ipynb>data table notebook</a>'\n",
              "            + ' to learn more about interactive tables.';\n",
              "          element.innerHTML = '';\n",
              "          dataTable['output_type'] = 'display_data';\n",
              "          await google.colab.output.renderOutput(dataTable, element);\n",
              "          const docLink = document.createElement('div');\n",
              "          docLink.innerHTML = docLinkHtml;\n",
              "          element.appendChild(docLink);\n",
              "        }\n",
              "      </script>\n",
              "    </div>\n",
              "  </div>\n",
              "  "
            ],
            "text/plain": [
              "      age     sex     bmi  children smoker     region      charges\n",
              "0      19  female  27.900         0    yes  southwest  16884.92400\n",
              "1      18    male  33.770         1     no  southeast   1725.55230\n",
              "2      28    male  33.000         3     no  southeast   4449.46200\n",
              "3      33    male  22.705         0     no  northwest  21984.47061\n",
              "4      32    male  28.880         0     no  northwest   3866.85520\n",
              "...   ...     ...     ...       ...    ...        ...          ...\n",
              "1333   50    male  30.970         3     no  northwest  10600.54830\n",
              "1334   18  female  31.920         0     no  northeast   2205.98080\n",
              "1335   18  female  36.850         0     no  southeast   1629.83350\n",
              "1336   21  female  25.800         0     no  southwest   2007.94500\n",
              "1337   61  female  29.070         0    yes  northwest  29141.36030\n",
              "\n",
              "[1338 rows x 7 columns]"
            ]
          },
          "metadata": {},
          "execution_count": 85
        }
      ]
    },
    {
      "cell_type": "markdown",
      "source": [
        "We're going to have to turn the non-numerical columns into numbers (because a neural network can't handle non-numerical inputs).\n",
        "\n",
        "To do so, we'll use the ```get_dummies()``` method in pandas.\n",
        "\n",
        "It converts categorical variables (like the ```sex```, ```smoker``` and ```region``` columns) into numerical variables using **one-hot** encoding."
      ],
      "metadata": {
        "id": "ZO7RoUaRg7WN"
      }
    },
    {
      "cell_type": "code",
      "source": [
        "# Let's try and one-hot encode our dataframe so that it's all numbers\n",
        "insurance_one_hot = pd.get_dummies(insurance)\n",
        "insurance_one_hot.head()"
      ],
      "metadata": {
        "colab": {
          "base_uri": "https://localhost:8080/",
          "height": 215
        },
        "id": "8IGOiF8CfJBG",
        "outputId": "ee655f00-3f37-401e-9724-8be3396cb3b8"
      },
      "execution_count": 81,
      "outputs": [
        {
          "output_type": "execute_result",
          "data": {
            "text/html": [
              "\n",
              "  <div id=\"df-39fdcad0-d248-4e54-a5b7-1264cd865a57\">\n",
              "    <div class=\"colab-df-container\">\n",
              "      <div>\n",
              "<style scoped>\n",
              "    .dataframe tbody tr th:only-of-type {\n",
              "        vertical-align: middle;\n",
              "    }\n",
              "\n",
              "    .dataframe tbody tr th {\n",
              "        vertical-align: top;\n",
              "    }\n",
              "\n",
              "    .dataframe thead th {\n",
              "        text-align: right;\n",
              "    }\n",
              "</style>\n",
              "<table border=\"1\" class=\"dataframe\">\n",
              "  <thead>\n",
              "    <tr style=\"text-align: right;\">\n",
              "      <th></th>\n",
              "      <th>age</th>\n",
              "      <th>bmi</th>\n",
              "      <th>children</th>\n",
              "      <th>charges</th>\n",
              "      <th>sex_female</th>\n",
              "      <th>sex_male</th>\n",
              "      <th>smoker_no</th>\n",
              "      <th>smoker_yes</th>\n",
              "      <th>region_northeast</th>\n",
              "      <th>region_northwest</th>\n",
              "      <th>region_southeast</th>\n",
              "      <th>region_southwest</th>\n",
              "    </tr>\n",
              "  </thead>\n",
              "  <tbody>\n",
              "    <tr>\n",
              "      <th>0</th>\n",
              "      <td>19</td>\n",
              "      <td>27.900</td>\n",
              "      <td>0</td>\n",
              "      <td>16884.92400</td>\n",
              "      <td>1</td>\n",
              "      <td>0</td>\n",
              "      <td>0</td>\n",
              "      <td>1</td>\n",
              "      <td>0</td>\n",
              "      <td>0</td>\n",
              "      <td>0</td>\n",
              "      <td>1</td>\n",
              "    </tr>\n",
              "    <tr>\n",
              "      <th>1</th>\n",
              "      <td>18</td>\n",
              "      <td>33.770</td>\n",
              "      <td>1</td>\n",
              "      <td>1725.55230</td>\n",
              "      <td>0</td>\n",
              "      <td>1</td>\n",
              "      <td>1</td>\n",
              "      <td>0</td>\n",
              "      <td>0</td>\n",
              "      <td>0</td>\n",
              "      <td>1</td>\n",
              "      <td>0</td>\n",
              "    </tr>\n",
              "    <tr>\n",
              "      <th>2</th>\n",
              "      <td>28</td>\n",
              "      <td>33.000</td>\n",
              "      <td>3</td>\n",
              "      <td>4449.46200</td>\n",
              "      <td>0</td>\n",
              "      <td>1</td>\n",
              "      <td>1</td>\n",
              "      <td>0</td>\n",
              "      <td>0</td>\n",
              "      <td>0</td>\n",
              "      <td>1</td>\n",
              "      <td>0</td>\n",
              "    </tr>\n",
              "    <tr>\n",
              "      <th>3</th>\n",
              "      <td>33</td>\n",
              "      <td>22.705</td>\n",
              "      <td>0</td>\n",
              "      <td>21984.47061</td>\n",
              "      <td>0</td>\n",
              "      <td>1</td>\n",
              "      <td>1</td>\n",
              "      <td>0</td>\n",
              "      <td>0</td>\n",
              "      <td>1</td>\n",
              "      <td>0</td>\n",
              "      <td>0</td>\n",
              "    </tr>\n",
              "    <tr>\n",
              "      <th>4</th>\n",
              "      <td>32</td>\n",
              "      <td>28.880</td>\n",
              "      <td>0</td>\n",
              "      <td>3866.85520</td>\n",
              "      <td>0</td>\n",
              "      <td>1</td>\n",
              "      <td>1</td>\n",
              "      <td>0</td>\n",
              "      <td>0</td>\n",
              "      <td>1</td>\n",
              "      <td>0</td>\n",
              "      <td>0</td>\n",
              "    </tr>\n",
              "  </tbody>\n",
              "</table>\n",
              "</div>\n",
              "      <button class=\"colab-df-convert\" onclick=\"convertToInteractive('df-39fdcad0-d248-4e54-a5b7-1264cd865a57')\"\n",
              "              title=\"Convert this dataframe to an interactive table.\"\n",
              "              style=\"display:none;\">\n",
              "        \n",
              "  <svg xmlns=\"http://www.w3.org/2000/svg\" height=\"24px\"viewBox=\"0 0 24 24\"\n",
              "       width=\"24px\">\n",
              "    <path d=\"M0 0h24v24H0V0z\" fill=\"none\"/>\n",
              "    <path d=\"M18.56 5.44l.94 2.06.94-2.06 2.06-.94-2.06-.94-.94-2.06-.94 2.06-2.06.94zm-11 1L8.5 8.5l.94-2.06 2.06-.94-2.06-.94L8.5 2.5l-.94 2.06-2.06.94zm10 10l.94 2.06.94-2.06 2.06-.94-2.06-.94-.94-2.06-.94 2.06-2.06.94z\"/><path d=\"M17.41 7.96l-1.37-1.37c-.4-.4-.92-.59-1.43-.59-.52 0-1.04.2-1.43.59L10.3 9.45l-7.72 7.72c-.78.78-.78 2.05 0 2.83L4 21.41c.39.39.9.59 1.41.59.51 0 1.02-.2 1.41-.59l7.78-7.78 2.81-2.81c.8-.78.8-2.07 0-2.86zM5.41 20L4 18.59l7.72-7.72 1.47 1.35L5.41 20z\"/>\n",
              "  </svg>\n",
              "      </button>\n",
              "      \n",
              "  <style>\n",
              "    .colab-df-container {\n",
              "      display:flex;\n",
              "      flex-wrap:wrap;\n",
              "      gap: 12px;\n",
              "    }\n",
              "\n",
              "    .colab-df-convert {\n",
              "      background-color: #E8F0FE;\n",
              "      border: none;\n",
              "      border-radius: 50%;\n",
              "      cursor: pointer;\n",
              "      display: none;\n",
              "      fill: #1967D2;\n",
              "      height: 32px;\n",
              "      padding: 0 0 0 0;\n",
              "      width: 32px;\n",
              "    }\n",
              "\n",
              "    .colab-df-convert:hover {\n",
              "      background-color: #E2EBFA;\n",
              "      box-shadow: 0px 1px 2px rgba(60, 64, 67, 0.3), 0px 1px 3px 1px rgba(60, 64, 67, 0.15);\n",
              "      fill: #174EA6;\n",
              "    }\n",
              "\n",
              "    [theme=dark] .colab-df-convert {\n",
              "      background-color: #3B4455;\n",
              "      fill: #D2E3FC;\n",
              "    }\n",
              "\n",
              "    [theme=dark] .colab-df-convert:hover {\n",
              "      background-color: #434B5C;\n",
              "      box-shadow: 0px 1px 3px 1px rgba(0, 0, 0, 0.15);\n",
              "      filter: drop-shadow(0px 1px 2px rgba(0, 0, 0, 0.3));\n",
              "      fill: #FFFFFF;\n",
              "    }\n",
              "  </style>\n",
              "\n",
              "      <script>\n",
              "        const buttonEl =\n",
              "          document.querySelector('#df-39fdcad0-d248-4e54-a5b7-1264cd865a57 button.colab-df-convert');\n",
              "        buttonEl.style.display =\n",
              "          google.colab.kernel.accessAllowed ? 'block' : 'none';\n",
              "\n",
              "        async function convertToInteractive(key) {\n",
              "          const element = document.querySelector('#df-39fdcad0-d248-4e54-a5b7-1264cd865a57');\n",
              "          const dataTable =\n",
              "            await google.colab.kernel.invokeFunction('convertToInteractive',\n",
              "                                                     [key], {});\n",
              "          if (!dataTable) return;\n",
              "\n",
              "          const docLinkHtml = 'Like what you see? Visit the ' +\n",
              "            '<a target=\"_blank\" href=https://colab.research.google.com/notebooks/data_table.ipynb>data table notebook</a>'\n",
              "            + ' to learn more about interactive tables.';\n",
              "          element.innerHTML = '';\n",
              "          dataTable['output_type'] = 'display_data';\n",
              "          await google.colab.output.renderOutput(dataTable, element);\n",
              "          const docLink = document.createElement('div');\n",
              "          docLink.innerHTML = docLinkHtml;\n",
              "          element.appendChild(docLink);\n",
              "        }\n",
              "      </script>\n",
              "    </div>\n",
              "  </div>\n",
              "  "
            ],
            "text/plain": [
              "   age     bmi  children  ...  region_northwest  region_southeast  region_southwest\n",
              "0   19  27.900         0  ...                 0                 0                 1\n",
              "1   18  33.770         1  ...                 0                 1                 0\n",
              "2   28  33.000         3  ...                 0                 1                 0\n",
              "3   33  22.705         0  ...                 1                 0                 0\n",
              "4   32  28.880         0  ...                 1                 0                 0\n",
              "\n",
              "[5 rows x 12 columns]"
            ]
          },
          "metadata": {},
          "execution_count": 81
        }
      ]
    },
    {
      "cell_type": "markdown",
      "source": [
        "# Now we'll split data into features (X) and labels (y)."
      ],
      "metadata": {
        "id": "K-dyJgEomHV9"
      }
    },
    {
      "cell_type": "code",
      "source": [
        "# Create x and y values features and labels\n",
        "X = insurance_one_hot.drop(\"charges\", axis=1) # We don't need charges included to our features/predictions (independent variables)\n",
        "Y = insurance_one_hot[\"charges\"] # Dependent variables"
      ],
      "metadata": {
        "id": "0Qd4N5UWkZPh"
      },
      "execution_count": 87,
      "outputs": []
    },
    {
      "cell_type": "code",
      "source": [
        "# View X\n",
        "X.head()"
      ],
      "metadata": {
        "colab": {
          "base_uri": "https://localhost:8080/",
          "height": 215
        },
        "id": "efrij85AlDOv",
        "outputId": "d4b93149-6478-43e3-f8bb-0a5fc59cac1d"
      },
      "execution_count": 88,
      "outputs": [
        {
          "output_type": "execute_result",
          "data": {
            "text/html": [
              "\n",
              "  <div id=\"df-a84b7943-2424-4267-b43b-bbff3122c71a\">\n",
              "    <div class=\"colab-df-container\">\n",
              "      <div>\n",
              "<style scoped>\n",
              "    .dataframe tbody tr th:only-of-type {\n",
              "        vertical-align: middle;\n",
              "    }\n",
              "\n",
              "    .dataframe tbody tr th {\n",
              "        vertical-align: top;\n",
              "    }\n",
              "\n",
              "    .dataframe thead th {\n",
              "        text-align: right;\n",
              "    }\n",
              "</style>\n",
              "<table border=\"1\" class=\"dataframe\">\n",
              "  <thead>\n",
              "    <tr style=\"text-align: right;\">\n",
              "      <th></th>\n",
              "      <th>age</th>\n",
              "      <th>bmi</th>\n",
              "      <th>children</th>\n",
              "      <th>sex_female</th>\n",
              "      <th>sex_male</th>\n",
              "      <th>smoker_no</th>\n",
              "      <th>smoker_yes</th>\n",
              "      <th>region_northeast</th>\n",
              "      <th>region_northwest</th>\n",
              "      <th>region_southeast</th>\n",
              "      <th>region_southwest</th>\n",
              "    </tr>\n",
              "  </thead>\n",
              "  <tbody>\n",
              "    <tr>\n",
              "      <th>0</th>\n",
              "      <td>19</td>\n",
              "      <td>27.900</td>\n",
              "      <td>0</td>\n",
              "      <td>1</td>\n",
              "      <td>0</td>\n",
              "      <td>0</td>\n",
              "      <td>1</td>\n",
              "      <td>0</td>\n",
              "      <td>0</td>\n",
              "      <td>0</td>\n",
              "      <td>1</td>\n",
              "    </tr>\n",
              "    <tr>\n",
              "      <th>1</th>\n",
              "      <td>18</td>\n",
              "      <td>33.770</td>\n",
              "      <td>1</td>\n",
              "      <td>0</td>\n",
              "      <td>1</td>\n",
              "      <td>1</td>\n",
              "      <td>0</td>\n",
              "      <td>0</td>\n",
              "      <td>0</td>\n",
              "      <td>1</td>\n",
              "      <td>0</td>\n",
              "    </tr>\n",
              "    <tr>\n",
              "      <th>2</th>\n",
              "      <td>28</td>\n",
              "      <td>33.000</td>\n",
              "      <td>3</td>\n",
              "      <td>0</td>\n",
              "      <td>1</td>\n",
              "      <td>1</td>\n",
              "      <td>0</td>\n",
              "      <td>0</td>\n",
              "      <td>0</td>\n",
              "      <td>1</td>\n",
              "      <td>0</td>\n",
              "    </tr>\n",
              "    <tr>\n",
              "      <th>3</th>\n",
              "      <td>33</td>\n",
              "      <td>22.705</td>\n",
              "      <td>0</td>\n",
              "      <td>0</td>\n",
              "      <td>1</td>\n",
              "      <td>1</td>\n",
              "      <td>0</td>\n",
              "      <td>0</td>\n",
              "      <td>1</td>\n",
              "      <td>0</td>\n",
              "      <td>0</td>\n",
              "    </tr>\n",
              "    <tr>\n",
              "      <th>4</th>\n",
              "      <td>32</td>\n",
              "      <td>28.880</td>\n",
              "      <td>0</td>\n",
              "      <td>0</td>\n",
              "      <td>1</td>\n",
              "      <td>1</td>\n",
              "      <td>0</td>\n",
              "      <td>0</td>\n",
              "      <td>1</td>\n",
              "      <td>0</td>\n",
              "      <td>0</td>\n",
              "    </tr>\n",
              "  </tbody>\n",
              "</table>\n",
              "</div>\n",
              "      <button class=\"colab-df-convert\" onclick=\"convertToInteractive('df-a84b7943-2424-4267-b43b-bbff3122c71a')\"\n",
              "              title=\"Convert this dataframe to an interactive table.\"\n",
              "              style=\"display:none;\">\n",
              "        \n",
              "  <svg xmlns=\"http://www.w3.org/2000/svg\" height=\"24px\"viewBox=\"0 0 24 24\"\n",
              "       width=\"24px\">\n",
              "    <path d=\"M0 0h24v24H0V0z\" fill=\"none\"/>\n",
              "    <path d=\"M18.56 5.44l.94 2.06.94-2.06 2.06-.94-2.06-.94-.94-2.06-.94 2.06-2.06.94zm-11 1L8.5 8.5l.94-2.06 2.06-.94-2.06-.94L8.5 2.5l-.94 2.06-2.06.94zm10 10l.94 2.06.94-2.06 2.06-.94-2.06-.94-.94-2.06-.94 2.06-2.06.94z\"/><path d=\"M17.41 7.96l-1.37-1.37c-.4-.4-.92-.59-1.43-.59-.52 0-1.04.2-1.43.59L10.3 9.45l-7.72 7.72c-.78.78-.78 2.05 0 2.83L4 21.41c.39.39.9.59 1.41.59.51 0 1.02-.2 1.41-.59l7.78-7.78 2.81-2.81c.8-.78.8-2.07 0-2.86zM5.41 20L4 18.59l7.72-7.72 1.47 1.35L5.41 20z\"/>\n",
              "  </svg>\n",
              "      </button>\n",
              "      \n",
              "  <style>\n",
              "    .colab-df-container {\n",
              "      display:flex;\n",
              "      flex-wrap:wrap;\n",
              "      gap: 12px;\n",
              "    }\n",
              "\n",
              "    .colab-df-convert {\n",
              "      background-color: #E8F0FE;\n",
              "      border: none;\n",
              "      border-radius: 50%;\n",
              "      cursor: pointer;\n",
              "      display: none;\n",
              "      fill: #1967D2;\n",
              "      height: 32px;\n",
              "      padding: 0 0 0 0;\n",
              "      width: 32px;\n",
              "    }\n",
              "\n",
              "    .colab-df-convert:hover {\n",
              "      background-color: #E2EBFA;\n",
              "      box-shadow: 0px 1px 2px rgba(60, 64, 67, 0.3), 0px 1px 3px 1px rgba(60, 64, 67, 0.15);\n",
              "      fill: #174EA6;\n",
              "    }\n",
              "\n",
              "    [theme=dark] .colab-df-convert {\n",
              "      background-color: #3B4455;\n",
              "      fill: #D2E3FC;\n",
              "    }\n",
              "\n",
              "    [theme=dark] .colab-df-convert:hover {\n",
              "      background-color: #434B5C;\n",
              "      box-shadow: 0px 1px 3px 1px rgba(0, 0, 0, 0.15);\n",
              "      filter: drop-shadow(0px 1px 2px rgba(0, 0, 0, 0.3));\n",
              "      fill: #FFFFFF;\n",
              "    }\n",
              "  </style>\n",
              "\n",
              "      <script>\n",
              "        const buttonEl =\n",
              "          document.querySelector('#df-a84b7943-2424-4267-b43b-bbff3122c71a button.colab-df-convert');\n",
              "        buttonEl.style.display =\n",
              "          google.colab.kernel.accessAllowed ? 'block' : 'none';\n",
              "\n",
              "        async function convertToInteractive(key) {\n",
              "          const element = document.querySelector('#df-a84b7943-2424-4267-b43b-bbff3122c71a');\n",
              "          const dataTable =\n",
              "            await google.colab.kernel.invokeFunction('convertToInteractive',\n",
              "                                                     [key], {});\n",
              "          if (!dataTable) return;\n",
              "\n",
              "          const docLinkHtml = 'Like what you see? Visit the ' +\n",
              "            '<a target=\"_blank\" href=https://colab.research.google.com/notebooks/data_table.ipynb>data table notebook</a>'\n",
              "            + ' to learn more about interactive tables.';\n",
              "          element.innerHTML = '';\n",
              "          dataTable['output_type'] = 'display_data';\n",
              "          await google.colab.output.renderOutput(dataTable, element);\n",
              "          const docLink = document.createElement('div');\n",
              "          docLink.innerHTML = docLinkHtml;\n",
              "          element.appendChild(docLink);\n",
              "        }\n",
              "      </script>\n",
              "    </div>\n",
              "  </div>\n",
              "  "
            ],
            "text/plain": [
              "   age     bmi  children  ...  region_northwest  region_southeast  region_southwest\n",
              "0   19  27.900         0  ...                 0                 0                 1\n",
              "1   18  33.770         1  ...                 0                 1                 0\n",
              "2   28  33.000         3  ...                 0                 1                 0\n",
              "3   33  22.705         0  ...                 1                 0                 0\n",
              "4   32  28.880         0  ...                 1                 0                 0\n",
              "\n",
              "[5 rows x 11 columns]"
            ]
          },
          "metadata": {},
          "execution_count": 88
        }
      ]
    },
    {
      "cell_type": "code",
      "source": [
        "# View Y\n",
        "Y.head()"
      ],
      "metadata": {
        "colab": {
          "base_uri": "https://localhost:8080/"
        },
        "id": "LPXZ4zV1omTM",
        "outputId": "1af33abc-fe62-4e09-811e-9f4a2dc33abe"
      },
      "execution_count": 89,
      "outputs": [
        {
          "output_type": "execute_result",
          "data": {
            "text/plain": [
              "0    16884.92400\n",
              "1     1725.55230\n",
              "2     4449.46200\n",
              "3    21984.47061\n",
              "4     3866.85520\n",
              "Name: charges, dtype: float64"
            ]
          },
          "metadata": {},
          "execution_count": 89
        }
      ]
    },
    {
      "cell_type": "code",
      "source": [
        "# Create Training and Testing sets\n",
        "X_train, X_test, y_train, y_test = train_test_split(X, Y, test_size=0.2, random_state=42) # By default setting the data to tensors\n",
        "len(X), len(X_train), len(X_test)"
      ],
      "metadata": {
        "colab": {
          "base_uri": "https://localhost:8080/"
        },
        "id": "ojSGUusGoshN",
        "outputId": "5ba1cc7d-84aa-4c15-a97f-4433f80ed253"
      },
      "execution_count": 158,
      "outputs": [
        {
          "output_type": "execute_result",
          "data": {
            "text/plain": [
              "(1338, 1070, 268)"
            ]
          },
          "metadata": {},
          "execution_count": 158
        }
      ]
    },
    {
      "cell_type": "code",
      "source": [
        "X_train"
      ],
      "metadata": {
        "colab": {
          "base_uri": "https://localhost:8080/",
          "height": 424
        },
        "id": "2oQLkmWyxhmt",
        "outputId": "ad4e616e-4ee8-4ae1-a218-b238c6d45572"
      },
      "execution_count": 161,
      "outputs": [
        {
          "output_type": "execute_result",
          "data": {
            "text/html": [
              "\n",
              "  <div id=\"df-56c4dc9c-0f94-4c33-b0a6-272f032e3272\">\n",
              "    <div class=\"colab-df-container\">\n",
              "      <div>\n",
              "<style scoped>\n",
              "    .dataframe tbody tr th:only-of-type {\n",
              "        vertical-align: middle;\n",
              "    }\n",
              "\n",
              "    .dataframe tbody tr th {\n",
              "        vertical-align: top;\n",
              "    }\n",
              "\n",
              "    .dataframe thead th {\n",
              "        text-align: right;\n",
              "    }\n",
              "</style>\n",
              "<table border=\"1\" class=\"dataframe\">\n",
              "  <thead>\n",
              "    <tr style=\"text-align: right;\">\n",
              "      <th></th>\n",
              "      <th>age</th>\n",
              "      <th>bmi</th>\n",
              "      <th>children</th>\n",
              "      <th>sex_female</th>\n",
              "      <th>sex_male</th>\n",
              "      <th>smoker_no</th>\n",
              "      <th>smoker_yes</th>\n",
              "      <th>region_northeast</th>\n",
              "      <th>region_northwest</th>\n",
              "      <th>region_southeast</th>\n",
              "      <th>region_southwest</th>\n",
              "    </tr>\n",
              "  </thead>\n",
              "  <tbody>\n",
              "    <tr>\n",
              "      <th>560</th>\n",
              "      <td>46</td>\n",
              "      <td>19.950</td>\n",
              "      <td>2</td>\n",
              "      <td>1</td>\n",
              "      <td>0</td>\n",
              "      <td>1</td>\n",
              "      <td>0</td>\n",
              "      <td>0</td>\n",
              "      <td>1</td>\n",
              "      <td>0</td>\n",
              "      <td>0</td>\n",
              "    </tr>\n",
              "    <tr>\n",
              "      <th>1285</th>\n",
              "      <td>47</td>\n",
              "      <td>24.320</td>\n",
              "      <td>0</td>\n",
              "      <td>1</td>\n",
              "      <td>0</td>\n",
              "      <td>1</td>\n",
              "      <td>0</td>\n",
              "      <td>1</td>\n",
              "      <td>0</td>\n",
              "      <td>0</td>\n",
              "      <td>0</td>\n",
              "    </tr>\n",
              "    <tr>\n",
              "      <th>1142</th>\n",
              "      <td>52</td>\n",
              "      <td>24.860</td>\n",
              "      <td>0</td>\n",
              "      <td>1</td>\n",
              "      <td>0</td>\n",
              "      <td>1</td>\n",
              "      <td>0</td>\n",
              "      <td>0</td>\n",
              "      <td>0</td>\n",
              "      <td>1</td>\n",
              "      <td>0</td>\n",
              "    </tr>\n",
              "    <tr>\n",
              "      <th>969</th>\n",
              "      <td>39</td>\n",
              "      <td>34.320</td>\n",
              "      <td>5</td>\n",
              "      <td>1</td>\n",
              "      <td>0</td>\n",
              "      <td>1</td>\n",
              "      <td>0</td>\n",
              "      <td>0</td>\n",
              "      <td>0</td>\n",
              "      <td>1</td>\n",
              "      <td>0</td>\n",
              "    </tr>\n",
              "    <tr>\n",
              "      <th>486</th>\n",
              "      <td>54</td>\n",
              "      <td>21.470</td>\n",
              "      <td>3</td>\n",
              "      <td>1</td>\n",
              "      <td>0</td>\n",
              "      <td>1</td>\n",
              "      <td>0</td>\n",
              "      <td>0</td>\n",
              "      <td>1</td>\n",
              "      <td>0</td>\n",
              "      <td>0</td>\n",
              "    </tr>\n",
              "    <tr>\n",
              "      <th>...</th>\n",
              "      <td>...</td>\n",
              "      <td>...</td>\n",
              "      <td>...</td>\n",
              "      <td>...</td>\n",
              "      <td>...</td>\n",
              "      <td>...</td>\n",
              "      <td>...</td>\n",
              "      <td>...</td>\n",
              "      <td>...</td>\n",
              "      <td>...</td>\n",
              "      <td>...</td>\n",
              "    </tr>\n",
              "    <tr>\n",
              "      <th>1095</th>\n",
              "      <td>18</td>\n",
              "      <td>31.350</td>\n",
              "      <td>4</td>\n",
              "      <td>1</td>\n",
              "      <td>0</td>\n",
              "      <td>1</td>\n",
              "      <td>0</td>\n",
              "      <td>1</td>\n",
              "      <td>0</td>\n",
              "      <td>0</td>\n",
              "      <td>0</td>\n",
              "    </tr>\n",
              "    <tr>\n",
              "      <th>1130</th>\n",
              "      <td>39</td>\n",
              "      <td>23.870</td>\n",
              "      <td>5</td>\n",
              "      <td>1</td>\n",
              "      <td>0</td>\n",
              "      <td>1</td>\n",
              "      <td>0</td>\n",
              "      <td>0</td>\n",
              "      <td>0</td>\n",
              "      <td>1</td>\n",
              "      <td>0</td>\n",
              "    </tr>\n",
              "    <tr>\n",
              "      <th>1294</th>\n",
              "      <td>58</td>\n",
              "      <td>25.175</td>\n",
              "      <td>0</td>\n",
              "      <td>0</td>\n",
              "      <td>1</td>\n",
              "      <td>1</td>\n",
              "      <td>0</td>\n",
              "      <td>1</td>\n",
              "      <td>0</td>\n",
              "      <td>0</td>\n",
              "      <td>0</td>\n",
              "    </tr>\n",
              "    <tr>\n",
              "      <th>860</th>\n",
              "      <td>37</td>\n",
              "      <td>47.600</td>\n",
              "      <td>2</td>\n",
              "      <td>1</td>\n",
              "      <td>0</td>\n",
              "      <td>0</td>\n",
              "      <td>1</td>\n",
              "      <td>0</td>\n",
              "      <td>0</td>\n",
              "      <td>0</td>\n",
              "      <td>1</td>\n",
              "    </tr>\n",
              "    <tr>\n",
              "      <th>1126</th>\n",
              "      <td>55</td>\n",
              "      <td>29.900</td>\n",
              "      <td>0</td>\n",
              "      <td>0</td>\n",
              "      <td>1</td>\n",
              "      <td>1</td>\n",
              "      <td>0</td>\n",
              "      <td>0</td>\n",
              "      <td>0</td>\n",
              "      <td>0</td>\n",
              "      <td>1</td>\n",
              "    </tr>\n",
              "  </tbody>\n",
              "</table>\n",
              "<p>1070 rows × 11 columns</p>\n",
              "</div>\n",
              "      <button class=\"colab-df-convert\" onclick=\"convertToInteractive('df-56c4dc9c-0f94-4c33-b0a6-272f032e3272')\"\n",
              "              title=\"Convert this dataframe to an interactive table.\"\n",
              "              style=\"display:none;\">\n",
              "        \n",
              "  <svg xmlns=\"http://www.w3.org/2000/svg\" height=\"24px\"viewBox=\"0 0 24 24\"\n",
              "       width=\"24px\">\n",
              "    <path d=\"M0 0h24v24H0V0z\" fill=\"none\"/>\n",
              "    <path d=\"M18.56 5.44l.94 2.06.94-2.06 2.06-.94-2.06-.94-.94-2.06-.94 2.06-2.06.94zm-11 1L8.5 8.5l.94-2.06 2.06-.94-2.06-.94L8.5 2.5l-.94 2.06-2.06.94zm10 10l.94 2.06.94-2.06 2.06-.94-2.06-.94-.94-2.06-.94 2.06-2.06.94z\"/><path d=\"M17.41 7.96l-1.37-1.37c-.4-.4-.92-.59-1.43-.59-.52 0-1.04.2-1.43.59L10.3 9.45l-7.72 7.72c-.78.78-.78 2.05 0 2.83L4 21.41c.39.39.9.59 1.41.59.51 0 1.02-.2 1.41-.59l7.78-7.78 2.81-2.81c.8-.78.8-2.07 0-2.86zM5.41 20L4 18.59l7.72-7.72 1.47 1.35L5.41 20z\"/>\n",
              "  </svg>\n",
              "      </button>\n",
              "      \n",
              "  <style>\n",
              "    .colab-df-container {\n",
              "      display:flex;\n",
              "      flex-wrap:wrap;\n",
              "      gap: 12px;\n",
              "    }\n",
              "\n",
              "    .colab-df-convert {\n",
              "      background-color: #E8F0FE;\n",
              "      border: none;\n",
              "      border-radius: 50%;\n",
              "      cursor: pointer;\n",
              "      display: none;\n",
              "      fill: #1967D2;\n",
              "      height: 32px;\n",
              "      padding: 0 0 0 0;\n",
              "      width: 32px;\n",
              "    }\n",
              "\n",
              "    .colab-df-convert:hover {\n",
              "      background-color: #E2EBFA;\n",
              "      box-shadow: 0px 1px 2px rgba(60, 64, 67, 0.3), 0px 1px 3px 1px rgba(60, 64, 67, 0.15);\n",
              "      fill: #174EA6;\n",
              "    }\n",
              "\n",
              "    [theme=dark] .colab-df-convert {\n",
              "      background-color: #3B4455;\n",
              "      fill: #D2E3FC;\n",
              "    }\n",
              "\n",
              "    [theme=dark] .colab-df-convert:hover {\n",
              "      background-color: #434B5C;\n",
              "      box-shadow: 0px 1px 3px 1px rgba(0, 0, 0, 0.15);\n",
              "      filter: drop-shadow(0px 1px 2px rgba(0, 0, 0, 0.3));\n",
              "      fill: #FFFFFF;\n",
              "    }\n",
              "  </style>\n",
              "\n",
              "      <script>\n",
              "        const buttonEl =\n",
              "          document.querySelector('#df-56c4dc9c-0f94-4c33-b0a6-272f032e3272 button.colab-df-convert');\n",
              "        buttonEl.style.display =\n",
              "          google.colab.kernel.accessAllowed ? 'block' : 'none';\n",
              "\n",
              "        async function convertToInteractive(key) {\n",
              "          const element = document.querySelector('#df-56c4dc9c-0f94-4c33-b0a6-272f032e3272');\n",
              "          const dataTable =\n",
              "            await google.colab.kernel.invokeFunction('convertToInteractive',\n",
              "                                                     [key], {});\n",
              "          if (!dataTable) return;\n",
              "\n",
              "          const docLinkHtml = 'Like what you see? Visit the ' +\n",
              "            '<a target=\"_blank\" href=https://colab.research.google.com/notebooks/data_table.ipynb>data table notebook</a>'\n",
              "            + ' to learn more about interactive tables.';\n",
              "          element.innerHTML = '';\n",
              "          dataTable['output_type'] = 'display_data';\n",
              "          await google.colab.output.renderOutput(dataTable, element);\n",
              "          const docLink = document.createElement('div');\n",
              "          docLink.innerHTML = docLinkHtml;\n",
              "          element.appendChild(docLink);\n",
              "        }\n",
              "      </script>\n",
              "    </div>\n",
              "  </div>\n",
              "  "
            ],
            "text/plain": [
              "      age     bmi  ...  region_southeast  region_southwest\n",
              "560    46  19.950  ...                 0                 0\n",
              "1285   47  24.320  ...                 0                 0\n",
              "1142   52  24.860  ...                 1                 0\n",
              "969    39  34.320  ...                 1                 0\n",
              "486    54  21.470  ...                 0                 0\n",
              "...   ...     ...  ...               ...               ...\n",
              "1095   18  31.350  ...                 0                 0\n",
              "1130   39  23.870  ...                 1                 0\n",
              "1294   58  25.175  ...                 0                 0\n",
              "860    37  47.600  ...                 0                 1\n",
              "1126   55  29.900  ...                 0                 1\n",
              "\n",
              "[1070 rows x 11 columns]"
            ]
          },
          "metadata": {},
          "execution_count": 161
        }
      ]
    },
    {
      "cell_type": "code",
      "source": [
        "# Building the model\n",
        "\n",
        "# setting the seed\n",
        "tf.random.set_seed(42)\n",
        "\n",
        "# Creating the model\n",
        "insurance_model = tf.keras.Sequential([\n",
        "      tf.keras.layers.Dense(100),\n",
        "      tf.keras.layers.Dense(10),\n",
        "      tf.keras.layers.Dense(1)\n",
        "])\n",
        "\n",
        "# compile the model\n",
        "insurance_model.compile(loss='mae',\n",
        "              optimizer=tf.keras.optimizers.Adam(learning_rate=0.01),\n",
        "              metrics=['mae'])\n",
        "\n",
        "# fit the model\n",
        "history = insurance_model.fit(X_train, y_train, epochs=200, verbose=0)"
      ],
      "metadata": {
        "id": "WlaPR5QnwDXF"
      },
      "execution_count": 156,
      "outputs": []
    },
    {
      "cell_type": "code",
      "source": [
        "# insurance_model summary\n",
        "insurance_model.summary()"
      ],
      "metadata": {
        "colab": {
          "base_uri": "https://localhost:8080/"
        },
        "id": "Ps_PaRw7xRSN",
        "outputId": "2bf366b0-20d8-488b-9ee5-89441d8ecc40"
      },
      "execution_count": 135,
      "outputs": [
        {
          "output_type": "stream",
          "name": "stdout",
          "text": [
            "Model: \"sequential_20\"\n",
            "_________________________________________________________________\n",
            " Layer (type)                Output Shape              Param #   \n",
            "=================================================================\n",
            " input_layer_1 (Dense)       (None, 50)                600       \n",
            "                                                                 \n",
            " output_layer (Dense)        (None, 1)                 51        \n",
            "                                                                 \n",
            "=================================================================\n",
            "Total params: 651\n",
            "Trainable params: 651\n",
            "Non-trainable params: 0\n",
            "_________________________________________________________________\n"
          ]
        }
      ]
    },
    {
      "cell_type": "code",
      "source": [
        "# Evaluate the test data\n",
        "insurance_model.evaluate(X_test, y_test)"
      ],
      "metadata": {
        "colab": {
          "base_uri": "https://localhost:8080/"
        },
        "id": "UaGWRmavzHHW",
        "outputId": "919439f5-87c9-4927-8fc3-89412d6b62bc"
      },
      "execution_count": 154,
      "outputs": [
        {
          "output_type": "stream",
          "name": "stdout",
          "text": [
            "9/9 [==============================] - 0s 1ms/step - loss: 3186.3911 - mae: 3186.3911\n"
          ]
        },
        {
          "output_type": "execute_result",
          "data": {
            "text/plain": [
              "[3186.39111328125, 3186.39111328125]"
            ]
          },
          "metadata": {},
          "execution_count": 154
        }
      ]
    },
    {
      "cell_type": "code",
      "source": [
        "# If we take a look at our evaluation, we notice that on a average our model is off by 4615.4634,\n",
        "# Where the average value of y_train is 13346.0897, that's considerable since the total amount is only 13346.0897.\n",
        "# Our median shows 9575.4421 so if we're off by 4615.4634, we might be charging them with 5000+, where they should be charged with 9575.4421\n",
        "                   \n",
        "                   # Avg insurance cost\n",
        "y_train.median() , y_train.mean()# The median value is the value in the middle => .median()"
      ],
      "metadata": {
        "colab": {
          "base_uri": "https://localhost:8080/"
        },
        "id": "L2lS7UVUzNzt",
        "outputId": "b9f43919-7b0a-406c-c122-420a7df3b7ee"
      },
      "execution_count": 155,
      "outputs": [
        {
          "output_type": "execute_result",
          "data": {
            "text/plain": [
              "(9575.4421, 13346.089736364489)"
            ]
          },
          "metadata": {},
          "execution_count": 155
        }
      ]
    },
    {
      "cell_type": "code",
      "source": [
        "# Plot history (also known as a loss curve or a training curve)\n",
        "pd.DataFrame(history.history).plot()\n",
        "plt.ylabel(\"loss\")\n",
        "plt.xlabel(\"epochs\")"
      ],
      "metadata": {
        "colab": {
          "base_uri": "https://localhost:8080/",
          "height": 296
        },
        "id": "ZZJ2iq5J1vd0",
        "outputId": "16100c32-4fec-496b-e23b-8135dd177ea0"
      },
      "execution_count": 157,
      "outputs": [
        {
          "output_type": "execute_result",
          "data": {
            "text/plain": [
              "Text(0.5, 0, 'epochs')"
            ]
          },
          "metadata": {},
          "execution_count": 157
        },
        {
          "output_type": "display_data",
          "data": {
            "image/png": "[encoded data removed]",
            "text/plain": [
              "<Figure size 432x288 with 1 Axes>"
            ]
          },
          "metadata": {
            "needs_background": "light"
          }
        }
      ]
    },
    {
      "cell_type": "markdown",
      "source": [
        "❓ **Question**: How long should you train for?\n",
        "\n",
        "It depends. Really... it depends on the problem you're working on. However, many people have asked this question before... so TensorFlow has a solution! It's called the [EarlyStopping Callback](https://www.tensorflow.org/api_docs/python/tf/keras/callbacks/EarlyStopping), which is a TensorFlow component you can add to your model to stop training once it stops improving a certain metric."
      ],
      "metadata": {
        "id": "qGFHiaaG9rvU"
      }
    },
    {
      "cell_type": "markdown",
      "source": [
        "## Preprocessing data (normalization and standardization)\n",
        "\n",
        "A common practice when working with neural networks is to make sure all of the data you pass to them is in the range 0 to 1.\n",
        "\n",
        "This practice is called **normalization** (scaling all values from their original range to, e.g. between 0 and 100,000 to be between 0 and 1).\n",
        "\n",
        "There is another process call **standardization** which converts all of your data to unit variance and 0 mean.\n",
        "\n",
        "These two practices are often part of a preprocessing pipeline (a series of functions to prepare your data for use with neural networks).\n",
        "\n",
        "\n",
        "Knowing this, some of the major steps you'll take to preprocess your data for a neural network include:\n",
        "* Turning all of your data to numbers (a neural network can't handle strings).\n",
        "* Making sure your data is in the right shape (verifying input and output shapes).\n",
        "* [Feature Scaling](https://scikit-learn.org/stable/modules/preprocessing.html#preprocessing-scaler)\n",
        "  * Normalizing data (making sure all values are between 0 and 1). This is done by subtracting the minimum value then dividing by the maximum value minus the minmum. This is also referred to as min-max scaling.\n",
        "  * Standardization (making sure all values have a mean of 0 and a variance of 1). This is done by substracting the mean value from the target feature and then dividing it by the standard deviation.\n",
        "  * Which one should you use?\n",
        "    * **With neural networks you'll tend to favour normalization** as they tend to prefer values between 0 and 1 (you'll see this espcially with image processing), however, you'll often find a neural network can perform pretty well with minimal feature scaling.\n",
        "\n",
        "\n",
        "> 📖 **Resource**: For more on preprocessing data, I'd recommend reading the following resources:\n",
        "   * [Scikit-Learn's documentation on preprocessing data.](https://scikit-learn.org/stable/modules/preprocessing.html#preprocessing-data)\n",
        "   * [Scale, Standardize or Normalize with Scikit-Learn by Jeff Hale.](https://towardsdatascience.com/scale-standardize-or-normalize-with-scikit-learn-6ccc7d176a02)\n"
      ],
      "metadata": {
        "id": "c_ttrFDH-919"
      }
    },
    {
      "cell_type": "code",
      "source": [
        "X"
      ],
      "metadata": {
        "colab": {
          "base_uri": "https://localhost:8080/",
          "height": 424
        },
        "id": "8Bx63HWW-7so",
        "outputId": "397b0f89-cb1a-4acc-c020-0cf7b6dfdbef"
      },
      "execution_count": 162,
      "outputs": [
        {
          "output_type": "execute_result",
          "data": {
            "text/html": [
              "\n",
              "  <div id=\"df-96067edf-d794-4c6e-b1a8-7e589565999a\">\n",
              "    <div class=\"colab-df-container\">\n",
              "      <div>\n",
              "<style scoped>\n",
              "    .dataframe tbody tr th:only-of-type {\n",
              "        vertical-align: middle;\n",
              "    }\n",
              "\n",
              "    .dataframe tbody tr th {\n",
              "        vertical-align: top;\n",
              "    }\n",
              "\n",
              "    .dataframe thead th {\n",
              "        text-align: right;\n",
              "    }\n",
              "</style>\n",
              "<table border=\"1\" class=\"dataframe\">\n",
              "  <thead>\n",
              "    <tr style=\"text-align: right;\">\n",
              "      <th></th>\n",
              "      <th>age</th>\n",
              "      <th>bmi</th>\n",
              "      <th>children</th>\n",
              "      <th>sex_female</th>\n",
              "      <th>sex_male</th>\n",
              "      <th>smoker_no</th>\n",
              "      <th>smoker_yes</th>\n",
              "      <th>region_northeast</th>\n",
              "      <th>region_northwest</th>\n",
              "      <th>region_southeast</th>\n",
              "      <th>region_southwest</th>\n",
              "    </tr>\n",
              "  </thead>\n",
              "  <tbody>\n",
              "    <tr>\n",
              "      <th>0</th>\n",
              "      <td>19</td>\n",
              "      <td>27.900</td>\n",
              "      <td>0</td>\n",
              "      <td>1</td>\n",
              "      <td>0</td>\n",
              "      <td>0</td>\n",
              "      <td>1</td>\n",
              "      <td>0</td>\n",
              "      <td>0</td>\n",
              "      <td>0</td>\n",
              "      <td>1</td>\n",
              "    </tr>\n",
              "    <tr>\n",
              "      <th>1</th>\n",
              "      <td>18</td>\n",
              "      <td>33.770</td>\n",
              "      <td>1</td>\n",
              "      <td>0</td>\n",
              "      <td>1</td>\n",
              "      <td>1</td>\n",
              "      <td>0</td>\n",
              "      <td>0</td>\n",
              "      <td>0</td>\n",
              "      <td>1</td>\n",
              "      <td>0</td>\n",
              "    </tr>\n",
              "    <tr>\n",
              "      <th>2</th>\n",
              "      <td>28</td>\n",
              "      <td>33.000</td>\n",
              "      <td>3</td>\n",
              "      <td>0</td>\n",
              "      <td>1</td>\n",
              "      <td>1</td>\n",
              "      <td>0</td>\n",
              "      <td>0</td>\n",
              "      <td>0</td>\n",
              "      <td>1</td>\n",
              "      <td>0</td>\n",
              "    </tr>\n",
              "    <tr>\n",
              "      <th>3</th>\n",
              "      <td>33</td>\n",
              "      <td>22.705</td>\n",
              "      <td>0</td>\n",
              "      <td>0</td>\n",
              "      <td>1</td>\n",
              "      <td>1</td>\n",
              "      <td>0</td>\n",
              "      <td>0</td>\n",
              "      <td>1</td>\n",
              "      <td>0</td>\n",
              "      <td>0</td>\n",
              "    </tr>\n",
              "    <tr>\n",
              "      <th>4</th>\n",
              "      <td>32</td>\n",
              "      <td>28.880</td>\n",
              "      <td>0</td>\n",
              "      <td>0</td>\n",
              "      <td>1</td>\n",
              "      <td>1</td>\n",
              "      <td>0</td>\n",
              "      <td>0</td>\n",
              "      <td>1</td>\n",
              "      <td>0</td>\n",
              "      <td>0</td>\n",
              "    </tr>\n",
              "    <tr>\n",
              "      <th>...</th>\n",
              "      <td>...</td>\n",
              "      <td>...</td>\n",
              "      <td>...</td>\n",
              "      <td>...</td>\n",
              "      <td>...</td>\n",
              "      <td>...</td>\n",
              "      <td>...</td>\n",
              "      <td>...</td>\n",
              "      <td>...</td>\n",
              "      <td>...</td>\n",
              "      <td>...</td>\n",
              "    </tr>\n",
              "    <tr>\n",
              "      <th>1333</th>\n",
              "      <td>50</td>\n",
              "      <td>30.970</td>\n",
              "      <td>3</td>\n",
              "      <td>0</td>\n",
              "      <td>1</td>\n",
              "      <td>1</td>\n",
              "      <td>0</td>\n",
              "      <td>0</td>\n",
              "      <td>1</td>\n",
              "      <td>0</td>\n",
              "      <td>0</td>\n",
              "    </tr>\n",
              "    <tr>\n",
              "      <th>1334</th>\n",
              "      <td>18</td>\n",
              "      <td>31.920</td>\n",
              "      <td>0</td>\n",
              "      <td>1</td>\n",
              "      <td>0</td>\n",
              "      <td>1</td>\n",
              "      <td>0</td>\n",
              "      <td>1</td>\n",
              "      <td>0</td>\n",
              "      <td>0</td>\n",
              "      <td>0</td>\n",
              "    </tr>\n",
              "    <tr>\n",
              "      <th>1335</th>\n",
              "      <td>18</td>\n",
              "      <td>36.850</td>\n",
              "      <td>0</td>\n",
              "      <td>1</td>\n",
              "      <td>0</td>\n",
              "      <td>1</td>\n",
              "      <td>0</td>\n",
              "      <td>0</td>\n",
              "      <td>0</td>\n",
              "      <td>1</td>\n",
              "      <td>0</td>\n",
              "    </tr>\n",
              "    <tr>\n",
              "      <th>1336</th>\n",
              "      <td>21</td>\n",
              "      <td>25.800</td>\n",
              "      <td>0</td>\n",
              "      <td>1</td>\n",
              "      <td>0</td>\n",
              "      <td>1</td>\n",
              "      <td>0</td>\n",
              "      <td>0</td>\n",
              "      <td>0</td>\n",
              "      <td>0</td>\n",
              "      <td>1</td>\n",
              "    </tr>\n",
              "    <tr>\n",
              "      <th>1337</th>\n",
              "      <td>61</td>\n",
              "      <td>29.070</td>\n",
              "      <td>0</td>\n",
              "      <td>1</td>\n",
              "      <td>0</td>\n",
              "      <td>0</td>\n",
              "      <td>1</td>\n",
              "      <td>0</td>\n",
              "      <td>1</td>\n",
              "      <td>0</td>\n",
              "      <td>0</td>\n",
              "    </tr>\n",
              "  </tbody>\n",
              "</table>\n",
              "<p>1338 rows × 11 columns</p>\n",
              "</div>\n",
              "      <button class=\"colab-df-convert\" onclick=\"convertToInteractive('df-96067edf-d794-4c6e-b1a8-7e589565999a')\"\n",
              "              title=\"Convert this dataframe to an interactive table.\"\n",
              "              style=\"display:none;\">\n",
              "        \n",
              "  <svg xmlns=\"http://www.w3.org/2000/svg\" height=\"24px\"viewBox=\"0 0 24 24\"\n",
              "       width=\"24px\">\n",
              "    <path d=\"M0 0h24v24H0V0z\" fill=\"none\"/>\n",
              "    <path d=\"M18.56 5.44l.94 2.06.94-2.06 2.06-.94-2.06-.94-.94-2.06-.94 2.06-2.06.94zm-11 1L8.5 8.5l.94-2.06 2.06-.94-2.06-.94L8.5 2.5l-.94 2.06-2.06.94zm10 10l.94 2.06.94-2.06 2.06-.94-2.06-.94-.94-2.06-.94 2.06-2.06.94z\"/><path d=\"M17.41 7.96l-1.37-1.37c-.4-.4-.92-.59-1.43-.59-.52 0-1.04.2-1.43.59L10.3 9.45l-7.72 7.72c-.78.78-.78 2.05 0 2.83L4 21.41c.39.39.9.59 1.41.59.51 0 1.02-.2 1.41-.59l7.78-7.78 2.81-2.81c.8-.78.8-2.07 0-2.86zM5.41 20L4 18.59l7.72-7.72 1.47 1.35L5.41 20z\"/>\n",
              "  </svg>\n",
              "      </button>\n",
              "      \n",
              "  <style>\n",
              "    .colab-df-container {\n",
              "      display:flex;\n",
              "      flex-wrap:wrap;\n",
              "      gap: 12px;\n",
              "    }\n",
              "\n",
              "    .colab-df-convert {\n",
              "      background-color: #E8F0FE;\n",
              "      border: none;\n",
              "      border-radius: 50%;\n",
              "      cursor: pointer;\n",
              "      display: none;\n",
              "      fill: #1967D2;\n",
              "      height: 32px;\n",
              "      padding: 0 0 0 0;\n",
              "      width: 32px;\n",
              "    }\n",
              "\n",
              "    .colab-df-convert:hover {\n",
              "      background-color: #E2EBFA;\n",
              "      box-shadow: 0px 1px 2px rgba(60, 64, 67, 0.3), 0px 1px 3px 1px rgba(60, 64, 67, 0.15);\n",
              "      fill: #174EA6;\n",
              "    }\n",
              "\n",
              "    [theme=dark] .colab-df-convert {\n",
              "      background-color: #3B4455;\n",
              "      fill: #D2E3FC;\n",
              "    }\n",
              "\n",
              "    [theme=dark] .colab-df-convert:hover {\n",
              "      background-color: #434B5C;\n",
              "      box-shadow: 0px 1px 3px 1px rgba(0, 0, 0, 0.15);\n",
              "      filter: drop-shadow(0px 1px 2px rgba(0, 0, 0, 0.3));\n",
              "      fill: #FFFFFF;\n",
              "    }\n",
              "  </style>\n",
              "\n",
              "      <script>\n",
              "        const buttonEl =\n",
              "          document.querySelector('#df-96067edf-d794-4c6e-b1a8-7e589565999a button.colab-df-convert');\n",
              "        buttonEl.style.display =\n",
              "          google.colab.kernel.accessAllowed ? 'block' : 'none';\n",
              "\n",
              "        async function convertToInteractive(key) {\n",
              "          const element = document.querySelector('#df-96067edf-d794-4c6e-b1a8-7e589565999a');\n",
              "          const dataTable =\n",
              "            await google.colab.kernel.invokeFunction('convertToInteractive',\n",
              "                                                     [key], {});\n",
              "          if (!dataTable) return;\n",
              "\n",
              "          const docLinkHtml = 'Like what you see? Visit the ' +\n",
              "            '<a target=\"_blank\" href=https://colab.research.google.com/notebooks/data_table.ipynb>data table notebook</a>'\n",
              "            + ' to learn more about interactive tables.';\n",
              "          element.innerHTML = '';\n",
              "          dataTable['output_type'] = 'display_data';\n",
              "          await google.colab.output.renderOutput(dataTable, element);\n",
              "          const docLink = document.createElement('div');\n",
              "          docLink.innerHTML = docLinkHtml;\n",
              "          element.appendChild(docLink);\n",
              "        }\n",
              "      </script>\n",
              "    </div>\n",
              "  </div>\n",
              "  "
            ],
            "text/plain": [
              "      age     bmi  ...  region_southeast  region_southwest\n",
              "0      19  27.900  ...                 0                 1\n",
              "1      18  33.770  ...                 1                 0\n",
              "2      28  33.000  ...                 1                 0\n",
              "3      33  22.705  ...                 0                 0\n",
              "4      32  28.880  ...                 0                 0\n",
              "...   ...     ...  ...               ...               ...\n",
              "1333   50  30.970  ...                 0                 0\n",
              "1334   18  31.920  ...                 0                 0\n",
              "1335   18  36.850  ...                 1                 0\n",
              "1336   21  25.800  ...                 0                 1\n",
              "1337   61  29.070  ...                 0                 0\n",
              "\n",
              "[1338 rows x 11 columns]"
            ]
          },
          "metadata": {},
          "execution_count": 162
        }
      ]
    },
    {
      "cell_type": "code",
      "source": [
        "X[\"age\"].plot(kind=\"hist\") # scale 20 - 60"
      ],
      "metadata": {
        "colab": {
          "base_uri": "https://localhost:8080/",
          "height": 282
        },
        "id": "w3zni6VkSJ1l",
        "outputId": "6585568a-c32a-4a8d-c8d6-8a3e82fcc7a9"
      },
      "execution_count": 166,
      "outputs": [
        {
          "output_type": "execute_result",
          "data": {
            "text/plain": [
              "<matplotlib.axes._subplots.AxesSubplot at 0x7f4c9913e710>"
            ]
          },
          "metadata": {},
          "execution_count": 166
        },
        {
          "output_type": "display_data",
          "data": {
            "image/png": "[encoded data removed]",
            "text/plain": [
              "<Figure size 432x288 with 1 Axes>"
            ]
          },
          "metadata": {
            "needs_background": "light"
          }
        }
      ]
    },
    {
      "cell_type": "code",
      "source": [
        "X[\"bmi\"].plot(kind=\"hist\") # scale 15 - 50"
      ],
      "metadata": {
        "colab": {
          "base_uri": "https://localhost:8080/",
          "height": 282
        },
        "id": "2H6kCsMaSSEE",
        "outputId": "58e3ee9e-b796-43ca-dcbd-e5826d16d0af"
      },
      "execution_count": 167,
      "outputs": [
        {
          "output_type": "execute_result",
          "data": {
            "text/plain": [
              "<matplotlib.axes._subplots.AxesSubplot at 0x7f4c9914e550>"
            ]
          },
          "metadata": {},
          "execution_count": 167
        },
        {
          "output_type": "display_data",
          "data": {
            "image/png": "[encoded data removed]",
            "text/plain": [
              "<Figure size 432x288 with 1 Axes>"
            ]
          },
          "metadata": {
            "needs_background": "light"
          }
        }
      ]
    },
    {
      "cell_type": "code",
      "source": [
        "X[\"children\"].plot(kind=\"hist\") # scale 0 - 5"
      ],
      "metadata": {
        "colab": {
          "base_uri": "https://localhost:8080/",
          "height": 285
        },
        "id": "n9utEihASfvz",
        "outputId": "133c1a86-9253-4d56-d751-aa2d76957518"
      },
      "execution_count": 169,
      "outputs": [
        {
          "output_type": "execute_result",
          "data": {
            "text/plain": [
              "<matplotlib.axes._subplots.AxesSubplot at 0x7f4c990a0310>"
            ]
          },
          "metadata": {},
          "execution_count": 169
        },
        {
          "output_type": "display_data",
          "data": {
            "image/png": "[encoded data removed]",
            "text/plain": [
              "<Figure size 432x288 with 1 Axes>"
            ]
          },
          "metadata": {
            "needs_background": "light"
          }
        }
      ]
    },
    {
      "cell_type": "code",
      "source": [
        "import pandas as pd\n",
        "import matplotlib.pyplot as plt\n",
        "import tensorflow as tf\n",
        "\n",
        "# Reading in the insurance dataframe\n",
        "insurance = pd.read_csv(\"https://raw.githubusercontent.com/MarlboroJamez/machine-learning/main/tensorflow-DL-or-ML/datasets/insurance.csv\")\n",
        "insurance\n"
      ],
      "metadata": {
        "colab": {
          "base_uri": "https://localhost:8080/",
          "height": 655
        },
        "id": "TOkJ9zXQUjh8",
        "outputId": "39bf1d01-1db7-4bfe-e1fa-af9d1f146bb2"
      },
      "execution_count": 170,
      "outputs": [
        {
          "output_type": "execute_result",
          "data": {
            "text/html": [
              "\n",
              "  <div id=\"df-f34b9fdf-b924-42cf-ab20-04830f941b75\">\n",
              "    <div class=\"colab-df-container\">\n",
              "      <div>\n",
              "<style scoped>\n",
              "    .dataframe tbody tr th:only-of-type {\n",
              "        vertical-align: middle;\n",
              "    }\n",
              "\n",
              "    .dataframe tbody tr th {\n",
              "        vertical-align: top;\n",
              "    }\n",
              "\n",
              "    .dataframe thead th {\n",
              "        text-align: right;\n",
              "    }\n",
              "</style>\n",
              "<table border=\"1\" class=\"dataframe\">\n",
              "  <thead>\n",
              "    <tr style=\"text-align: right;\">\n",
              "      <th></th>\n",
              "      <th>age</th>\n",
              "      <th>sex</th>\n",
              "      <th>bmi</th>\n",
              "      <th>children</th>\n",
              "      <th>smoker</th>\n",
              "      <th>region</th>\n",
              "      <th>charges</th>\n",
              "    </tr>\n",
              "  </thead>\n",
              "  <tbody>\n",
              "    <tr>\n",
              "      <th>0</th>\n",
              "      <td>19</td>\n",
              "      <td>female</td>\n",
              "      <td>27.900</td>\n",
              "      <td>0</td>\n",
              "      <td>yes</td>\n",
              "      <td>southwest</td>\n",
              "      <td>16884.92400</td>\n",
              "    </tr>\n",
              "    <tr>\n",
              "      <th>1</th>\n",
              "      <td>18</td>\n",
              "      <td>male</td>\n",
              "      <td>33.770</td>\n",
              "      <td>1</td>\n",
              "      <td>no</td>\n",
              "      <td>southeast</td>\n",
              "      <td>1725.55230</td>\n",
              "    </tr>\n",
              "    <tr>\n",
              "      <th>2</th>\n",
              "      <td>28</td>\n",
              "      <td>male</td>\n",
              "      <td>33.000</td>\n",
              "      <td>3</td>\n",
              "      <td>no</td>\n",
              "      <td>southeast</td>\n",
              "      <td>4449.46200</td>\n",
              "    </tr>\n",
              "    <tr>\n",
              "      <th>3</th>\n",
              "      <td>33</td>\n",
              "      <td>male</td>\n",
              "      <td>22.705</td>\n",
              "      <td>0</td>\n",
              "      <td>no</td>\n",
              "      <td>northwest</td>\n",
              "      <td>21984.47061</td>\n",
              "    </tr>\n",
              "    <tr>\n",
              "      <th>4</th>\n",
              "      <td>32</td>\n",
              "      <td>male</td>\n",
              "      <td>28.880</td>\n",
              "      <td>0</td>\n",
              "      <td>no</td>\n",
              "      <td>northwest</td>\n",
              "      <td>3866.85520</td>\n",
              "    </tr>\n",
              "    <tr>\n",
              "      <th>...</th>\n",
              "      <td>...</td>\n",
              "      <td>...</td>\n",
              "      <td>...</td>\n",
              "      <td>...</td>\n",
              "      <td>...</td>\n",
              "      <td>...</td>\n",
              "      <td>...</td>\n",
              "    </tr>\n",
              "    <tr>\n",
              "      <th>1333</th>\n",
              "      <td>50</td>\n",
              "      <td>male</td>\n",
              "      <td>30.970</td>\n",
              "      <td>3</td>\n",
              "      <td>no</td>\n",
              "      <td>northwest</td>\n",
              "      <td>10600.54830</td>\n",
              "    </tr>\n",
              "    <tr>\n",
              "      <th>1334</th>\n",
              "      <td>18</td>\n",
              "      <td>female</td>\n",
              "      <td>31.920</td>\n",
              "      <td>0</td>\n",
              "      <td>no</td>\n",
              "      <td>northeast</td>\n",
              "      <td>2205.98080</td>\n",
              "    </tr>\n",
              "    <tr>\n",
              "      <th>1335</th>\n",
              "      <td>18</td>\n",
              "      <td>female</td>\n",
              "      <td>36.850</td>\n",
              "      <td>0</td>\n",
              "      <td>no</td>\n",
              "      <td>southeast</td>\n",
              "      <td>1629.83350</td>\n",
              "    </tr>\n",
              "    <tr>\n",
              "      <th>1336</th>\n",
              "      <td>21</td>\n",
              "      <td>female</td>\n",
              "      <td>25.800</td>\n",
              "      <td>0</td>\n",
              "      <td>no</td>\n",
              "      <td>southwest</td>\n",
              "      <td>2007.94500</td>\n",
              "    </tr>\n",
              "    <tr>\n",
              "      <th>1337</th>\n",
              "      <td>61</td>\n",
              "      <td>female</td>\n",
              "      <td>29.070</td>\n",
              "      <td>0</td>\n",
              "      <td>yes</td>\n",
              "      <td>northwest</td>\n",
              "      <td>29141.36030</td>\n",
              "    </tr>\n",
              "  </tbody>\n",
              "</table>\n",
              "<p>1338 rows × 7 columns</p>\n",
              "</div>\n",
              "      <button class=\"colab-df-convert\" onclick=\"convertToInteractive('df-f34b9fdf-b924-42cf-ab20-04830f941b75')\"\n",
              "              title=\"Convert this dataframe to an interactive table.\"\n",
              "              style=\"display:none;\">\n",
              "        \n",
              "  <svg xmlns=\"http://www.w3.org/2000/svg\" height=\"24px\"viewBox=\"0 0 24 24\"\n",
              "       width=\"24px\">\n",
              "    <path d=\"M0 0h24v24H0V0z\" fill=\"none\"/>\n",
              "    <path d=\"M18.56 5.44l.94 2.06.94-2.06 2.06-.94-2.06-.94-.94-2.06-.94 2.06-2.06.94zm-11 1L8.5 8.5l.94-2.06 2.06-.94-2.06-.94L8.5 2.5l-.94 2.06-2.06.94zm10 10l.94 2.06.94-2.06 2.06-.94-2.06-.94-.94-2.06-.94 2.06-2.06.94z\"/><path d=\"M17.41 7.96l-1.37-1.37c-.4-.4-.92-.59-1.43-.59-.52 0-1.04.2-1.43.59L10.3 9.45l-7.72 7.72c-.78.78-.78 2.05 0 2.83L4 21.41c.39.39.9.59 1.41.59.51 0 1.02-.2 1.41-.59l7.78-7.78 2.81-2.81c.8-.78.8-2.07 0-2.86zM5.41 20L4 18.59l7.72-7.72 1.47 1.35L5.41 20z\"/>\n",
              "  </svg>\n",
              "      </button>\n",
              "      \n",
              "  <style>\n",
              "    .colab-df-container {\n",
              "      display:flex;\n",
              "      flex-wrap:wrap;\n",
              "      gap: 12px;\n",
              "    }\n",
              "\n",
              "    .colab-df-convert {\n",
              "      background-color: #E8F0FE;\n",
              "      border: none;\n",
              "      border-radius: 50%;\n",
              "      cursor: pointer;\n",
              "      display: none;\n",
              "      fill: #1967D2;\n",
              "      height: 32px;\n",
              "      padding: 0 0 0 0;\n",
              "      width: 32px;\n",
              "    }\n",
              "\n",
              "    .colab-df-convert:hover {\n",
              "      background-color: #E2EBFA;\n",
              "      box-shadow: 0px 1px 2px rgba(60, 64, 67, 0.3), 0px 1px 3px 1px rgba(60, 64, 67, 0.15);\n",
              "      fill: #174EA6;\n",
              "    }\n",
              "\n",
              "    [theme=dark] .colab-df-convert {\n",
              "      background-color: #3B4455;\n",
              "      fill: #D2E3FC;\n",
              "    }\n",
              "\n",
              "    [theme=dark] .colab-df-convert:hover {\n",
              "      background-color: #434B5C;\n",
              "      box-shadow: 0px 1px 3px 1px rgba(0, 0, 0, 0.15);\n",
              "      filter: drop-shadow(0px 1px 2px rgba(0, 0, 0, 0.3));\n",
              "      fill: #FFFFFF;\n",
              "    }\n",
              "  </style>\n",
              "\n",
              "      <script>\n",
              "        const buttonEl =\n",
              "          document.querySelector('#df-f34b9fdf-b924-42cf-ab20-04830f941b75 button.colab-df-convert');\n",
              "        buttonEl.style.display =\n",
              "          google.colab.kernel.accessAllowed ? 'block' : 'none';\n",
              "\n",
              "        async function convertToInteractive(key) {\n",
              "          const element = document.querySelector('#df-f34b9fdf-b924-42cf-ab20-04830f941b75');\n",
              "          const dataTable =\n",
              "            await google.colab.kernel.invokeFunction('convertToInteractive',\n",
              "                                                     [key], {});\n",
              "          if (!dataTable) return;\n",
              "\n",
              "          const docLinkHtml = 'Like what you see? Visit the ' +\n",
              "            '<a target=\"_blank\" href=https://colab.research.google.com/notebooks/data_table.ipynb>data table notebook</a>'\n",
              "            + ' to learn more about interactive tables.';\n",
              "          element.innerHTML = '';\n",
              "          dataTable['output_type'] = 'display_data';\n",
              "          await google.colab.output.renderOutput(dataTable, element);\n",
              "          const docLink = document.createElement('div');\n",
              "          docLink.innerHTML = docLinkHtml;\n",
              "          element.appendChild(docLink);\n",
              "        }\n",
              "      </script>\n",
              "    </div>\n",
              "  </div>\n",
              "  "
            ],
            "text/plain": [
              "      age     sex     bmi  children smoker     region      charges\n",
              "0      19  female  27.900         0    yes  southwest  16884.92400\n",
              "1      18    male  33.770         1     no  southeast   1725.55230\n",
              "2      28    male  33.000         3     no  southeast   4449.46200\n",
              "3      33    male  22.705         0     no  northwest  21984.47061\n",
              "4      32    male  28.880         0     no  northwest   3866.85520\n",
              "...   ...     ...     ...       ...    ...        ...          ...\n",
              "1333   50    male  30.970         3     no  northwest  10600.54830\n",
              "1334   18  female  31.920         0     no  northeast   2205.98080\n",
              "1335   18  female  36.850         0     no  southeast   1629.83350\n",
              "1336   21  female  25.800         0     no  southwest   2007.94500\n",
              "1337   61  female  29.070         0    yes  northwest  29141.36030\n",
              "\n",
              "[1338 rows x 7 columns]"
            ]
          },
          "metadata": {},
          "execution_count": 170
        }
      ]
    },
    {
      "cell_type": "markdown",
      "source": [
        "We need to transform the non-numerical columns into numbers and this time we'll also be normalizing the numerical columns with different ranges (to make sure they're all between 0 and 1).\n",
        "\n",
        "To do this, we're going to use a few classes from Scikit-Learn:\n",
        "* ```make_column_transformer``` - build a multi-step data preprocessing function for the folllowing trnasformations:\n",
        "   * ```MinMaxScaler``` - make sure all numerical columns are normalized (between 0 and 1).\n",
        "   * ```OneHotEncoder``` - one hot encode the non-numerical columns.\n"
      ],
      "metadata": {
        "id": "VDzd6LH2VEWF"
      }
    },
    {
      "cell_type": "code",
      "source": [
        "from sklearn.compose import make_column_transformer\n",
        "from sklearn.preprocessing import MinMaxScaler, OneHotEncoder\n",
        "from sklearn.model_selection import train_test_split\n",
        "import pandas as pd\n",
        "\n",
        "\n",
        "# Create column transformer\n",
        "ct = make_column_transformer(\n",
        "    (MinMaxScaler(), ['age','bmi','children']), # turn all values in these columns between 0 and 1\n",
        "    (OneHotEncoder(handle_unknown=\"ignore\"), [\"sex\", \"smoker\", \"region\"])\n",
        ")\n",
        "\n",
        "\n",
        "# Create X and Y values\n",
        "X = insurance.drop(\"charges\", axis=1)\n",
        "y = insurance[\"charges\"]\n",
        "\n",
        "\n",
        "# Build our trand and test sets\n",
        "X_train, X_test, y_train, y_test = train_test_split(X, y, test_size=0.20, random_state=42)\n",
        "\n",
        "# Fit the column transformer to our training data\n",
        "ct.fit(X_train)\n",
        "\n",
        "# Transform training and test data with normalizeation (MinMaxScaler and OneHotEncoder)\n",
        "X_train_normal = ct.transform(X_train) \n",
        "X_test_normal = ct.transform(X_test)"
      ],
      "metadata": {
        "id": "kJ7no8wUVlJM"
      },
      "execution_count": 192,
      "outputs": []
    },
    {
      "cell_type": "code",
      "source": [
        "# What does our data look like now? (what it originally was)\n",
        "X_train.loc[0]"
      ],
      "metadata": {
        "colab": {
          "base_uri": "https://localhost:8080/"
        },
        "id": "d9-BEPsLYm4l",
        "outputId": "6795591a-aa2a-4a65-9cbd-4cc9621c18d6"
      },
      "execution_count": 177,
      "outputs": [
        {
          "output_type": "execute_result",
          "data": {
            "text/plain": [
              "age                19\n",
              "sex            female\n",
              "bmi              27.9\n",
              "children            0\n",
              "smoker            yes\n",
              "region      southwest\n",
              "Name: 0, dtype: object"
            ]
          },
          "metadata": {},
          "execution_count": 177
        }
      ]
    },
    {
      "cell_type": "code",
      "source": [
        "X_train_normal[0]"
      ],
      "metadata": {
        "colab": {
          "base_uri": "https://localhost:8080/"
        },
        "id": "KCUyO33lY4lE",
        "outputId": "bc48d7ef-b160-4eed-baa2-89b2b86ea5b1"
      },
      "execution_count": 182,
      "outputs": [
        {
          "output_type": "execute_result",
          "data": {
            "text/plain": [
              "array([0.60869565, 0.10734463, 0.4       , 1.        , 0.        ,\n",
              "       1.        , 0.        , 0.        , 1.        , 0.        ,\n",
              "       0.        ])"
            ]
          },
          "metadata": {},
          "execution_count": 182
        }
      ]
    },
    {
      "cell_type": "code",
      "source": [
        "# how has our shape changed?\n",
        "X_train.shape, X_train_normal.shape"
      ],
      "metadata": {
        "colab": {
          "base_uri": "https://localhost:8080/"
        },
        "id": "9NBzU3RMZLEl",
        "outputId": "edab34ad-feca-47c7-b4bc-58f6626e475b"
      },
      "execution_count": 183,
      "outputs": [
        {
          "output_type": "execute_result",
          "data": {
            "text/plain": [
              "((1070, 6), (1070, 11))"
            ]
          },
          "metadata": {},
          "execution_count": 183
        }
      ]
    },
    {
      "cell_type": "markdown",
      "source": [
        "## Beautiful! Data has been normalized and one hot encoded.\n",
        "\n",
        "Now let's build a neural network model on it."
      ],
      "metadata": {
        "id": "UUmxYTx9Zb_c"
      }
    },
    {
      "cell_type": "code",
      "source": [
        "insurance_model.summary()"
      ],
      "metadata": {
        "colab": {
          "base_uri": "https://localhost:8080/"
        },
        "id": "SPN4tUN7aBJE",
        "outputId": "db18a523-86f3-4d72-b9fc-2090ffcc96f1"
      },
      "execution_count": 185,
      "outputs": [
        {
          "output_type": "stream",
          "name": "stdout",
          "text": [
            "Model: \"sequential_30\"\n",
            "_________________________________________________________________\n",
            " Layer (type)                Output Shape              Param #   \n",
            "=================================================================\n",
            " dense_28 (Dense)            (None, 100)               1200      \n",
            "                                                                 \n",
            " dense_29 (Dense)            (None, 10)                1010      \n",
            "                                                                 \n",
            " dense_30 (Dense)            (None, 1)                 11        \n",
            "                                                                 \n",
            "=================================================================\n",
            "Total params: 2,221\n",
            "Trainable params: 2,221\n",
            "Non-trainable params: 0\n",
            "_________________________________________________________________\n"
          ]
        }
      ]
    },
    {
      "cell_type": "code",
      "source": [
        "# Building the model\n",
        "\n",
        "# setting the seed\n",
        "tf.random.set_seed(42)\n",
        "\n",
        "# Creating the model\n",
        "insurance_model = tf.keras.Sequential([\n",
        "      tf.keras.layers.Dense(100),\n",
        "      tf.keras.layers.Dense(10),\n",
        "      tf.keras.layers.Dense(1)\n",
        "])\n",
        "\n",
        "# compile the model\n",
        "insurance_model.compile(loss='mae',\n",
        "              optimizer=tf.keras.optimizers.Adam(learning_rate=0.01),\n",
        "              metrics=['mae'])\n",
        "\n",
        "# fit the model\n",
        "history = insurance_model.fit(X_train_normal, y_train, epochs=200)"
      ],
      "metadata": {
        "colab": {
          "base_uri": "https://localhost:8080/"
        },
        "id": "HweySad7Zo01",
        "outputId": "42ea3b63-8617-4313-92b0-136b85b098aa"
      },
      "execution_count": 187,
      "outputs": [
        {
          "output_type": "stream",
          "name": "stdout",
          "text": [
            "Epoch 1/200\n",
            "34/34 [==============================] - 0s 1ms/step - loss: 13217.9932 - mae: 13217.9932\n",
            "Epoch 2/200\n",
            "34/34 [==============================] - 0s 1ms/step - loss: 11378.8037 - mae: 11378.8037\n",
            "Epoch 3/200\n",
            "34/34 [==============================] - 0s 1ms/step - loss: 8112.9468 - mae: 8112.9468\n",
            "Epoch 4/200\n",
            "34/34 [==============================] - 0s 1ms/step - loss: 7588.9121 - mae: 7588.9121\n",
            "Epoch 5/200\n",
            "34/34 [==============================] - 0s 1ms/step - loss: 7103.4785 - mae: 7103.4785\n",
            "Epoch 6/200\n",
            "34/34 [==============================] - 0s 1ms/step - loss: 6513.8735 - mae: 6513.8735\n",
            "Epoch 7/200\n",
            "34/34 [==============================] - 0s 1ms/step - loss: 5593.9990 - mae: 5593.9990\n",
            "Epoch 8/200\n",
            "34/34 [==============================] - 0s 1ms/step - loss: 4434.3403 - mae: 4434.3403\n",
            "Epoch 9/200\n",
            "34/34 [==============================] - 0s 1ms/step - loss: 3745.8254 - mae: 3745.8254\n",
            "Epoch 10/200\n",
            "34/34 [==============================] - 0s 1ms/step - loss: 3679.4282 - mae: 3679.4282\n",
            "Epoch 11/200\n",
            "34/34 [==============================] - 0s 1ms/step - loss: 3672.3516 - mae: 3672.3516\n",
            "Epoch 12/200\n",
            "34/34 [==============================] - 0s 1ms/step - loss: 3630.9299 - mae: 3630.9299\n",
            "Epoch 13/200\n",
            "34/34 [==============================] - 0s 2ms/step - loss: 3611.7478 - mae: 3611.7478\n",
            "Epoch 14/200\n",
            "34/34 [==============================] - 0s 1ms/step - loss: 3614.5510 - mae: 3614.5510\n",
            "Epoch 15/200\n",
            "34/34 [==============================] - 0s 1ms/step - loss: 3586.2798 - mae: 3586.2798\n",
            "Epoch 16/200\n",
            "34/34 [==============================] - 0s 1ms/step - loss: 3576.0647 - mae: 3576.0647\n",
            "Epoch 17/200\n",
            "34/34 [==============================] - 0s 1ms/step - loss: 3580.6521 - mae: 3580.6521\n",
            "Epoch 18/200\n",
            "34/34 [==============================] - 0s 1ms/step - loss: 3540.6465 - mae: 3540.6465\n",
            "Epoch 19/200\n",
            "34/34 [==============================] - 0s 1ms/step - loss: 3550.5842 - mae: 3550.5842\n",
            "Epoch 20/200\n",
            "34/34 [==============================] - 0s 1ms/step - loss: 3521.7141 - mae: 3521.7141\n",
            "Epoch 21/200\n",
            "34/34 [==============================] - 0s 1ms/step - loss: 3503.1985 - mae: 3503.1985\n",
            "Epoch 22/200\n",
            "34/34 [==============================] - 0s 1ms/step - loss: 3493.2439 - mae: 3493.2439\n",
            "Epoch 23/200\n",
            "34/34 [==============================] - 0s 1ms/step - loss: 3498.4919 - mae: 3498.4919\n",
            "Epoch 24/200\n",
            "34/34 [==============================] - 0s 1ms/step - loss: 3497.5205 - mae: 3497.5205\n",
            "Epoch 25/200\n",
            "34/34 [==============================] - 0s 1ms/step - loss: 3537.3181 - mae: 3537.3181\n",
            "Epoch 26/200\n",
            "34/34 [==============================] - 0s 1ms/step - loss: 3490.5371 - mae: 3490.5371\n",
            "Epoch 27/200\n",
            "34/34 [==============================] - 0s 1ms/step - loss: 3490.0154 - mae: 3490.0154\n",
            "Epoch 28/200\n",
            "34/34 [==============================] - 0s 1ms/step - loss: 3501.7144 - mae: 3501.7144\n",
            "Epoch 29/200\n",
            "34/34 [==============================] - 0s 1ms/step - loss: 3504.0994 - mae: 3504.0994\n",
            "Epoch 30/200\n",
            "34/34 [==============================] - 0s 1ms/step - loss: 3502.2700 - mae: 3502.2700\n",
            "Epoch 31/200\n",
            "34/34 [==============================] - 0s 1ms/step - loss: 3505.3499 - mae: 3505.3499\n",
            "Epoch 32/200\n",
            "34/34 [==============================] - 0s 1ms/step - loss: 3512.1343 - mae: 3512.1343\n",
            "Epoch 33/200\n",
            "34/34 [==============================] - 0s 1ms/step - loss: 3501.6938 - mae: 3501.6938\n",
            "Epoch 34/200\n",
            "34/34 [==============================] - 0s 2ms/step - loss: 3489.6018 - mae: 3489.6018\n",
            "Epoch 35/200\n",
            "34/34 [==============================] - 0s 1ms/step - loss: 3493.7229 - mae: 3493.7229\n",
            "Epoch 36/200\n",
            "34/34 [==============================] - 0s 1ms/step - loss: 3498.5981 - mae: 3498.5981\n",
            "Epoch 37/200\n",
            "34/34 [==============================] - 0s 1ms/step - loss: 3495.2571 - mae: 3495.2571\n",
            "Epoch 38/200\n",
            "34/34 [==============================] - 0s 1ms/step - loss: 3504.3992 - mae: 3504.3992\n",
            "Epoch 39/200\n",
            "34/34 [==============================] - 0s 1ms/step - loss: 3490.6968 - mae: 3490.6968\n",
            "Epoch 40/200\n",
            "34/34 [==============================] - 0s 1ms/step - loss: 3527.0017 - mae: 3527.0017\n",
            "Epoch 41/200\n",
            "34/34 [==============================] - 0s 1ms/step - loss: 3506.1567 - mae: 3506.1567\n",
            "Epoch 42/200\n",
            "34/34 [==============================] - 0s 2ms/step - loss: 3498.8540 - mae: 3498.8540\n",
            "Epoch 43/200\n",
            "34/34 [==============================] - 0s 1ms/step - loss: 3493.8936 - mae: 3493.8936\n",
            "Epoch 44/200\n",
            "34/34 [==============================] - 0s 1ms/step - loss: 3487.6101 - mae: 3487.6101\n",
            "Epoch 45/200\n",
            "34/34 [==============================] - 0s 1ms/step - loss: 3481.6379 - mae: 3481.6379\n",
            "Epoch 46/200\n",
            "34/34 [==============================] - 0s 1ms/step - loss: 3493.5737 - mae: 3493.5737\n",
            "Epoch 47/200\n",
            "34/34 [==============================] - 0s 1ms/step - loss: 3492.7285 - mae: 3492.7285\n",
            "Epoch 48/200\n",
            "34/34 [==============================] - 0s 1ms/step - loss: 3486.7761 - mae: 3486.7761\n",
            "Epoch 49/200\n",
            "34/34 [==============================] - 0s 1ms/step - loss: 3506.4573 - mae: 3506.4573\n",
            "Epoch 50/200\n",
            "34/34 [==============================] - 0s 1ms/step - loss: 3507.3860 - mae: 3507.3860\n",
            "Epoch 51/200\n",
            "34/34 [==============================] - 0s 1ms/step - loss: 3483.9292 - mae: 3483.9292\n",
            "Epoch 52/200\n",
            "34/34 [==============================] - 0s 1ms/step - loss: 3487.0686 - mae: 3487.0686\n",
            "Epoch 53/200\n",
            "34/34 [==============================] - 0s 1ms/step - loss: 3488.9575 - mae: 3488.9575\n",
            "Epoch 54/200\n",
            "34/34 [==============================] - 0s 1ms/step - loss: 3508.0967 - mae: 3508.0967\n",
            "Epoch 55/200\n",
            "34/34 [==============================] - 0s 1ms/step - loss: 3518.2043 - mae: 3518.2043\n",
            "Epoch 56/200\n",
            "34/34 [==============================] - 0s 1ms/step - loss: 3489.7539 - mae: 3489.7539\n",
            "Epoch 57/200\n",
            "34/34 [==============================] - 0s 1ms/step - loss: 3493.5212 - mae: 3493.5212\n",
            "Epoch 58/200\n",
            "34/34 [==============================] - 0s 1ms/step - loss: 3485.7085 - mae: 3485.7085\n",
            "Epoch 59/200\n",
            "34/34 [==============================] - 0s 1ms/step - loss: 3492.0991 - mae: 3492.0991\n",
            "Epoch 60/200\n",
            "34/34 [==============================] - 0s 1ms/step - loss: 3497.0183 - mae: 3497.0183\n",
            "Epoch 61/200\n",
            "34/34 [==============================] - 0s 1ms/step - loss: 3505.0596 - mae: 3505.0596\n",
            "Epoch 62/200\n",
            "34/34 [==============================] - 0s 1ms/step - loss: 3495.8901 - mae: 3495.8901\n",
            "Epoch 63/200\n",
            "34/34 [==============================] - 0s 1ms/step - loss: 3487.5139 - mae: 3487.5139\n",
            "Epoch 64/200\n",
            "34/34 [==============================] - 0s 1ms/step - loss: 3491.8831 - mae: 3491.8831\n",
            "Epoch 65/200\n",
            "34/34 [==============================] - 0s 1ms/step - loss: 3482.8384 - mae: 3482.8384\n",
            "Epoch 66/200\n",
            "34/34 [==============================] - 0s 1ms/step - loss: 3500.3745 - mae: 3500.3745\n",
            "Epoch 67/200\n",
            "34/34 [==============================] - 0s 1ms/step - loss: 3490.9329 - mae: 3490.9329\n",
            "Epoch 68/200\n",
            "34/34 [==============================] - 0s 1ms/step - loss: 3489.6877 - mae: 3489.6877\n",
            "Epoch 69/200\n",
            "34/34 [==============================] - 0s 1ms/step - loss: 3484.9893 - mae: 3484.9893\n",
            "Epoch 70/200\n",
            "34/34 [==============================] - 0s 1ms/step - loss: 3491.7822 - mae: 3491.7822\n",
            "Epoch 71/200\n",
            "34/34 [==============================] - 0s 1ms/step - loss: 3488.0537 - mae: 3488.0537\n",
            "Epoch 72/200\n",
            "34/34 [==============================] - 0s 1ms/step - loss: 3487.3447 - mae: 3487.3447\n",
            "Epoch 73/200\n",
            "34/34 [==============================] - 0s 1ms/step - loss: 3507.2427 - mae: 3507.2427\n",
            "Epoch 74/200\n",
            "34/34 [==============================] - 0s 1ms/step - loss: 3506.1013 - mae: 3506.1013\n",
            "Epoch 75/200\n",
            "34/34 [==============================] - 0s 2ms/step - loss: 3483.0408 - mae: 3483.0408\n",
            "Epoch 76/200\n",
            "34/34 [==============================] - 0s 1ms/step - loss: 3493.0015 - mae: 3493.0015\n",
            "Epoch 77/200\n",
            "34/34 [==============================] - 0s 1ms/step - loss: 3483.5488 - mae: 3483.5488\n",
            "Epoch 78/200\n",
            "34/34 [==============================] - 0s 1ms/step - loss: 3492.7549 - mae: 3492.7549\n",
            "Epoch 79/200\n",
            "34/34 [==============================] - 0s 1ms/step - loss: 3496.9158 - mae: 3496.9158\n",
            "Epoch 80/200\n",
            "34/34 [==============================] - 0s 1ms/step - loss: 3502.6733 - mae: 3502.6733\n",
            "Epoch 81/200\n",
            "34/34 [==============================] - 0s 1ms/step - loss: 3497.1382 - mae: 3497.1382\n",
            "Epoch 82/200\n",
            "34/34 [==============================] - 0s 1ms/step - loss: 3490.7539 - mae: 3490.7539\n",
            "Epoch 83/200\n",
            "34/34 [==============================] - 0s 1ms/step - loss: 3494.0420 - mae: 3494.0420\n",
            "Epoch 84/200\n",
            "34/34 [==============================] - 0s 1ms/step - loss: 3498.2766 - mae: 3498.2766\n",
            "Epoch 85/200\n",
            "34/34 [==============================] - 0s 1ms/step - loss: 3484.4072 - mae: 3484.4072\n",
            "Epoch 86/200\n",
            "34/34 [==============================] - 0s 1ms/step - loss: 3485.0288 - mae: 3485.0288\n",
            "Epoch 87/200\n",
            "34/34 [==============================] - 0s 1ms/step - loss: 3487.6387 - mae: 3487.6387\n",
            "Epoch 88/200\n",
            "34/34 [==============================] - 0s 1ms/step - loss: 3486.0020 - mae: 3486.0020\n",
            "Epoch 89/200\n",
            "34/34 [==============================] - 0s 1ms/step - loss: 3497.5845 - mae: 3497.5845\n",
            "Epoch 90/200\n",
            "34/34 [==============================] - 0s 1ms/step - loss: 3492.7412 - mae: 3492.7412\n",
            "Epoch 91/200\n",
            "34/34 [==============================] - 0s 1ms/step - loss: 3487.6216 - mae: 3487.6216\n",
            "Epoch 92/200\n",
            "34/34 [==============================] - 0s 1ms/step - loss: 3496.1606 - mae: 3496.1606\n",
            "Epoch 93/200\n",
            "34/34 [==============================] - 0s 1ms/step - loss: 3495.4802 - mae: 3495.4802\n",
            "Epoch 94/200\n",
            "34/34 [==============================] - 0s 1ms/step - loss: 3485.4075 - mae: 3485.4075\n",
            "Epoch 95/200\n",
            "34/34 [==============================] - 0s 2ms/step - loss: 3490.6733 - mae: 3490.6733\n",
            "Epoch 96/200\n",
            "34/34 [==============================] - 0s 1ms/step - loss: 3492.5537 - mae: 3492.5537\n",
            "Epoch 97/200\n",
            "34/34 [==============================] - 0s 1ms/step - loss: 3508.5005 - mae: 3508.5005\n",
            "Epoch 98/200\n",
            "34/34 [==============================] - 0s 1ms/step - loss: 3482.5139 - mae: 3482.5139\n",
            "Epoch 99/200\n",
            "34/34 [==============================] - 0s 1ms/step - loss: 3516.8071 - mae: 3516.8071\n",
            "Epoch 100/200\n",
            "34/34 [==============================] - 0s 1ms/step - loss: 3505.2725 - mae: 3505.2725\n",
            "Epoch 101/200\n",
            "34/34 [==============================] - 0s 1ms/step - loss: 3489.4016 - mae: 3489.4016\n",
            "Epoch 102/200\n",
            "34/34 [==============================] - 0s 1ms/step - loss: 3497.8396 - mae: 3497.8396\n",
            "Epoch 103/200\n",
            "34/34 [==============================] - 0s 1ms/step - loss: 3511.7856 - mae: 3511.7856\n",
            "Epoch 104/200\n",
            "34/34 [==============================] - 0s 1ms/step - loss: 3481.9985 - mae: 3481.9985\n",
            "Epoch 105/200\n",
            "34/34 [==============================] - 0s 1ms/step - loss: 3506.5483 - mae: 3506.5483\n",
            "Epoch 106/200\n",
            "34/34 [==============================] - 0s 1ms/step - loss: 3494.0259 - mae: 3494.0259\n",
            "Epoch 107/200\n",
            "34/34 [==============================] - 0s 1ms/step - loss: 3480.1238 - mae: 3480.1238\n",
            "Epoch 108/200\n",
            "34/34 [==============================] - 0s 1ms/step - loss: 3488.8628 - mae: 3488.8628\n",
            "Epoch 109/200\n",
            "34/34 [==============================] - 0s 1ms/step - loss: 3493.9058 - mae: 3493.9058\n",
            "Epoch 110/200\n",
            "34/34 [==============================] - 0s 1ms/step - loss: 3483.6116 - mae: 3483.6116\n",
            "Epoch 111/200\n",
            "34/34 [==============================] - 0s 1ms/step - loss: 3502.5166 - mae: 3502.5166\n",
            "Epoch 112/200\n",
            "34/34 [==============================] - 0s 1ms/step - loss: 3494.8936 - mae: 3494.8936\n",
            "Epoch 113/200\n",
            "34/34 [==============================] - 0s 1ms/step - loss: 3508.9204 - mae: 3508.9204\n",
            "Epoch 114/200\n",
            "34/34 [==============================] - 0s 1ms/step - loss: 3497.1028 - mae: 3497.1028\n",
            "Epoch 115/200\n",
            "34/34 [==============================] - 0s 1ms/step - loss: 3502.0051 - mae: 3502.0051\n",
            "Epoch 116/200\n",
            "34/34 [==============================] - 0s 1ms/step - loss: 3503.0879 - mae: 3503.0879\n",
            "Epoch 117/200\n",
            "34/34 [==============================] - 0s 1ms/step - loss: 3490.5046 - mae: 3490.5046\n",
            "Epoch 118/200\n",
            "34/34 [==============================] - 0s 1ms/step - loss: 3485.3435 - mae: 3485.3435\n",
            "Epoch 119/200\n",
            "34/34 [==============================] - 0s 1ms/step - loss: 3489.0339 - mae: 3489.0339\n",
            "Epoch 120/200\n",
            "34/34 [==============================] - 0s 2ms/step - loss: 3490.5210 - mae: 3490.5210\n",
            "Epoch 121/200\n",
            "34/34 [==============================] - 0s 1ms/step - loss: 3498.1113 - mae: 3498.1113\n",
            "Epoch 122/200\n",
            "34/34 [==============================] - 0s 1ms/step - loss: 3499.8789 - mae: 3499.8789\n",
            "Epoch 123/200\n",
            "34/34 [==============================] - 0s 1ms/step - loss: 3502.5439 - mae: 3502.5439\n",
            "Epoch 124/200\n",
            "34/34 [==============================] - 0s 1ms/step - loss: 3487.3613 - mae: 3487.3613\n",
            "Epoch 125/200\n",
            "34/34 [==============================] - 0s 1ms/step - loss: 3492.5430 - mae: 3492.5430\n",
            "Epoch 126/200\n",
            "34/34 [==============================] - 0s 1ms/step - loss: 3505.6794 - mae: 3505.6794\n",
            "Epoch 127/200\n",
            "34/34 [==============================] - 0s 1ms/step - loss: 3499.9326 - mae: 3499.9326\n",
            "Epoch 128/200\n",
            "34/34 [==============================] - 0s 1ms/step - loss: 3497.1772 - mae: 3497.1772\n",
            "Epoch 129/200\n",
            "34/34 [==============================] - 0s 1ms/step - loss: 3520.2637 - mae: 3520.2637\n",
            "Epoch 130/200\n",
            "34/34 [==============================] - 0s 1ms/step - loss: 3503.3940 - mae: 3503.3940\n",
            "Epoch 131/200\n",
            "34/34 [==============================] - 0s 1ms/step - loss: 3486.6509 - mae: 3486.6509\n",
            "Epoch 132/200\n",
            "34/34 [==============================] - 0s 1ms/step - loss: 3492.0288 - mae: 3492.0288\n",
            "Epoch 133/200\n",
            "34/34 [==============================] - 0s 1ms/step - loss: 3484.1199 - mae: 3484.1199\n",
            "Epoch 134/200\n",
            "34/34 [==============================] - 0s 1ms/step - loss: 3488.2021 - mae: 3488.2021\n",
            "Epoch 135/200\n",
            "34/34 [==============================] - 0s 1ms/step - loss: 3491.5498 - mae: 3491.5498\n",
            "Epoch 136/200\n",
            "34/34 [==============================] - 0s 1ms/step - loss: 3480.0271 - mae: 3480.0271\n",
            "Epoch 137/200\n",
            "34/34 [==============================] - 0s 2ms/step - loss: 3490.7217 - mae: 3490.7217\n",
            "Epoch 138/200\n",
            "34/34 [==============================] - 0s 1ms/step - loss: 3492.8591 - mae: 3492.8591\n",
            "Epoch 139/200\n",
            "34/34 [==============================] - 0s 1ms/step - loss: 3490.6423 - mae: 3490.6423\n",
            "Epoch 140/200\n",
            "34/34 [==============================] - 0s 1ms/step - loss: 3493.8877 - mae: 3493.8877\n",
            "Epoch 141/200\n",
            "34/34 [==============================] - 0s 1ms/step - loss: 3510.3594 - mae: 3510.3594\n",
            "Epoch 142/200\n",
            "34/34 [==============================] - 0s 1ms/step - loss: 3504.1895 - mae: 3504.1895\n",
            "Epoch 143/200\n",
            "34/34 [==============================] - 0s 1ms/step - loss: 3481.9036 - mae: 3481.9036\n",
            "Epoch 144/200\n",
            "34/34 [==============================] - 0s 1ms/step - loss: 3496.0750 - mae: 3496.0750\n",
            "Epoch 145/200\n",
            "34/34 [==============================] - 0s 1ms/step - loss: 3491.1768 - mae: 3491.1768\n",
            "Epoch 146/200\n",
            "34/34 [==============================] - 0s 1ms/step - loss: 3498.3254 - mae: 3498.3254\n",
            "Epoch 147/200\n",
            "34/34 [==============================] - 0s 1ms/step - loss: 3525.7332 - mae: 3525.7332\n",
            "Epoch 148/200\n",
            "34/34 [==============================] - 0s 1ms/step - loss: 3495.1875 - mae: 3495.1875\n",
            "Epoch 149/200\n",
            "34/34 [==============================] - 0s 1ms/step - loss: 3498.6919 - mae: 3498.6919\n",
            "Epoch 150/200\n",
            "34/34 [==============================] - 0s 1ms/step - loss: 3487.2056 - mae: 3487.2056\n",
            "Epoch 151/200\n",
            "34/34 [==============================] - 0s 1ms/step - loss: 3500.4353 - mae: 3500.4353\n",
            "Epoch 152/200\n",
            "34/34 [==============================] - 0s 1ms/step - loss: 3497.0078 - mae: 3497.0078\n",
            "Epoch 153/200\n",
            "34/34 [==============================] - 0s 1ms/step - loss: 3501.5020 - mae: 3501.5020\n",
            "Epoch 154/200\n",
            "34/34 [==============================] - 0s 1ms/step - loss: 3490.9460 - mae: 3490.9460\n",
            "Epoch 155/200\n",
            "34/34 [==============================] - 0s 1ms/step - loss: 3500.3250 - mae: 3500.3250\n",
            "Epoch 156/200\n",
            "34/34 [==============================] - 0s 1ms/step - loss: 3488.5510 - mae: 3488.5510\n",
            "Epoch 157/200\n",
            "34/34 [==============================] - 0s 2ms/step - loss: 3508.5571 - mae: 3508.5571\n",
            "Epoch 158/200\n",
            "34/34 [==============================] - 0s 1ms/step - loss: 3495.6182 - mae: 3495.6182\n",
            "Epoch 159/200\n",
            "34/34 [==============================] - 0s 1ms/step - loss: 3481.1992 - mae: 3481.1992\n",
            "Epoch 160/200\n",
            "34/34 [==============================] - 0s 1ms/step - loss: 3496.2793 - mae: 3496.2793\n",
            "Epoch 161/200\n",
            "34/34 [==============================] - 0s 1ms/step - loss: 3495.3518 - mae: 3495.3518\n",
            "Epoch 162/200\n",
            "34/34 [==============================] - 0s 1ms/step - loss: 3485.0200 - mae: 3485.0200\n",
            "Epoch 163/200\n",
            "34/34 [==============================] - 0s 2ms/step - loss: 3488.5378 - mae: 3488.5378\n",
            "Epoch 164/200\n",
            "34/34 [==============================] - 0s 1ms/step - loss: 3494.1711 - mae: 3494.1711\n",
            "Epoch 165/200\n",
            "34/34 [==============================] - 0s 1ms/step - loss: 3483.8367 - mae: 3483.8367\n",
            "Epoch 166/200\n",
            "34/34 [==============================] - 0s 1ms/step - loss: 3485.3071 - mae: 3485.3071\n",
            "Epoch 167/200\n",
            "34/34 [==============================] - 0s 1ms/step - loss: 3489.1882 - mae: 3489.1882\n",
            "Epoch 168/200\n",
            "34/34 [==============================] - 0s 1ms/step - loss: 3490.7271 - mae: 3490.7271\n",
            "Epoch 169/200\n",
            "34/34 [==============================] - 0s 1ms/step - loss: 3485.2510 - mae: 3485.2510\n",
            "Epoch 170/200\n",
            "34/34 [==============================] - 0s 1ms/step - loss: 3487.9397 - mae: 3487.9397\n",
            "Epoch 171/200\n",
            "34/34 [==============================] - 0s 1ms/step - loss: 3504.9241 - mae: 3504.9241\n",
            "Epoch 172/200\n",
            "34/34 [==============================] - 0s 1ms/step - loss: 3493.4343 - mae: 3493.4343\n",
            "Epoch 173/200\n",
            "34/34 [==============================] - 0s 1ms/step - loss: 3491.7427 - mae: 3491.7427\n",
            "Epoch 174/200\n",
            "34/34 [==============================] - 0s 1ms/step - loss: 3489.3157 - mae: 3489.3157\n",
            "Epoch 175/200\n",
            "34/34 [==============================] - 0s 1ms/step - loss: 3483.2800 - mae: 3483.2800\n",
            "Epoch 176/200\n",
            "34/34 [==============================] - 0s 1ms/step - loss: 3515.9644 - mae: 3515.9644\n",
            "Epoch 177/200\n",
            "34/34 [==============================] - 0s 2ms/step - loss: 3502.9092 - mae: 3502.9092\n",
            "Epoch 178/200\n",
            "34/34 [==============================] - 0s 1ms/step - loss: 3481.5510 - mae: 3481.5510\n",
            "Epoch 179/200\n",
            "34/34 [==============================] - 0s 1ms/step - loss: 3507.3269 - mae: 3507.3269\n",
            "Epoch 180/200\n",
            "34/34 [==============================] - 0s 1ms/step - loss: 3506.9119 - mae: 3506.9119\n",
            "Epoch 181/200\n",
            "34/34 [==============================] - 0s 2ms/step - loss: 3496.2395 - mae: 3496.2395\n",
            "Epoch 182/200\n",
            "34/34 [==============================] - 0s 1ms/step - loss: 3496.0000 - mae: 3496.0000\n",
            "Epoch 183/200\n",
            "34/34 [==============================] - 0s 1ms/step - loss: 3490.1824 - mae: 3490.1824\n",
            "Epoch 184/200\n",
            "34/34 [==============================] - 0s 1ms/step - loss: 3502.1602 - mae: 3502.1602\n",
            "Epoch 185/200\n",
            "34/34 [==============================] - 0s 1ms/step - loss: 3494.8821 - mae: 3494.8821\n",
            "Epoch 186/200\n",
            "34/34 [==============================] - 0s 1ms/step - loss: 3514.9897 - mae: 3514.9897\n",
            "Epoch 187/200\n",
            "34/34 [==============================] - 0s 1ms/step - loss: 3499.8855 - mae: 3499.8855\n",
            "Epoch 188/200\n",
            "34/34 [==============================] - 0s 1ms/step - loss: 3492.5801 - mae: 3492.5801\n",
            "Epoch 189/200\n",
            "34/34 [==============================] - 0s 1ms/step - loss: 3491.5933 - mae: 3491.5933\n",
            "Epoch 190/200\n",
            "34/34 [==============================] - 0s 1ms/step - loss: 3500.3655 - mae: 3500.3655\n",
            "Epoch 191/200\n",
            "34/34 [==============================] - 0s 1ms/step - loss: 3513.9014 - mae: 3513.9014\n",
            "Epoch 192/200\n",
            "34/34 [==============================] - 0s 1ms/step - loss: 3491.8997 - mae: 3491.8997\n",
            "Epoch 193/200\n",
            "34/34 [==============================] - 0s 1ms/step - loss: 3495.1860 - mae: 3495.1860\n",
            "Epoch 194/200\n",
            "34/34 [==============================] - 0s 1ms/step - loss: 3496.3594 - mae: 3496.3594\n",
            "Epoch 195/200\n",
            "34/34 [==============================] - 0s 1ms/step - loss: 3484.2698 - mae: 3484.2698\n",
            "Epoch 196/200\n",
            "34/34 [==============================] - 0s 1ms/step - loss: 3506.1396 - mae: 3506.1396\n",
            "Epoch 197/200\n",
            "34/34 [==============================] - 0s 2ms/step - loss: 3490.6074 - mae: 3490.6074\n",
            "Epoch 198/200\n",
            "34/34 [==============================] - 0s 1ms/step - loss: 3500.8650 - mae: 3500.8650\n",
            "Epoch 199/200\n",
            "34/34 [==============================] - 0s 1ms/step - loss: 3491.3103 - mae: 3491.3103\n",
            "Epoch 200/200\n",
            "34/34 [==============================] - 0s 1ms/step - loss: 3481.7676 - mae: 3481.7676\n"
          ]
        }
      ]
    },
    {
      "cell_type": "code",
      "source": [
        "# Evaluate our insurance model on normalize data\n",
        "insurance_model.evaluate(X_test_normal, y_test)"
      ],
      "metadata": {
        "colab": {
          "base_uri": "https://localhost:8080/"
        },
        "id": "jlLwmgHxarW-",
        "outputId": "372a8e0d-2464-4475-8170-30c71baa3d9f"
      },
      "execution_count": 191,
      "outputs": [
        {
          "output_type": "stream",
          "name": "stdout",
          "text": [
            "9/9 [==============================] - 0s 2ms/step - loss: 3162.5098 - mae: 3162.5098\n"
          ]
        },
        {
          "output_type": "execute_result",
          "data": {
            "text/plain": [
              "[3162.509765625, 3162.509765625]"
            ]
          },
          "metadata": {},
          "execution_count": 191
        }
      ]
    },
    {
      "cell_type": "code",
      "source": [
        "# Un-normalized data evaluation results\n",
        "# 9/9 [==============================] - 0s 1ms/step - loss: 3186.3911 - mae: 3186.3911"
      ],
      "metadata": {
        "id": "Tk4eK0P_bY48"
      },
      "execution_count": 190,
      "outputs": []
    },
    {
      "cell_type": "code",
      "source": [
        "# Plot history (also known as a loss curve or a training curve)\n",
        "pd.DataFrame(history.history).plot()\n",
        "plt.ylabel(\"loss\")\n",
        "plt.xlabel(\"epochs\")"
      ],
      "metadata": {
        "colab": {
          "base_uri": "https://localhost:8080/",
          "height": 296
        },
        "id": "sfz7pGKObuNy",
        "outputId": "7daf53ab-d0de-4313-814a-f582bc075fad"
      },
      "execution_count": 193,
      "outputs": [
        {
          "output_type": "execute_result",
          "data": {
            "text/plain": [
              "Text(0.5, 0, 'epochs')"
            ]
          },
          "metadata": {},
          "execution_count": 193
        },
        {
          "output_type": "display_data",
          "data": {
            "image/png": "[encoded data removed]",
            "text/plain": [
              "<Figure size 432x288 with 1 Axes>"
            ]
          },
          "metadata": {
            "needs_background": "light"
          }
        }
      ]
    },
    {
      "cell_type": "markdown",
      "source": [
        "This is **one of the main benefits of normalization**: faster convergence time (a fancy way of saying, your model gets to better results faster).\n",
        "\n"
      ],
      "metadata": {
        "id": "qAqwK9HScNkl"
      }
    },
    {
      "cell_type": "markdown",
      "source": [
        "# 📖 Extra curriculum\n",
        "\n",
        "* [MIT introduction deep learning lecture 1](https://youtu.be/njKP3FqW3Sk) - gives a great overview of what's happening behind all of the code we're running.\n",
        "* Reading: 1-hour of [Chapter 1 of Neural Networks and Deep Learning](http://neuralnetworksanddeeplearning.com/chap1.html) by Michael Nielson - a great in-depth and hands-on example of the intuition behind neural networks.\n",
        "* Practice your regression modelling with TensorFlow, also have a look at [Lion Bridge's collection of datasets](https://lionbridge.ai/datasets/) or [Kaggle's datasets](https://www.kaggle.com/data), find a regression dataset which sparks your interest and try to model. \n"
      ],
      "metadata": {
        "id": "8kvs-ynociCc"
      }
    },
    {
      "cell_type": "code",
      "source": [
        ""
      ],
      "metadata": {
        "id": "WVdrcg06chRf"
      },
      "execution_count": null,
      "outputs": []
    }
  ]
}